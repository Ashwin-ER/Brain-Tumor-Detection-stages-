{
  "cells": [
    {
      "cell_type": "code",
      "execution_count": null,
      "metadata": {
        "colab": {
          "base_uri": "https://localhost:8080/"
        },
        "id": "fkmfg5Z3jj_F",
        "outputId": "3f843301-a234-483e-9445-dcc6f7356391"
      },
      "outputs": [
        {
          "name": "stdout",
          "output_type": "stream",
          "text": [
            "Collecting ultralytics\n",
            "  Downloading ultralytics-8.2.86-py3-none-any.whl.metadata (41 kB)\n",
            "\u001b[?25l     \u001b[90m━━━━━━━━━━━━━━━━━━━━━━━━━━━━━━━━━━━━━━━━\u001b[0m \u001b[32m0.0/41.8 kB\u001b[0m \u001b[31m?\u001b[0m eta \u001b[36m-:--:--\u001b[0m\r\u001b[2K     \u001b[90m━━━━━━━━━━━━━━━━━━━━━━━━━━━━━━━━━━━━━━━━\u001b[0m \u001b[32m41.8/41.8 kB\u001b[0m \u001b[31m2.9 MB/s\u001b[0m eta \u001b[36m0:00:00\u001b[0m\n",
            "\u001b[?25hRequirement already satisfied: numpy<2.0.0,>=1.23.0 in /usr/local/lib/python3.10/dist-packages (from ultralytics) (1.26.4)\n",
            "Requirement already satisfied: matplotlib>=3.3.0 in /usr/local/lib/python3.10/dist-packages (from ultralytics) (3.7.1)\n",
            "Requirement already satisfied: opencv-python>=4.6.0 in /usr/local/lib/python3.10/dist-packages (from ultralytics) (4.10.0.84)\n",
            "Requirement already satisfied: pillow>=7.1.2 in /usr/local/lib/python3.10/dist-packages (from ultralytics) (9.4.0)\n",
            "Requirement already satisfied: pyyaml>=5.3.1 in /usr/local/lib/python3.10/dist-packages (from ultralytics) (6.0.2)\n",
            "Requirement already satisfied: requests>=2.23.0 in /usr/local/lib/python3.10/dist-packages (from ultralytics) (2.32.3)\n",
            "Requirement already satisfied: scipy>=1.4.1 in /usr/local/lib/python3.10/dist-packages (from ultralytics) (1.13.1)\n",
            "Requirement already satisfied: torch>=1.8.0 in /usr/local/lib/python3.10/dist-packages (from ultralytics) (2.4.0+cu121)\n",
            "Requirement already satisfied: torchvision>=0.9.0 in /usr/local/lib/python3.10/dist-packages (from ultralytics) (0.19.0+cu121)\n",
            "Requirement already satisfied: tqdm>=4.64.0 in /usr/local/lib/python3.10/dist-packages (from ultralytics) (4.66.5)\n",
            "Requirement already satisfied: psutil in /usr/local/lib/python3.10/dist-packages (from ultralytics) (5.9.5)\n",
            "Requirement already satisfied: py-cpuinfo in /usr/local/lib/python3.10/dist-packages (from ultralytics) (9.0.0)\n",
            "Requirement already satisfied: pandas>=1.1.4 in /usr/local/lib/python3.10/dist-packages (from ultralytics) (2.1.4)\n",
            "Requirement already satisfied: seaborn>=0.11.0 in /usr/local/lib/python3.10/dist-packages (from ultralytics) (0.13.1)\n",
            "Collecting ultralytics-thop>=2.0.0 (from ultralytics)\n",
            "  Downloading ultralytics_thop-2.0.6-py3-none-any.whl.metadata (9.1 kB)\n",
            "Requirement already satisfied: contourpy>=1.0.1 in /usr/local/lib/python3.10/dist-packages (from matplotlib>=3.3.0->ultralytics) (1.2.1)\n",
            "Requirement already satisfied: cycler>=0.10 in /usr/local/lib/python3.10/dist-packages (from matplotlib>=3.3.0->ultralytics) (0.12.1)\n",
            "Requirement already satisfied: fonttools>=4.22.0 in /usr/local/lib/python3.10/dist-packages (from matplotlib>=3.3.0->ultralytics) (4.53.1)\n",
            "Requirement already satisfied: kiwisolver>=1.0.1 in /usr/local/lib/python3.10/dist-packages (from matplotlib>=3.3.0->ultralytics) (1.4.5)\n",
            "Requirement already satisfied: packaging>=20.0 in /usr/local/lib/python3.10/dist-packages (from matplotlib>=3.3.0->ultralytics) (24.1)\n",
            "Requirement already satisfied: pyparsing>=2.3.1 in /usr/local/lib/python3.10/dist-packages (from matplotlib>=3.3.0->ultralytics) (3.1.4)\n",
            "Requirement already satisfied: python-dateutil>=2.7 in /usr/local/lib/python3.10/dist-packages (from matplotlib>=3.3.0->ultralytics) (2.8.2)\n",
            "Requirement already satisfied: pytz>=2020.1 in /usr/local/lib/python3.10/dist-packages (from pandas>=1.1.4->ultralytics) (2024.1)\n",
            "Requirement already satisfied: tzdata>=2022.1 in /usr/local/lib/python3.10/dist-packages (from pandas>=1.1.4->ultralytics) (2024.1)\n",
            "Requirement already satisfied: charset-normalizer<4,>=2 in /usr/local/lib/python3.10/dist-packages (from requests>=2.23.0->ultralytics) (3.3.2)\n",
            "Requirement already satisfied: idna<4,>=2.5 in /usr/local/lib/python3.10/dist-packages (from requests>=2.23.0->ultralytics) (3.8)\n",
            "Requirement already satisfied: urllib3<3,>=1.21.1 in /usr/local/lib/python3.10/dist-packages (from requests>=2.23.0->ultralytics) (2.0.7)\n",
            "Requirement already satisfied: certifi>=2017.4.17 in /usr/local/lib/python3.10/dist-packages (from requests>=2.23.0->ultralytics) (2024.7.4)\n",
            "Requirement already satisfied: filelock in /usr/local/lib/python3.10/dist-packages (from torch>=1.8.0->ultralytics) (3.15.4)\n",
            "Requirement already satisfied: typing-extensions>=4.8.0 in /usr/local/lib/python3.10/dist-packages (from torch>=1.8.0->ultralytics) (4.12.2)\n",
            "Requirement already satisfied: sympy in /usr/local/lib/python3.10/dist-packages (from torch>=1.8.0->ultralytics) (1.13.2)\n",
            "Requirement already satisfied: networkx in /usr/local/lib/python3.10/dist-packages (from torch>=1.8.0->ultralytics) (3.3)\n",
            "Requirement already satisfied: jinja2 in /usr/local/lib/python3.10/dist-packages (from torch>=1.8.0->ultralytics) (3.1.4)\n",
            "Requirement already satisfied: fsspec in /usr/local/lib/python3.10/dist-packages (from torch>=1.8.0->ultralytics) (2024.6.1)\n",
            "Requirement already satisfied: six>=1.5 in /usr/local/lib/python3.10/dist-packages (from python-dateutil>=2.7->matplotlib>=3.3.0->ultralytics) (1.16.0)\n",
            "Requirement already satisfied: MarkupSafe>=2.0 in /usr/local/lib/python3.10/dist-packages (from jinja2->torch>=1.8.0->ultralytics) (2.1.5)\n",
            "Requirement already satisfied: mpmath<1.4,>=1.1.0 in /usr/local/lib/python3.10/dist-packages (from sympy->torch>=1.8.0->ultralytics) (1.3.0)\n",
            "Downloading ultralytics-8.2.86-py3-none-any.whl (872 kB)\n",
            "\u001b[2K   \u001b[90m━━━━━━━━━━━━━━━━━━━━━━━━━━━━━━━━━━━━━━━━\u001b[0m \u001b[32m872.0/872.0 kB\u001b[0m \u001b[31m33.3 MB/s\u001b[0m eta \u001b[36m0:00:00\u001b[0m\n",
            "\u001b[?25hDownloading ultralytics_thop-2.0.6-py3-none-any.whl (26 kB)\n",
            "Installing collected packages: ultralytics-thop, ultralytics\n",
            "Successfully installed ultralytics-8.2.86 ultralytics-thop-2.0.6\n"
          ]
        }
      ],
      "source": [
        "!pip install ultralytics"
      ]
    },
    {
      "cell_type": "code",
      "execution_count": null,
      "metadata": {
        "colab": {
          "base_uri": "https://localhost:8080/"
        },
        "id": "JLIgimLsphYu",
        "outputId": "b099e888-bbf4-450c-ac9c-e9bba89adc12"
      },
      "outputs": [
        {
          "name": "stdout",
          "output_type": "stream",
          "text": [
            "Requirement already satisfied: tensorflow in /usr/local/lib/python3.10/dist-packages (2.17.0)\n",
            "Requirement already satisfied: absl-py>=1.0.0 in /usr/local/lib/python3.10/dist-packages (from tensorflow) (1.4.0)\n",
            "Requirement already satisfied: astunparse>=1.6.0 in /usr/local/lib/python3.10/dist-packages (from tensorflow) (1.6.3)\n",
            "Requirement already satisfied: flatbuffers>=24.3.25 in /usr/local/lib/python3.10/dist-packages (from tensorflow) (24.3.25)\n",
            "Requirement already satisfied: gast!=0.5.0,!=0.5.1,!=0.5.2,>=0.2.1 in /usr/local/lib/python3.10/dist-packages (from tensorflow) (0.6.0)\n",
            "Requirement already satisfied: google-pasta>=0.1.1 in /usr/local/lib/python3.10/dist-packages (from tensorflow) (0.2.0)\n",
            "Requirement already satisfied: h5py>=3.10.0 in /usr/local/lib/python3.10/dist-packages (from tensorflow) (3.11.0)\n",
            "Requirement already satisfied: libclang>=13.0.0 in /usr/local/lib/python3.10/dist-packages (from tensorflow) (18.1.1)\n",
            "Requirement already satisfied: ml-dtypes<0.5.0,>=0.3.1 in /usr/local/lib/python3.10/dist-packages (from tensorflow) (0.4.0)\n",
            "Requirement already satisfied: opt-einsum>=2.3.2 in /usr/local/lib/python3.10/dist-packages (from tensorflow) (3.3.0)\n",
            "Requirement already satisfied: packaging in /usr/local/lib/python3.10/dist-packages (from tensorflow) (24.1)\n",
            "Requirement already satisfied: protobuf!=4.21.0,!=4.21.1,!=4.21.2,!=4.21.3,!=4.21.4,!=4.21.5,<5.0.0dev,>=3.20.3 in /usr/local/lib/python3.10/dist-packages (from tensorflow) (3.20.3)\n",
            "Requirement already satisfied: requests<3,>=2.21.0 in /usr/local/lib/python3.10/dist-packages (from tensorflow) (2.32.3)\n",
            "Requirement already satisfied: setuptools in /usr/local/lib/python3.10/dist-packages (from tensorflow) (71.0.4)\n",
            "Requirement already satisfied: six>=1.12.0 in /usr/local/lib/python3.10/dist-packages (from tensorflow) (1.16.0)\n",
            "Requirement already satisfied: termcolor>=1.1.0 in /usr/local/lib/python3.10/dist-packages (from tensorflow) (2.4.0)\n",
            "Requirement already satisfied: typing-extensions>=3.6.6 in /usr/local/lib/python3.10/dist-packages (from tensorflow) (4.12.2)\n",
            "Requirement already satisfied: wrapt>=1.11.0 in /usr/local/lib/python3.10/dist-packages (from tensorflow) (1.16.0)\n",
            "Requirement already satisfied: grpcio<2.0,>=1.24.3 in /usr/local/lib/python3.10/dist-packages (from tensorflow) (1.64.1)\n",
            "Requirement already satisfied: tensorboard<2.18,>=2.17 in /usr/local/lib/python3.10/dist-packages (from tensorflow) (2.17.0)\n",
            "Requirement already satisfied: keras>=3.2.0 in /usr/local/lib/python3.10/dist-packages (from tensorflow) (3.4.1)\n",
            "Requirement already satisfied: tensorflow-io-gcs-filesystem>=0.23.1 in /usr/local/lib/python3.10/dist-packages (from tensorflow) (0.37.1)\n",
            "Requirement already satisfied: numpy<2.0.0,>=1.23.5 in /usr/local/lib/python3.10/dist-packages (from tensorflow) (1.26.4)\n",
            "Requirement already satisfied: wheel<1.0,>=0.23.0 in /usr/local/lib/python3.10/dist-packages (from astunparse>=1.6.0->tensorflow) (0.44.0)\n",
            "Requirement already satisfied: rich in /usr/local/lib/python3.10/dist-packages (from keras>=3.2.0->tensorflow) (13.7.1)\n",
            "Requirement already satisfied: namex in /usr/local/lib/python3.10/dist-packages (from keras>=3.2.0->tensorflow) (0.0.8)\n",
            "Requirement already satisfied: optree in /usr/local/lib/python3.10/dist-packages (from keras>=3.2.0->tensorflow) (0.12.1)\n",
            "Requirement already satisfied: charset-normalizer<4,>=2 in /usr/local/lib/python3.10/dist-packages (from requests<3,>=2.21.0->tensorflow) (3.3.2)\n",
            "Requirement already satisfied: idna<4,>=2.5 in /usr/local/lib/python3.10/dist-packages (from requests<3,>=2.21.0->tensorflow) (3.7)\n",
            "Requirement already satisfied: urllib3<3,>=1.21.1 in /usr/local/lib/python3.10/dist-packages (from requests<3,>=2.21.0->tensorflow) (2.0.7)\n",
            "Requirement already satisfied: certifi>=2017.4.17 in /usr/local/lib/python3.10/dist-packages (from requests<3,>=2.21.0->tensorflow) (2024.7.4)\n",
            "Requirement already satisfied: markdown>=2.6.8 in /usr/local/lib/python3.10/dist-packages (from tensorboard<2.18,>=2.17->tensorflow) (3.7)\n",
            "Requirement already satisfied: tensorboard-data-server<0.8.0,>=0.7.0 in /usr/local/lib/python3.10/dist-packages (from tensorboard<2.18,>=2.17->tensorflow) (0.7.2)\n",
            "Requirement already satisfied: werkzeug>=1.0.1 in /usr/local/lib/python3.10/dist-packages (from tensorboard<2.18,>=2.17->tensorflow) (3.0.4)\n",
            "Requirement already satisfied: MarkupSafe>=2.1.1 in /usr/local/lib/python3.10/dist-packages (from werkzeug>=1.0.1->tensorboard<2.18,>=2.17->tensorflow) (2.1.5)\n",
            "Requirement already satisfied: markdown-it-py>=2.2.0 in /usr/local/lib/python3.10/dist-packages (from rich->keras>=3.2.0->tensorflow) (3.0.0)\n",
            "Requirement already satisfied: pygments<3.0.0,>=2.13.0 in /usr/local/lib/python3.10/dist-packages (from rich->keras>=3.2.0->tensorflow) (2.16.1)\n",
            "Requirement already satisfied: mdurl~=0.1 in /usr/local/lib/python3.10/dist-packages (from markdown-it-py>=2.2.0->rich->keras>=3.2.0->tensorflow) (0.1.2)\n"
          ]
        }
      ],
      "source": [
        "!pip install tensorflow"
      ]
    },
    {
      "cell_type": "code",
      "execution_count": null,
      "metadata": {
        "id": "sT7iSA2VrZQf"
      },
      "outputs": [],
      "source": [
        "import cv2"
      ]
    },
    {
      "cell_type": "code",
      "execution_count": null,
      "metadata": {
        "id": "rM_PxbPqAcgu"
      },
      "outputs": [],
      "source": [
        "from ultralytics import YOLO\n",
        "import matplotlib.pyplot as plt"
      ]
    },
    {
      "cell_type": "code",
      "execution_count": null,
      "metadata": {
        "colab": {
          "base_uri": "https://localhost:8080/"
        },
        "id": "vQlk9164BJM0",
        "outputId": "7ddc00b9-9be8-46ab-e32a-b1936355f975"
      },
      "outputs": [
        {
          "name": "stdout",
          "output_type": "stream",
          "text": [
            "Downloading https://github.com/ultralytics/assets/releases/download/v8.2.0/yolov8n.pt to 'yolov8n.pt'...\n"
          ]
        },
        {
          "name": "stderr",
          "output_type": "stream",
          "text": [
            "100%|██████████| 6.25M/6.25M [00:00<00:00, 86.7MB/s]\n"
          ]
        },
        {
          "name": "stdout",
          "output_type": "stream",
          "text": [
            "Ultralytics YOLOv8.2.82 🚀 Python-3.10.12 torch-2.4.0+cu121 CUDA:0 (Tesla T4, 15102MiB)\n",
            "\u001b[34m\u001b[1mengine/trainer: \u001b[0mtask=detect, mode=train, model=yolov8n.pt, data=brain-tumor.yaml, epochs=250, time=None, patience=100, batch=16, imgsz=1000, save=True, save_period=-1, cache=False, device=None, workers=8, project=None, name=train, exist_ok=False, pretrained=True, optimizer=auto, verbose=True, seed=0, deterministic=True, single_cls=False, rect=False, cos_lr=False, close_mosaic=10, resume=False, amp=True, fraction=1.0, profile=False, freeze=None, multi_scale=False, overlap_mask=True, mask_ratio=4, dropout=0.0, val=True, split=val, save_json=False, save_hybrid=False, conf=None, iou=0.7, max_det=300, half=False, dnn=False, plots=True, source=None, vid_stride=1, stream_buffer=False, visualize=False, augment=False, agnostic_nms=False, classes=None, retina_masks=False, embed=None, show=False, save_frames=False, save_txt=False, save_conf=False, save_crop=False, show_labels=True, show_conf=True, show_boxes=True, line_width=None, format=torchscript, keras=False, optimize=False, int8=False, dynamic=False, simplify=False, opset=None, workspace=4, nms=False, lr0=0.01, lrf=0.01, momentum=0.937, weight_decay=0.0005, warmup_epochs=3.0, warmup_momentum=0.8, warmup_bias_lr=0.1, box=7.5, cls=0.5, dfl=1.5, pose=12.0, kobj=1.0, label_smoothing=0.0, nbs=64, hsv_h=0.015, hsv_s=0.7, hsv_v=0.4, degrees=0.0, translate=0.1, scale=0.5, shear=0.0, perspective=0.0, flipud=0.0, fliplr=0.5, bgr=0.0, mosaic=1.0, mixup=0.0, copy_paste=0.0, auto_augment=randaugment, erasing=0.4, crop_fraction=1.0, cfg=None, tracker=botsort.yaml, save_dir=runs/detect/train\n",
            "\n",
            "Dataset 'brain-tumor.yaml' images not found ⚠️, missing path '/content/datasets/brain-tumor/valid/images'\n",
            "Downloading https://ultralytics.com/assets/brain-tumor.zip to '/content/datasets/brain-tumor.zip'...\n"
          ]
        },
        {
          "name": "stderr",
          "output_type": "stream",
          "text": [
            "100%|██████████| 4.05M/4.05M [00:00<00:00, 72.4MB/s]\n",
            "Unzipping /content/datasets/brain-tumor.zip to /content/datasets/brain-tumor...: 100%|██████████| 2217/2217 [00:00<00:00, 3171.24file/s]"
          ]
        },
        {
          "name": "stdout",
          "output_type": "stream",
          "text": [
            "Dataset download success ✅ (1.6s), saved to \u001b[1m/content/datasets\u001b[0m\n",
            "\n"
          ]
        },
        {
          "name": "stderr",
          "output_type": "stream",
          "text": [
            "\n"
          ]
        },
        {
          "name": "stdout",
          "output_type": "stream",
          "text": [
            "Downloading https://ultralytics.com/assets/Arial.ttf to '/root/.config/Ultralytics/Arial.ttf'...\n"
          ]
        },
        {
          "name": "stderr",
          "output_type": "stream",
          "text": [
            "100%|██████████| 755k/755k [00:00<00:00, 21.8MB/s]\n"
          ]
        },
        {
          "name": "stdout",
          "output_type": "stream",
          "text": [
            "Overriding model.yaml nc=80 with nc=2\n",
            "\n",
            "                   from  n    params  module                                       arguments                     \n",
            "  0                  -1  1       464  ultralytics.nn.modules.conv.Conv             [3, 16, 3, 2]                 \n",
            "  1                  -1  1      4672  ultralytics.nn.modules.conv.Conv             [16, 32, 3, 2]                \n",
            "  2                  -1  1      7360  ultralytics.nn.modules.block.C2f             [32, 32, 1, True]             \n",
            "  3                  -1  1     18560  ultralytics.nn.modules.conv.Conv             [32, 64, 3, 2]                \n",
            "  4                  -1  2     49664  ultralytics.nn.modules.block.C2f             [64, 64, 2, True]             \n",
            "  5                  -1  1     73984  ultralytics.nn.modules.conv.Conv             [64, 128, 3, 2]               \n",
            "  6                  -1  2    197632  ultralytics.nn.modules.block.C2f             [128, 128, 2, True]           \n",
            "  7                  -1  1    295424  ultralytics.nn.modules.conv.Conv             [128, 256, 3, 2]              \n",
            "  8                  -1  1    460288  ultralytics.nn.modules.block.C2f             [256, 256, 1, True]           \n",
            "  9                  -1  1    164608  ultralytics.nn.modules.block.SPPF            [256, 256, 5]                 \n",
            " 10                  -1  1         0  torch.nn.modules.upsampling.Upsample         [None, 2, 'nearest']          \n",
            " 11             [-1, 6]  1         0  ultralytics.nn.modules.conv.Concat           [1]                           \n",
            " 12                  -1  1    148224  ultralytics.nn.modules.block.C2f             [384, 128, 1]                 \n",
            " 13                  -1  1         0  torch.nn.modules.upsampling.Upsample         [None, 2, 'nearest']          \n",
            " 14             [-1, 4]  1         0  ultralytics.nn.modules.conv.Concat           [1]                           \n",
            " 15                  -1  1     37248  ultralytics.nn.modules.block.C2f             [192, 64, 1]                  \n",
            " 16                  -1  1     36992  ultralytics.nn.modules.conv.Conv             [64, 64, 3, 2]                \n",
            " 17            [-1, 12]  1         0  ultralytics.nn.modules.conv.Concat           [1]                           \n",
            " 18                  -1  1    123648  ultralytics.nn.modules.block.C2f             [192, 128, 1]                 \n",
            " 19                  -1  1    147712  ultralytics.nn.modules.conv.Conv             [128, 128, 3, 2]              \n",
            " 20             [-1, 9]  1         0  ultralytics.nn.modules.conv.Concat           [1]                           \n",
            " 21                  -1  1    493056  ultralytics.nn.modules.block.C2f             [384, 256, 1]                 \n",
            " 22        [15, 18, 21]  1    751702  ultralytics.nn.modules.head.Detect           [2, [64, 128, 256]]           \n",
            "Model summary: 225 layers, 3,011,238 parameters, 3,011,222 gradients, 8.2 GFLOPs\n",
            "\n",
            "Transferred 319/355 items from pretrained weights\n",
            "\u001b[34m\u001b[1mTensorBoard: \u001b[0mStart with 'tensorboard --logdir runs/detect/train', view at http://localhost:6006/\n",
            "Freezing layer 'model.22.dfl.conv.weight'\n",
            "\u001b[34m\u001b[1mAMP: \u001b[0mrunning Automatic Mixed Precision (AMP) checks with YOLOv8n...\n",
            "\u001b[34m\u001b[1mAMP: \u001b[0mchecks passed ✅\n",
            "WARNING ⚠️ imgsz=[1000] must be multiple of max stride 32, updating to [1024]\n"
          ]
        },
        {
          "name": "stderr",
          "output_type": "stream",
          "text": [
            "/usr/local/lib/python3.10/dist-packages/ultralytics/engine/trainer.py:268: FutureWarning: `torch.cuda.amp.GradScaler(args...)` is deprecated. Please use `torch.amp.GradScaler('cuda', args...)` instead.\n",
            "  self.scaler = torch.cuda.amp.GradScaler(enabled=self.amp)\n",
            "\u001b[34m\u001b[1mtrain: \u001b[0mScanning /content/datasets/brain-tumor/train/labels... 878 images, 15 backgrounds, 0 corrupt: 100%|██████████| 893/893 [00:00<00:00, 2300.41it/s]\n"
          ]
        },
        {
          "name": "stdout",
          "output_type": "stream",
          "text": [
            "\u001b[34m\u001b[1mtrain: \u001b[0mNew cache created: /content/datasets/brain-tumor/train/labels.cache\n",
            "\u001b[34m\u001b[1malbumentations: \u001b[0mBlur(p=0.01, blur_limit=(3, 7)), MedianBlur(p=0.01, blur_limit=(3, 7)), ToGray(p=0.01), CLAHE(p=0.01, clip_limit=(1, 4.0), tile_grid_size=(8, 8))\n"
          ]
        },
        {
          "name": "stderr",
          "output_type": "stream",
          "text": [
            "/usr/lib/python3.10/multiprocessing/popen_fork.py:66: RuntimeWarning: os.fork() was called. os.fork() is incompatible with multithreaded code, and JAX is multithreaded, so this will likely lead to a deadlock.\n",
            "  self.pid = os.fork()\n",
            "\u001b[34m\u001b[1mval: \u001b[0mScanning /content/datasets/brain-tumor/valid/labels... 223 images, 0 backgrounds, 0 corrupt: 100%|██████████| 223/223 [00:00<00:00, 1228.59it/s]\n"
          ]
        },
        {
          "name": "stdout",
          "output_type": "stream",
          "text": [
            "\u001b[34m\u001b[1mval: \u001b[0mNew cache created: /content/datasets/brain-tumor/valid/labels.cache\n",
            "Plotting labels to runs/detect/train/labels.jpg... \n",
            "\u001b[34m\u001b[1moptimizer:\u001b[0m 'optimizer=auto' found, ignoring 'lr0=0.01' and 'momentum=0.937' and determining best 'optimizer', 'lr0' and 'momentum' automatically... \n",
            "\u001b[34m\u001b[1moptimizer:\u001b[0m AdamW(lr=0.001667, momentum=0.9) with parameter groups 57 weight(decay=0.0), 64 weight(decay=0.0005), 63 bias(decay=0.0)\n",
            "\u001b[34m\u001b[1mTensorBoard: \u001b[0mmodel graph visualization added ✅\n",
            "Image sizes 1024 train, 1024 val\n",
            "Using 2 dataloader workers\n",
            "Logging results to \u001b[1mruns/detect/train\u001b[0m\n",
            "Starting training for 250 epochs...\n",
            "\n",
            "      Epoch    GPU_mem   box_loss   cls_loss   dfl_loss  Instances       Size\n"
          ]
        },
        {
          "name": "stderr",
          "output_type": "stream",
          "text": [
            "      1/250      6.08G      1.432      4.804       1.35         19       1024: 100%|██████████| 56/56 [00:38<00:00,  1.46it/s]\n",
            "                 Class     Images  Instances      Box(P          R      mAP50  mAP50-95): 100%|██████████| 7/7 [00:10<00:00,  1.55s/it]"
          ]
        },
        {
          "name": "stdout",
          "output_type": "stream",
          "text": [
            "                   all        223        241    0.00304      0.792      0.284      0.189\n"
          ]
        },
        {
          "name": "stderr",
          "output_type": "stream",
          "text": [
            "\n"
          ]
        },
        {
          "name": "stdout",
          "output_type": "stream",
          "text": [
            "\n",
            "      Epoch    GPU_mem   box_loss   cls_loss   dfl_loss  Instances       Size\n"
          ]
        },
        {
          "name": "stderr",
          "output_type": "stream",
          "text": [
            "      2/250      5.16G      1.224      3.439      1.192         14       1024: 100%|██████████| 56/56 [00:35<00:00,  1.58it/s]\n",
            "                 Class     Images  Instances      Box(P          R      mAP50  mAP50-95): 100%|██████████| 7/7 [00:04<00:00,  1.69it/s]"
          ]
        },
        {
          "name": "stdout",
          "output_type": "stream",
          "text": [
            "                   all        223        241     0.0457      0.156     0.0324     0.0113\n"
          ]
        },
        {
          "name": "stderr",
          "output_type": "stream",
          "text": [
            "\n"
          ]
        },
        {
          "name": "stdout",
          "output_type": "stream",
          "text": [
            "\n",
            "      Epoch    GPU_mem   box_loss   cls_loss   dfl_loss  Instances       Size\n"
          ]
        },
        {
          "name": "stderr",
          "output_type": "stream",
          "text": [
            "      3/250      5.17G       1.25      2.824      1.225         20       1024: 100%|██████████| 56/56 [00:36<00:00,  1.55it/s]\n",
            "                 Class     Images  Instances      Box(P          R      mAP50  mAP50-95): 100%|██████████| 7/7 [00:05<00:00,  1.32it/s]"
          ]
        },
        {
          "name": "stdout",
          "output_type": "stream",
          "text": [
            "                   all        223        241      0.328      0.293      0.205      0.119\n"
          ]
        },
        {
          "name": "stderr",
          "output_type": "stream",
          "text": [
            "\n"
          ]
        },
        {
          "name": "stdout",
          "output_type": "stream",
          "text": [
            "\n",
            "      Epoch    GPU_mem   box_loss   cls_loss   dfl_loss  Instances       Size\n"
          ]
        },
        {
          "name": "stderr",
          "output_type": "stream",
          "text": [
            "      4/250      5.16G      1.259       2.35      1.208         13       1024: 100%|██████████| 56/56 [00:35<00:00,  1.58it/s]\n",
            "                 Class     Images  Instances      Box(P          R      mAP50  mAP50-95): 100%|██████████| 7/7 [00:03<00:00,  1.93it/s]"
          ]
        },
        {
          "name": "stdout",
          "output_type": "stream",
          "text": [
            "                   all        223        241      0.387      0.434      0.316        0.2\n"
          ]
        },
        {
          "name": "stderr",
          "output_type": "stream",
          "text": [
            "\n"
          ]
        },
        {
          "name": "stdout",
          "output_type": "stream",
          "text": [
            "\n",
            "      Epoch    GPU_mem   box_loss   cls_loss   dfl_loss  Instances       Size\n"
          ]
        },
        {
          "name": "stderr",
          "output_type": "stream",
          "text": [
            "      5/250      5.16G      1.227      1.946      1.211         24       1024: 100%|██████████| 56/56 [00:35<00:00,  1.56it/s]\n",
            "                 Class     Images  Instances      Box(P          R      mAP50  mAP50-95): 100%|██████████| 7/7 [00:06<00:00,  1.08it/s]"
          ]
        },
        {
          "name": "stdout",
          "output_type": "stream",
          "text": [
            "                   all        223        241      0.408      0.609      0.398       0.28\n"
          ]
        },
        {
          "name": "stderr",
          "output_type": "stream",
          "text": [
            "\n"
          ]
        },
        {
          "name": "stdout",
          "output_type": "stream",
          "text": [
            "\n",
            "      Epoch    GPU_mem   box_loss   cls_loss   dfl_loss  Instances       Size\n"
          ]
        },
        {
          "name": "stderr",
          "output_type": "stream",
          "text": [
            "      6/250      5.16G      1.151      1.652      1.168         18       1024: 100%|██████████| 56/56 [00:35<00:00,  1.58it/s]\n",
            "                 Class     Images  Instances      Box(P          R      mAP50  mAP50-95): 100%|██████████| 7/7 [00:03<00:00,  1.88it/s]"
          ]
        },
        {
          "name": "stdout",
          "output_type": "stream",
          "text": [
            "                   all        223        241      0.462      0.767      0.468      0.308\n"
          ]
        },
        {
          "name": "stderr",
          "output_type": "stream",
          "text": [
            "\n"
          ]
        },
        {
          "name": "stdout",
          "output_type": "stream",
          "text": [
            "\n",
            "      Epoch    GPU_mem   box_loss   cls_loss   dfl_loss  Instances       Size\n"
          ]
        },
        {
          "name": "stderr",
          "output_type": "stream",
          "text": [
            "      7/250      5.19G      1.164      1.567      1.183         24       1024: 100%|██████████| 56/56 [00:35<00:00,  1.56it/s]\n",
            "                 Class     Images  Instances      Box(P          R      mAP50  mAP50-95): 100%|██████████| 7/7 [00:05<00:00,  1.40it/s]"
          ]
        },
        {
          "name": "stdout",
          "output_type": "stream",
          "text": [
            "                   all        223        241      0.443      0.748      0.466       0.33\n"
          ]
        },
        {
          "name": "stderr",
          "output_type": "stream",
          "text": [
            "\n"
          ]
        },
        {
          "name": "stdout",
          "output_type": "stream",
          "text": [
            "\n",
            "      Epoch    GPU_mem   box_loss   cls_loss   dfl_loss  Instances       Size\n"
          ]
        },
        {
          "name": "stderr",
          "output_type": "stream",
          "text": [
            "      8/250      5.16G      1.129      1.481      1.166         24       1024: 100%|██████████| 56/56 [00:35<00:00,  1.58it/s]\n",
            "                 Class     Images  Instances      Box(P          R      mAP50  mAP50-95): 100%|██████████| 7/7 [00:03<00:00,  1.78it/s]"
          ]
        },
        {
          "name": "stdout",
          "output_type": "stream",
          "text": [
            "                   all        223        241      0.451      0.763      0.461      0.325\n"
          ]
        },
        {
          "name": "stderr",
          "output_type": "stream",
          "text": [
            "\n"
          ]
        },
        {
          "name": "stdout",
          "output_type": "stream",
          "text": [
            "\n",
            "      Epoch    GPU_mem   box_loss   cls_loss   dfl_loss  Instances       Size\n"
          ]
        },
        {
          "name": "stderr",
          "output_type": "stream",
          "text": [
            "      9/250      5.16G      1.125      1.405       1.14         30       1024: 100%|██████████| 56/56 [00:35<00:00,  1.57it/s]\n",
            "                 Class     Images  Instances      Box(P          R      mAP50  mAP50-95): 100%|██████████| 7/7 [00:03<00:00,  1.91it/s]"
          ]
        },
        {
          "name": "stdout",
          "output_type": "stream",
          "text": [
            "                   all        223        241      0.419      0.713      0.427      0.294\n"
          ]
        },
        {
          "name": "stderr",
          "output_type": "stream",
          "text": [
            "\n"
          ]
        },
        {
          "name": "stdout",
          "output_type": "stream",
          "text": [
            "\n",
            "      Epoch    GPU_mem   box_loss   cls_loss   dfl_loss  Instances       Size\n"
          ]
        },
        {
          "name": "stderr",
          "output_type": "stream",
          "text": [
            "     10/250      5.16G      1.141      1.394      1.149         25       1024: 100%|██████████| 56/56 [00:36<00:00,  1.55it/s]\n",
            "                 Class     Images  Instances      Box(P          R      mAP50  mAP50-95): 100%|██████████| 7/7 [00:05<00:00,  1.30it/s]"
          ]
        },
        {
          "name": "stdout",
          "output_type": "stream",
          "text": [
            "                   all        223        241      0.444      0.793      0.472      0.326\n"
          ]
        },
        {
          "name": "stderr",
          "output_type": "stream",
          "text": [
            "\n"
          ]
        },
        {
          "name": "stdout",
          "output_type": "stream",
          "text": [
            "\n",
            "      Epoch    GPU_mem   box_loss   cls_loss   dfl_loss  Instances       Size\n"
          ]
        },
        {
          "name": "stderr",
          "output_type": "stream",
          "text": [
            "     11/250      5.16G      1.076      1.331      1.124         14       1024: 100%|██████████| 56/56 [00:35<00:00,  1.58it/s]\n",
            "                 Class     Images  Instances      Box(P          R      mAP50  mAP50-95): 100%|██████████| 7/7 [00:03<00:00,  1.88it/s]"
          ]
        },
        {
          "name": "stdout",
          "output_type": "stream",
          "text": [
            "                   all        223        241      0.452      0.782      0.483      0.345\n"
          ]
        },
        {
          "name": "stderr",
          "output_type": "stream",
          "text": [
            "\n"
          ]
        },
        {
          "name": "stdout",
          "output_type": "stream",
          "text": [
            "\n",
            "      Epoch    GPU_mem   box_loss   cls_loss   dfl_loss  Instances       Size\n"
          ]
        },
        {
          "name": "stderr",
          "output_type": "stream",
          "text": [
            "     12/250      5.16G      1.122      1.343      1.153         18       1024: 100%|██████████| 56/56 [00:35<00:00,  1.58it/s]\n",
            "                 Class     Images  Instances      Box(P          R      mAP50  mAP50-95): 100%|██████████| 7/7 [00:05<00:00,  1.35it/s]"
          ]
        },
        {
          "name": "stdout",
          "output_type": "stream",
          "text": [
            "                   all        223        241      0.439      0.812      0.462      0.321\n"
          ]
        },
        {
          "name": "stderr",
          "output_type": "stream",
          "text": [
            "\n"
          ]
        },
        {
          "name": "stdout",
          "output_type": "stream",
          "text": [
            "\n",
            "      Epoch    GPU_mem   box_loss   cls_loss   dfl_loss  Instances       Size\n"
          ]
        },
        {
          "name": "stderr",
          "output_type": "stream",
          "text": [
            "     13/250      5.16G      1.068      1.293      1.119         25       1024: 100%|██████████| 56/56 [00:35<00:00,  1.57it/s]\n",
            "                 Class     Images  Instances      Box(P          R      mAP50  mAP50-95): 100%|██████████| 7/7 [00:03<00:00,  1.83it/s]"
          ]
        },
        {
          "name": "stdout",
          "output_type": "stream",
          "text": [
            "                   all        223        241      0.438      0.764       0.46      0.317\n"
          ]
        },
        {
          "name": "stderr",
          "output_type": "stream",
          "text": [
            "\n"
          ]
        },
        {
          "name": "stdout",
          "output_type": "stream",
          "text": [
            "\n",
            "      Epoch    GPU_mem   box_loss   cls_loss   dfl_loss  Instances       Size\n"
          ]
        },
        {
          "name": "stderr",
          "output_type": "stream",
          "text": [
            "     14/250      5.16G       1.07      1.313      1.124         24       1024: 100%|██████████| 56/56 [00:35<00:00,  1.57it/s]\n",
            "                 Class     Images  Instances      Box(P          R      mAP50  mAP50-95): 100%|██████████| 7/7 [00:04<00:00,  1.55it/s]"
          ]
        },
        {
          "name": "stdout",
          "output_type": "stream",
          "text": [
            "                   all        223        241      0.417       0.77      0.444      0.309\n"
          ]
        },
        {
          "name": "stderr",
          "output_type": "stream",
          "text": [
            "\n"
          ]
        },
        {
          "name": "stdout",
          "output_type": "stream",
          "text": [
            "\n",
            "      Epoch    GPU_mem   box_loss   cls_loss   dfl_loss  Instances       Size\n"
          ]
        },
        {
          "name": "stderr",
          "output_type": "stream",
          "text": [
            "     15/250      5.16G      1.071      1.267      1.142         22       1024: 100%|██████████| 56/56 [00:36<00:00,  1.52it/s]\n",
            "                 Class     Images  Instances      Box(P          R      mAP50  mAP50-95): 100%|██████████| 7/7 [00:03<00:00,  1.83it/s]"
          ]
        },
        {
          "name": "stdout",
          "output_type": "stream",
          "text": [
            "                   all        223        241      0.451      0.827      0.477      0.329\n"
          ]
        },
        {
          "name": "stderr",
          "output_type": "stream",
          "text": [
            "\n"
          ]
        },
        {
          "name": "stdout",
          "output_type": "stream",
          "text": [
            "\n",
            "      Epoch    GPU_mem   box_loss   cls_loss   dfl_loss  Instances       Size\n"
          ]
        },
        {
          "name": "stderr",
          "output_type": "stream",
          "text": [
            "     16/250      5.16G      1.093      1.243      1.156         16       1024: 100%|██████████| 56/56 [00:35<00:00,  1.56it/s]\n",
            "                 Class     Images  Instances      Box(P          R      mAP50  mAP50-95): 100%|██████████| 7/7 [00:03<00:00,  2.00it/s]"
          ]
        },
        {
          "name": "stdout",
          "output_type": "stream",
          "text": [
            "                   all        223        241      0.472      0.756       0.46      0.338\n"
          ]
        },
        {
          "name": "stderr",
          "output_type": "stream",
          "text": [
            "\n"
          ]
        },
        {
          "name": "stdout",
          "output_type": "stream",
          "text": [
            "\n",
            "      Epoch    GPU_mem   box_loss   cls_loss   dfl_loss  Instances       Size\n"
          ]
        },
        {
          "name": "stderr",
          "output_type": "stream",
          "text": [
            "     17/250      5.16G      1.065      1.234      1.128         23       1024: 100%|██████████| 56/56 [00:36<00:00,  1.52it/s]\n",
            "                 Class     Images  Instances      Box(P          R      mAP50  mAP50-95): 100%|██████████| 7/7 [00:05<00:00,  1.34it/s]"
          ]
        },
        {
          "name": "stdout",
          "output_type": "stream",
          "text": [
            "                   all        223        241      0.444      0.856      0.485      0.345\n"
          ]
        },
        {
          "name": "stderr",
          "output_type": "stream",
          "text": [
            "\n"
          ]
        },
        {
          "name": "stdout",
          "output_type": "stream",
          "text": [
            "\n",
            "      Epoch    GPU_mem   box_loss   cls_loss   dfl_loss  Instances       Size\n"
          ]
        },
        {
          "name": "stderr",
          "output_type": "stream",
          "text": [
            "     18/250      5.16G      1.063      1.241       1.13         25       1024: 100%|██████████| 56/56 [00:35<00:00,  1.58it/s]\n",
            "                 Class     Images  Instances      Box(P          R      mAP50  mAP50-95): 100%|██████████| 7/7 [00:03<00:00,  1.87it/s]"
          ]
        },
        {
          "name": "stdout",
          "output_type": "stream",
          "text": [
            "                   all        223        241      0.435       0.78      0.476      0.333\n"
          ]
        },
        {
          "name": "stderr",
          "output_type": "stream",
          "text": [
            "\n"
          ]
        },
        {
          "name": "stdout",
          "output_type": "stream",
          "text": [
            "\n",
            "      Epoch    GPU_mem   box_loss   cls_loss   dfl_loss  Instances       Size\n"
          ]
        },
        {
          "name": "stderr",
          "output_type": "stream",
          "text": [
            "     19/250      5.16G       1.05      1.224      1.125         19       1024: 100%|██████████| 56/56 [00:36<00:00,  1.54it/s]\n",
            "                 Class     Images  Instances      Box(P          R      mAP50  mAP50-95): 100%|██████████| 7/7 [00:05<00:00,  1.19it/s]"
          ]
        },
        {
          "name": "stdout",
          "output_type": "stream",
          "text": [
            "                   all        223        241      0.451      0.673      0.461      0.322\n"
          ]
        },
        {
          "name": "stderr",
          "output_type": "stream",
          "text": [
            "\n"
          ]
        },
        {
          "name": "stdout",
          "output_type": "stream",
          "text": [
            "\n",
            "      Epoch    GPU_mem   box_loss   cls_loss   dfl_loss  Instances       Size\n"
          ]
        },
        {
          "name": "stderr",
          "output_type": "stream",
          "text": [
            "     20/250      5.16G      1.087      1.239       1.14         27       1024: 100%|██████████| 56/56 [00:35<00:00,  1.60it/s]\n",
            "                 Class     Images  Instances      Box(P          R      mAP50  mAP50-95): 100%|██████████| 7/7 [00:03<00:00,  2.01it/s]"
          ]
        },
        {
          "name": "stdout",
          "output_type": "stream",
          "text": [
            "                   all        223        241      0.429      0.755      0.461      0.328\n"
          ]
        },
        {
          "name": "stderr",
          "output_type": "stream",
          "text": [
            "\n"
          ]
        },
        {
          "name": "stdout",
          "output_type": "stream",
          "text": [
            "\n",
            "      Epoch    GPU_mem   box_loss   cls_loss   dfl_loss  Instances       Size\n"
          ]
        },
        {
          "name": "stderr",
          "output_type": "stream",
          "text": [
            "     21/250      5.16G      1.042      1.202      1.107         21       1024: 100%|██████████| 56/56 [00:35<00:00,  1.60it/s]\n",
            "                 Class     Images  Instances      Box(P          R      mAP50  mAP50-95): 100%|██████████| 7/7 [00:05<00:00,  1.28it/s]"
          ]
        },
        {
          "name": "stdout",
          "output_type": "stream",
          "text": [
            "                   all        223        241      0.453      0.793      0.481      0.332\n"
          ]
        },
        {
          "name": "stderr",
          "output_type": "stream",
          "text": [
            "\n"
          ]
        },
        {
          "name": "stdout",
          "output_type": "stream",
          "text": [
            "\n",
            "      Epoch    GPU_mem   box_loss   cls_loss   dfl_loss  Instances       Size\n"
          ]
        },
        {
          "name": "stderr",
          "output_type": "stream",
          "text": [
            "     22/250      5.16G      1.041      1.201      1.118         20       1024: 100%|██████████| 56/56 [00:36<00:00,  1.55it/s]\n",
            "                 Class     Images  Instances      Box(P          R      mAP50  mAP50-95): 100%|██████████| 7/7 [00:03<00:00,  1.95it/s]"
          ]
        },
        {
          "name": "stdout",
          "output_type": "stream",
          "text": [
            "                   all        223        241      0.454      0.764      0.479      0.356\n"
          ]
        },
        {
          "name": "stderr",
          "output_type": "stream",
          "text": [
            "\n"
          ]
        },
        {
          "name": "stdout",
          "output_type": "stream",
          "text": [
            "\n",
            "      Epoch    GPU_mem   box_loss   cls_loss   dfl_loss  Instances       Size\n"
          ]
        },
        {
          "name": "stderr",
          "output_type": "stream",
          "text": [
            "     23/250      5.16G     0.9817      1.177      1.077         19       1024: 100%|██████████| 56/56 [00:35<00:00,  1.59it/s]\n",
            "                 Class     Images  Instances      Box(P          R      mAP50  mAP50-95): 100%|██████████| 7/7 [00:04<00:00,  1.47it/s]"
          ]
        },
        {
          "name": "stdout",
          "output_type": "stream",
          "text": [
            "                   all        223        241      0.442      0.838      0.474      0.349\n"
          ]
        },
        {
          "name": "stderr",
          "output_type": "stream",
          "text": [
            "\n"
          ]
        },
        {
          "name": "stdout",
          "output_type": "stream",
          "text": [
            "\n",
            "      Epoch    GPU_mem   box_loss   cls_loss   dfl_loss  Instances       Size\n"
          ]
        },
        {
          "name": "stderr",
          "output_type": "stream",
          "text": [
            "     24/250      5.16G     0.9994      1.176      1.088         20       1024: 100%|██████████| 56/56 [00:36<00:00,  1.54it/s]\n",
            "                 Class     Images  Instances      Box(P          R      mAP50  mAP50-95): 100%|██████████| 7/7 [00:03<00:00,  1.82it/s]"
          ]
        },
        {
          "name": "stdout",
          "output_type": "stream",
          "text": [
            "                   all        223        241      0.466      0.801      0.484      0.344\n"
          ]
        },
        {
          "name": "stderr",
          "output_type": "stream",
          "text": [
            "\n"
          ]
        },
        {
          "name": "stdout",
          "output_type": "stream",
          "text": [
            "\n",
            "      Epoch    GPU_mem   box_loss   cls_loss   dfl_loss  Instances       Size\n"
          ]
        },
        {
          "name": "stderr",
          "output_type": "stream",
          "text": [
            "     25/250      5.16G     0.9972       1.15      1.082         19       1024: 100%|██████████| 56/56 [00:35<00:00,  1.58it/s]\n",
            "                 Class     Images  Instances      Box(P          R      mAP50  mAP50-95): 100%|██████████| 7/7 [00:03<00:00,  1.87it/s]"
          ]
        },
        {
          "name": "stdout",
          "output_type": "stream",
          "text": [
            "                   all        223        241      0.472      0.811      0.498      0.366\n"
          ]
        },
        {
          "name": "stderr",
          "output_type": "stream",
          "text": [
            "\n"
          ]
        },
        {
          "name": "stdout",
          "output_type": "stream",
          "text": [
            "\n",
            "      Epoch    GPU_mem   box_loss   cls_loss   dfl_loss  Instances       Size\n"
          ]
        },
        {
          "name": "stderr",
          "output_type": "stream",
          "text": [
            "     26/250      5.16G     0.9903      1.141      1.085         27       1024: 100%|██████████| 56/56 [00:36<00:00,  1.55it/s]\n",
            "                 Class     Images  Instances      Box(P          R      mAP50  mAP50-95): 100%|██████████| 7/7 [00:05<00:00,  1.33it/s]"
          ]
        },
        {
          "name": "stdout",
          "output_type": "stream",
          "text": [
            "                   all        223        241      0.456      0.723      0.459      0.326\n"
          ]
        },
        {
          "name": "stderr",
          "output_type": "stream",
          "text": [
            "\n"
          ]
        },
        {
          "name": "stdout",
          "output_type": "stream",
          "text": [
            "\n",
            "      Epoch    GPU_mem   box_loss   cls_loss   dfl_loss  Instances       Size\n"
          ]
        },
        {
          "name": "stderr",
          "output_type": "stream",
          "text": [
            "     27/250      5.16G     0.9885      1.126      1.086         17       1024: 100%|██████████| 56/56 [00:35<00:00,  1.58it/s]\n",
            "                 Class     Images  Instances      Box(P          R      mAP50  mAP50-95): 100%|██████████| 7/7 [00:03<00:00,  1.75it/s]"
          ]
        },
        {
          "name": "stdout",
          "output_type": "stream",
          "text": [
            "                   all        223        241      0.462      0.828      0.486      0.346\n"
          ]
        },
        {
          "name": "stderr",
          "output_type": "stream",
          "text": [
            "\n"
          ]
        },
        {
          "name": "stdout",
          "output_type": "stream",
          "text": [
            "\n",
            "      Epoch    GPU_mem   box_loss   cls_loss   dfl_loss  Instances       Size\n"
          ]
        },
        {
          "name": "stderr",
          "output_type": "stream",
          "text": [
            "     28/250      5.16G     0.9921      1.106      1.084         28       1024: 100%|██████████| 56/56 [00:35<00:00,  1.58it/s]\n",
            "                 Class     Images  Instances      Box(P          R      mAP50  mAP50-95): 100%|██████████| 7/7 [00:06<00:00,  1.12it/s]"
          ]
        },
        {
          "name": "stdout",
          "output_type": "stream",
          "text": [
            "                   all        223        241      0.444      0.726      0.428        0.3\n"
          ]
        },
        {
          "name": "stderr",
          "output_type": "stream",
          "text": [
            "\n"
          ]
        },
        {
          "name": "stdout",
          "output_type": "stream",
          "text": [
            "\n",
            "      Epoch    GPU_mem   box_loss   cls_loss   dfl_loss  Instances       Size\n"
          ]
        },
        {
          "name": "stderr",
          "output_type": "stream",
          "text": [
            "     29/250      5.16G     0.9751      1.109      1.096         23       1024: 100%|██████████| 56/56 [00:35<00:00,  1.57it/s]\n",
            "                 Class     Images  Instances      Box(P          R      mAP50  mAP50-95): 100%|██████████| 7/7 [00:03<00:00,  1.88it/s]"
          ]
        },
        {
          "name": "stdout",
          "output_type": "stream",
          "text": [
            "                   all        223        241      0.438      0.841      0.466      0.329\n"
          ]
        },
        {
          "name": "stderr",
          "output_type": "stream",
          "text": [
            "\n"
          ]
        },
        {
          "name": "stdout",
          "output_type": "stream",
          "text": [
            "\n",
            "      Epoch    GPU_mem   box_loss   cls_loss   dfl_loss  Instances       Size\n"
          ]
        },
        {
          "name": "stderr",
          "output_type": "stream",
          "text": [
            "     30/250      5.16G     0.9966      1.134        1.1         20       1024: 100%|██████████| 56/56 [00:35<00:00,  1.58it/s]\n",
            "                 Class     Images  Instances      Box(P          R      mAP50  mAP50-95): 100%|██████████| 7/7 [00:04<00:00,  1.44it/s]"
          ]
        },
        {
          "name": "stdout",
          "output_type": "stream",
          "text": [
            "                   all        223        241      0.456      0.784       0.46      0.325\n"
          ]
        },
        {
          "name": "stderr",
          "output_type": "stream",
          "text": [
            "\n"
          ]
        },
        {
          "name": "stdout",
          "output_type": "stream",
          "text": [
            "\n",
            "      Epoch    GPU_mem   box_loss   cls_loss   dfl_loss  Instances       Size\n"
          ]
        },
        {
          "name": "stderr",
          "output_type": "stream",
          "text": [
            "     31/250      5.16G     0.9754      1.159       1.09         19       1024: 100%|██████████| 56/56 [00:35<00:00,  1.58it/s]\n",
            "                 Class     Images  Instances      Box(P          R      mAP50  mAP50-95): 100%|██████████| 7/7 [00:03<00:00,  1.81it/s]"
          ]
        },
        {
          "name": "stdout",
          "output_type": "stream",
          "text": [
            "                   all        223        241      0.435      0.816      0.468      0.336\n"
          ]
        },
        {
          "name": "stderr",
          "output_type": "stream",
          "text": [
            "\n"
          ]
        },
        {
          "name": "stdout",
          "output_type": "stream",
          "text": [
            "\n",
            "      Epoch    GPU_mem   box_loss   cls_loss   dfl_loss  Instances       Size\n"
          ]
        },
        {
          "name": "stderr",
          "output_type": "stream",
          "text": [
            "     32/250      5.16G     0.9793      1.124      1.073         21       1024: 100%|██████████| 56/56 [00:35<00:00,  1.59it/s]\n",
            "                 Class     Images  Instances      Box(P          R      mAP50  mAP50-95): 100%|██████████| 7/7 [00:04<00:00,  1.64it/s]"
          ]
        },
        {
          "name": "stdout",
          "output_type": "stream",
          "text": [
            "                   all        223        241      0.449      0.828      0.479       0.33\n"
          ]
        },
        {
          "name": "stderr",
          "output_type": "stream",
          "text": [
            "\n"
          ]
        },
        {
          "name": "stdout",
          "output_type": "stream",
          "text": [
            "\n",
            "      Epoch    GPU_mem   box_loss   cls_loss   dfl_loss  Instances       Size\n"
          ]
        },
        {
          "name": "stderr",
          "output_type": "stream",
          "text": [
            "     33/250      5.16G     0.9935      1.108      1.103         15       1024: 100%|██████████| 56/56 [00:36<00:00,  1.52it/s]\n",
            "                 Class     Images  Instances      Box(P          R      mAP50  mAP50-95): 100%|██████████| 7/7 [00:04<00:00,  1.43it/s]"
          ]
        },
        {
          "name": "stdout",
          "output_type": "stream",
          "text": [
            "                   all        223        241      0.484      0.783      0.509      0.368\n"
          ]
        },
        {
          "name": "stderr",
          "output_type": "stream",
          "text": [
            "\n"
          ]
        },
        {
          "name": "stdout",
          "output_type": "stream",
          "text": [
            "\n",
            "      Epoch    GPU_mem   box_loss   cls_loss   dfl_loss  Instances       Size\n"
          ]
        },
        {
          "name": "stderr",
          "output_type": "stream",
          "text": [
            "     34/250      5.16G     0.9625      1.099      1.076         14       1024: 100%|██████████| 56/56 [00:36<00:00,  1.51it/s]\n",
            "                 Class     Images  Instances      Box(P          R      mAP50  mAP50-95): 100%|██████████| 7/7 [00:03<00:00,  1.77it/s]"
          ]
        },
        {
          "name": "stdout",
          "output_type": "stream",
          "text": [
            "                   all        223        241      0.423      0.808      0.455      0.323\n"
          ]
        },
        {
          "name": "stderr",
          "output_type": "stream",
          "text": [
            "\n"
          ]
        },
        {
          "name": "stdout",
          "output_type": "stream",
          "text": [
            "\n",
            "      Epoch    GPU_mem   box_loss   cls_loss   dfl_loss  Instances       Size\n"
          ]
        },
        {
          "name": "stderr",
          "output_type": "stream",
          "text": [
            "     35/250      5.16G     0.9695      1.096      1.086         27       1024: 100%|██████████| 56/56 [00:35<00:00,  1.57it/s]\n",
            "                 Class     Images  Instances      Box(P          R      mAP50  mAP50-95): 100%|██████████| 7/7 [00:05<00:00,  1.36it/s]"
          ]
        },
        {
          "name": "stdout",
          "output_type": "stream",
          "text": [
            "                   all        223        241      0.449      0.859      0.466       0.33\n"
          ]
        },
        {
          "name": "stderr",
          "output_type": "stream",
          "text": [
            "\n"
          ]
        },
        {
          "name": "stdout",
          "output_type": "stream",
          "text": [
            "\n",
            "      Epoch    GPU_mem   box_loss   cls_loss   dfl_loss  Instances       Size\n"
          ]
        },
        {
          "name": "stderr",
          "output_type": "stream",
          "text": [
            "     36/250      5.16G     0.9732      1.083      1.095         23       1024: 100%|██████████| 56/56 [00:35<00:00,  1.57it/s]\n",
            "                 Class     Images  Instances      Box(P          R      mAP50  mAP50-95): 100%|██████████| 7/7 [00:03<00:00,  1.87it/s]"
          ]
        },
        {
          "name": "stdout",
          "output_type": "stream",
          "text": [
            "                   all        223        241      0.388      0.692      0.405       0.29\n"
          ]
        },
        {
          "name": "stderr",
          "output_type": "stream",
          "text": [
            "\n"
          ]
        },
        {
          "name": "stdout",
          "output_type": "stream",
          "text": [
            "\n",
            "      Epoch    GPU_mem   box_loss   cls_loss   dfl_loss  Instances       Size\n"
          ]
        },
        {
          "name": "stderr",
          "output_type": "stream",
          "text": [
            "     37/250      5.16G     0.9758      1.105      1.093         17       1024: 100%|██████████| 56/56 [00:35<00:00,  1.58it/s]\n",
            "                 Class     Images  Instances      Box(P          R      mAP50  mAP50-95): 100%|██████████| 7/7 [00:05<00:00,  1.17it/s]"
          ]
        },
        {
          "name": "stdout",
          "output_type": "stream",
          "text": [
            "                   all        223        241      0.442      0.842      0.469       0.34\n"
          ]
        },
        {
          "name": "stderr",
          "output_type": "stream",
          "text": [
            "\n"
          ]
        },
        {
          "name": "stdout",
          "output_type": "stream",
          "text": [
            "\n",
            "      Epoch    GPU_mem   box_loss   cls_loss   dfl_loss  Instances       Size\n"
          ]
        },
        {
          "name": "stderr",
          "output_type": "stream",
          "text": [
            "     38/250      5.16G      0.958      1.078      1.072         33       1024: 100%|██████████| 56/56 [00:34<00:00,  1.63it/s]\n",
            "                 Class     Images  Instances      Box(P          R      mAP50  mAP50-95): 100%|██████████| 7/7 [00:03<00:00,  1.84it/s]"
          ]
        },
        {
          "name": "stdout",
          "output_type": "stream",
          "text": [
            "                   all        223        241      0.445      0.853      0.447      0.318\n"
          ]
        },
        {
          "name": "stderr",
          "output_type": "stream",
          "text": [
            "\n"
          ]
        },
        {
          "name": "stdout",
          "output_type": "stream",
          "text": [
            "\n",
            "      Epoch    GPU_mem   box_loss   cls_loss   dfl_loss  Instances       Size\n"
          ]
        },
        {
          "name": "stderr",
          "output_type": "stream",
          "text": [
            "     39/250      5.16G     0.9304      1.052      1.069         19       1024: 100%|██████████| 56/56 [00:35<00:00,  1.58it/s]\n",
            "                 Class     Images  Instances      Box(P          R      mAP50  mAP50-95): 100%|██████████| 7/7 [00:05<00:00,  1.29it/s]"
          ]
        },
        {
          "name": "stdout",
          "output_type": "stream",
          "text": [
            "                   all        223        241       0.42        0.6       0.41      0.288\n"
          ]
        },
        {
          "name": "stderr",
          "output_type": "stream",
          "text": [
            "\n"
          ]
        },
        {
          "name": "stdout",
          "output_type": "stream",
          "text": [
            "\n",
            "      Epoch    GPU_mem   box_loss   cls_loss   dfl_loss  Instances       Size\n"
          ]
        },
        {
          "name": "stderr",
          "output_type": "stream",
          "text": [
            "     40/250      5.16G     0.9469      1.097      1.077         22       1024: 100%|██████████| 56/56 [00:35<00:00,  1.58it/s]\n",
            "                 Class     Images  Instances      Box(P          R      mAP50  mAP50-95): 100%|██████████| 7/7 [00:03<00:00,  1.88it/s]"
          ]
        },
        {
          "name": "stdout",
          "output_type": "stream",
          "text": [
            "                   all        223        241      0.429      0.816      0.456      0.326\n"
          ]
        },
        {
          "name": "stderr",
          "output_type": "stream",
          "text": [
            "\n"
          ]
        },
        {
          "name": "stdout",
          "output_type": "stream",
          "text": [
            "\n",
            "      Epoch    GPU_mem   box_loss   cls_loss   dfl_loss  Instances       Size\n"
          ]
        },
        {
          "name": "stderr",
          "output_type": "stream",
          "text": [
            "     41/250      5.16G     0.9462      1.056      1.085         24       1024: 100%|██████████| 56/56 [00:34<00:00,  1.60it/s]\n",
            "                 Class     Images  Instances      Box(P          R      mAP50  mAP50-95): 100%|██████████| 7/7 [00:04<00:00,  1.52it/s]"
          ]
        },
        {
          "name": "stdout",
          "output_type": "stream",
          "text": [
            "                   all        223        241      0.439      0.831      0.483      0.341\n"
          ]
        },
        {
          "name": "stderr",
          "output_type": "stream",
          "text": [
            "\n"
          ]
        },
        {
          "name": "stdout",
          "output_type": "stream",
          "text": [
            "\n",
            "      Epoch    GPU_mem   box_loss   cls_loss   dfl_loss  Instances       Size\n"
          ]
        },
        {
          "name": "stderr",
          "output_type": "stream",
          "text": [
            "     42/250      5.16G     0.9475       1.04      1.066         16       1024: 100%|██████████| 56/56 [00:36<00:00,  1.55it/s]\n",
            "                 Class     Images  Instances      Box(P          R      mAP50  mAP50-95): 100%|██████████| 7/7 [00:04<00:00,  1.61it/s]"
          ]
        },
        {
          "name": "stdout",
          "output_type": "stream",
          "text": [
            "                   all        223        241      0.455      0.788      0.478      0.339\n"
          ]
        },
        {
          "name": "stderr",
          "output_type": "stream",
          "text": [
            "\n"
          ]
        },
        {
          "name": "stdout",
          "output_type": "stream",
          "text": [
            "\n",
            "      Epoch    GPU_mem   box_loss   cls_loss   dfl_loss  Instances       Size\n"
          ]
        },
        {
          "name": "stderr",
          "output_type": "stream",
          "text": [
            "     43/250      5.16G     0.9394      1.036      1.066         20       1024: 100%|██████████| 56/56 [00:35<00:00,  1.58it/s]\n",
            "                 Class     Images  Instances      Box(P          R      mAP50  mAP50-95): 100%|██████████| 7/7 [00:03<00:00,  1.82it/s]"
          ]
        },
        {
          "name": "stdout",
          "output_type": "stream",
          "text": [
            "                   all        223        241      0.452      0.813      0.467      0.337\n"
          ]
        },
        {
          "name": "stderr",
          "output_type": "stream",
          "text": [
            "\n"
          ]
        },
        {
          "name": "stdout",
          "output_type": "stream",
          "text": [
            "\n",
            "      Epoch    GPU_mem   box_loss   cls_loss   dfl_loss  Instances       Size\n"
          ]
        },
        {
          "name": "stderr",
          "output_type": "stream",
          "text": [
            "     44/250      5.16G     0.9148      1.028      1.055         19       1024: 100%|██████████| 56/56 [00:35<00:00,  1.59it/s]\n",
            "                 Class     Images  Instances      Box(P          R      mAP50  mAP50-95): 100%|██████████| 7/7 [00:05<00:00,  1.29it/s]"
          ]
        },
        {
          "name": "stdout",
          "output_type": "stream",
          "text": [
            "                   all        223        241      0.425      0.842      0.469      0.336\n"
          ]
        },
        {
          "name": "stderr",
          "output_type": "stream",
          "text": [
            "\n"
          ]
        },
        {
          "name": "stdout",
          "output_type": "stream",
          "text": [
            "\n",
            "      Epoch    GPU_mem   box_loss   cls_loss   dfl_loss  Instances       Size\n"
          ]
        },
        {
          "name": "stderr",
          "output_type": "stream",
          "text": [
            "     45/250      5.16G     0.9177      1.025      1.055         30       1024: 100%|██████████| 56/56 [00:36<00:00,  1.55it/s]\n",
            "                 Class     Images  Instances      Box(P          R      mAP50  mAP50-95): 100%|██████████| 7/7 [00:03<00:00,  1.95it/s]"
          ]
        },
        {
          "name": "stdout",
          "output_type": "stream",
          "text": [
            "                   all        223        241      0.444      0.843      0.469      0.327\n"
          ]
        },
        {
          "name": "stderr",
          "output_type": "stream",
          "text": [
            "\n"
          ]
        },
        {
          "name": "stdout",
          "output_type": "stream",
          "text": [
            "\n",
            "      Epoch    GPU_mem   box_loss   cls_loss   dfl_loss  Instances       Size\n"
          ]
        },
        {
          "name": "stderr",
          "output_type": "stream",
          "text": [
            "     46/250      5.16G     0.9243      1.035      1.055         20       1024: 100%|██████████| 56/56 [00:35<00:00,  1.58it/s]\n",
            "                 Class     Images  Instances      Box(P          R      mAP50  mAP50-95): 100%|██████████| 7/7 [00:05<00:00,  1.24it/s]"
          ]
        },
        {
          "name": "stdout",
          "output_type": "stream",
          "text": [
            "                   all        223        241       0.46      0.805      0.462      0.335\n"
          ]
        },
        {
          "name": "stderr",
          "output_type": "stream",
          "text": [
            "\n"
          ]
        },
        {
          "name": "stdout",
          "output_type": "stream",
          "text": [
            "\n",
            "      Epoch    GPU_mem   box_loss   cls_loss   dfl_loss  Instances       Size\n"
          ]
        },
        {
          "name": "stderr",
          "output_type": "stream",
          "text": [
            "     47/250      5.16G     0.9468      1.025      1.064         21       1024: 100%|██████████| 56/56 [00:35<00:00,  1.57it/s]\n",
            "                 Class     Images  Instances      Box(P          R      mAP50  mAP50-95): 100%|██████████| 7/7 [00:03<00:00,  1.85it/s]"
          ]
        },
        {
          "name": "stdout",
          "output_type": "stream",
          "text": [
            "                   all        223        241      0.435      0.854      0.471      0.344\n"
          ]
        },
        {
          "name": "stderr",
          "output_type": "stream",
          "text": [
            "\n"
          ]
        },
        {
          "name": "stdout",
          "output_type": "stream",
          "text": [
            "\n",
            "      Epoch    GPU_mem   box_loss   cls_loss   dfl_loss  Instances       Size\n"
          ]
        },
        {
          "name": "stderr",
          "output_type": "stream",
          "text": [
            "     48/250      5.16G     0.9264      1.001      1.059         21       1024: 100%|██████████| 56/56 [00:35<00:00,  1.58it/s]\n",
            "                 Class     Images  Instances      Box(P          R      mAP50  mAP50-95): 100%|██████████| 7/7 [00:05<00:00,  1.32it/s]"
          ]
        },
        {
          "name": "stdout",
          "output_type": "stream",
          "text": [
            "                   all        223        241       0.38      0.846      0.415      0.286\n"
          ]
        },
        {
          "name": "stderr",
          "output_type": "stream",
          "text": [
            "\n"
          ]
        },
        {
          "name": "stdout",
          "output_type": "stream",
          "text": [
            "\n",
            "      Epoch    GPU_mem   box_loss   cls_loss   dfl_loss  Instances       Size\n"
          ]
        },
        {
          "name": "stderr",
          "output_type": "stream",
          "text": [
            "     49/250      5.16G     0.9069     0.9956      1.047         23       1024: 100%|██████████| 56/56 [00:35<00:00,  1.57it/s]\n",
            "                 Class     Images  Instances      Box(P          R      mAP50  mAP50-95): 100%|██████████| 7/7 [00:03<00:00,  1.87it/s]"
          ]
        },
        {
          "name": "stdout",
          "output_type": "stream",
          "text": [
            "                   all        223        241      0.461      0.871      0.475      0.343\n"
          ]
        },
        {
          "name": "stderr",
          "output_type": "stream",
          "text": [
            "\n"
          ]
        },
        {
          "name": "stdout",
          "output_type": "stream",
          "text": [
            "\n",
            "      Epoch    GPU_mem   box_loss   cls_loss   dfl_loss  Instances       Size\n"
          ]
        },
        {
          "name": "stderr",
          "output_type": "stream",
          "text": [
            "     50/250      5.16G      0.938      1.006      1.051         24       1024: 100%|██████████| 56/56 [00:36<00:00,  1.55it/s]\n",
            "                 Class     Images  Instances      Box(P          R      mAP50  mAP50-95): 100%|██████████| 7/7 [00:04<00:00,  1.72it/s]"
          ]
        },
        {
          "name": "stdout",
          "output_type": "stream",
          "text": [
            "                   all        223        241      0.397      0.742      0.437      0.313\n"
          ]
        },
        {
          "name": "stderr",
          "output_type": "stream",
          "text": [
            "\n"
          ]
        },
        {
          "name": "stdout",
          "output_type": "stream",
          "text": [
            "\n",
            "      Epoch    GPU_mem   box_loss   cls_loss   dfl_loss  Instances       Size\n"
          ]
        },
        {
          "name": "stderr",
          "output_type": "stream",
          "text": [
            "     51/250      5.16G     0.9308     0.9981      1.065         23       1024: 100%|██████████| 56/56 [00:35<00:00,  1.56it/s]\n",
            "                 Class     Images  Instances      Box(P          R      mAP50  mAP50-95): 100%|██████████| 7/7 [00:04<00:00,  1.54it/s]"
          ]
        },
        {
          "name": "stdout",
          "output_type": "stream",
          "text": [
            "                   all        223        241      0.463      0.825      0.494      0.366\n"
          ]
        },
        {
          "name": "stderr",
          "output_type": "stream",
          "text": [
            "\n"
          ]
        },
        {
          "name": "stdout",
          "output_type": "stream",
          "text": [
            "\n",
            "      Epoch    GPU_mem   box_loss   cls_loss   dfl_loss  Instances       Size\n"
          ]
        },
        {
          "name": "stderr",
          "output_type": "stream",
          "text": [
            "     52/250      5.16G     0.9062     0.9189      1.058         14       1024: 100%|██████████| 56/56 [00:35<00:00,  1.60it/s]\n",
            "                 Class     Images  Instances      Box(P          R      mAP50  mAP50-95): 100%|██████████| 7/7 [00:03<00:00,  1.82it/s]"
          ]
        },
        {
          "name": "stdout",
          "output_type": "stream",
          "text": [
            "                   all        223        241      0.368      0.728      0.427      0.305\n"
          ]
        },
        {
          "name": "stderr",
          "output_type": "stream",
          "text": [
            "\n"
          ]
        },
        {
          "name": "stdout",
          "output_type": "stream",
          "text": [
            "\n",
            "      Epoch    GPU_mem   box_loss   cls_loss   dfl_loss  Instances       Size\n"
          ]
        },
        {
          "name": "stderr",
          "output_type": "stream",
          "text": [
            "     53/250      5.16G      0.925     0.9967      1.064         19       1024: 100%|██████████| 56/56 [00:36<00:00,  1.55it/s]\n",
            "                 Class     Images  Instances      Box(P          R      mAP50  mAP50-95): 100%|██████████| 7/7 [00:05<00:00,  1.23it/s]"
          ]
        },
        {
          "name": "stdout",
          "output_type": "stream",
          "text": [
            "                   all        223        241      0.437      0.849      0.464      0.317\n"
          ]
        },
        {
          "name": "stderr",
          "output_type": "stream",
          "text": [
            "\n"
          ]
        },
        {
          "name": "stdout",
          "output_type": "stream",
          "text": [
            "\n",
            "      Epoch    GPU_mem   box_loss   cls_loss   dfl_loss  Instances       Size\n"
          ]
        },
        {
          "name": "stderr",
          "output_type": "stream",
          "text": [
            "     54/250      5.16G     0.9185     0.9816      1.058         30       1024: 100%|██████████| 56/56 [00:35<00:00,  1.59it/s]\n",
            "                 Class     Images  Instances      Box(P          R      mAP50  mAP50-95): 100%|██████████| 7/7 [00:03<00:00,  1.79it/s]"
          ]
        },
        {
          "name": "stdout",
          "output_type": "stream",
          "text": [
            "                   all        223        241       0.44      0.867      0.445      0.313\n"
          ]
        },
        {
          "name": "stderr",
          "output_type": "stream",
          "text": [
            "\n"
          ]
        },
        {
          "name": "stdout",
          "output_type": "stream",
          "text": [
            "\n",
            "      Epoch    GPU_mem   box_loss   cls_loss   dfl_loss  Instances       Size\n"
          ]
        },
        {
          "name": "stderr",
          "output_type": "stream",
          "text": [
            "     55/250      5.16G      0.887     0.9478      1.046         20       1024: 100%|██████████| 56/56 [00:35<00:00,  1.59it/s]\n",
            "                 Class     Images  Instances      Box(P          R      mAP50  mAP50-95): 100%|██████████| 7/7 [00:06<00:00,  1.15it/s]"
          ]
        },
        {
          "name": "stdout",
          "output_type": "stream",
          "text": [
            "                   all        223        241      0.441       0.84       0.45      0.319\n"
          ]
        },
        {
          "name": "stderr",
          "output_type": "stream",
          "text": [
            "\n"
          ]
        },
        {
          "name": "stdout",
          "output_type": "stream",
          "text": [
            "\n",
            "      Epoch    GPU_mem   box_loss   cls_loss   dfl_loss  Instances       Size\n"
          ]
        },
        {
          "name": "stderr",
          "output_type": "stream",
          "text": [
            "     56/250      5.16G     0.8895     0.9369      1.041         26       1024: 100%|██████████| 56/56 [00:35<00:00,  1.59it/s]\n",
            "                 Class     Images  Instances      Box(P          R      mAP50  mAP50-95): 100%|██████████| 7/7 [00:03<00:00,  1.75it/s]"
          ]
        },
        {
          "name": "stdout",
          "output_type": "stream",
          "text": [
            "                   all        223        241      0.423      0.881      0.435        0.3\n"
          ]
        },
        {
          "name": "stderr",
          "output_type": "stream",
          "text": [
            "\n"
          ]
        },
        {
          "name": "stdout",
          "output_type": "stream",
          "text": [
            "\n",
            "      Epoch    GPU_mem   box_loss   cls_loss   dfl_loss  Instances       Size\n"
          ]
        },
        {
          "name": "stderr",
          "output_type": "stream",
          "text": [
            "     57/250      5.16G     0.8932     0.9292      1.053         22       1024: 100%|██████████| 56/56 [00:35<00:00,  1.56it/s]\n",
            "                 Class     Images  Instances      Box(P          R      mAP50  mAP50-95): 100%|██████████| 7/7 [00:04<00:00,  1.54it/s]"
          ]
        },
        {
          "name": "stdout",
          "output_type": "stream",
          "text": [
            "                   all        223        241      0.469      0.796      0.502      0.366\n"
          ]
        },
        {
          "name": "stderr",
          "output_type": "stream",
          "text": [
            "\n"
          ]
        },
        {
          "name": "stdout",
          "output_type": "stream",
          "text": [
            "\n",
            "      Epoch    GPU_mem   box_loss   cls_loss   dfl_loss  Instances       Size\n"
          ]
        },
        {
          "name": "stderr",
          "output_type": "stream",
          "text": [
            "     58/250      5.16G     0.8937     0.9492      1.044         26       1024: 100%|██████████| 56/56 [00:36<00:00,  1.54it/s]\n",
            "                 Class     Images  Instances      Box(P          R      mAP50  mAP50-95): 100%|██████████| 7/7 [00:04<00:00,  1.59it/s]"
          ]
        },
        {
          "name": "stdout",
          "output_type": "stream",
          "text": [
            "                   all        223        241      0.412      0.836      0.472      0.331\n"
          ]
        },
        {
          "name": "stderr",
          "output_type": "stream",
          "text": [
            "\n"
          ]
        },
        {
          "name": "stdout",
          "output_type": "stream",
          "text": [
            "\n",
            "      Epoch    GPU_mem   box_loss   cls_loss   dfl_loss  Instances       Size\n"
          ]
        },
        {
          "name": "stderr",
          "output_type": "stream",
          "text": [
            "     59/250      5.16G     0.9074     0.9342      1.055         19       1024: 100%|██████████| 56/56 [00:35<00:00,  1.59it/s]\n",
            "                 Class     Images  Instances      Box(P          R      mAP50  mAP50-95): 100%|██████████| 7/7 [00:03<00:00,  1.90it/s]"
          ]
        },
        {
          "name": "stdout",
          "output_type": "stream",
          "text": [
            "                   all        223        241       0.42      0.871      0.447      0.317\n"
          ]
        },
        {
          "name": "stderr",
          "output_type": "stream",
          "text": [
            "\n"
          ]
        },
        {
          "name": "stdout",
          "output_type": "stream",
          "text": [
            "\n",
            "      Epoch    GPU_mem   box_loss   cls_loss   dfl_loss  Instances       Size\n"
          ]
        },
        {
          "name": "stderr",
          "output_type": "stream",
          "text": [
            "     60/250      5.16G     0.8852     0.8851      1.033         23       1024: 100%|██████████| 56/56 [00:35<00:00,  1.57it/s]\n",
            "                 Class     Images  Instances      Box(P          R      mAP50  mAP50-95): 100%|██████████| 7/7 [00:05<00:00,  1.26it/s]"
          ]
        },
        {
          "name": "stdout",
          "output_type": "stream",
          "text": [
            "                   all        223        241      0.439      0.804      0.503      0.363\n"
          ]
        },
        {
          "name": "stderr",
          "output_type": "stream",
          "text": [
            "\n"
          ]
        },
        {
          "name": "stdout",
          "output_type": "stream",
          "text": [
            "\n",
            "      Epoch    GPU_mem   box_loss   cls_loss   dfl_loss  Instances       Size\n"
          ]
        },
        {
          "name": "stderr",
          "output_type": "stream",
          "text": [
            "     61/250      5.16G     0.8586     0.9162      1.015         22       1024: 100%|██████████| 56/56 [00:35<00:00,  1.57it/s]\n",
            "                 Class     Images  Instances      Box(P          R      mAP50  mAP50-95): 100%|██████████| 7/7 [00:03<00:00,  1.79it/s]"
          ]
        },
        {
          "name": "stdout",
          "output_type": "stream",
          "text": [
            "                   all        223        241      0.464      0.754      0.505      0.365\n"
          ]
        },
        {
          "name": "stderr",
          "output_type": "stream",
          "text": [
            "\n"
          ]
        },
        {
          "name": "stdout",
          "output_type": "stream",
          "text": [
            "\n",
            "      Epoch    GPU_mem   box_loss   cls_loss   dfl_loss  Instances       Size\n"
          ]
        },
        {
          "name": "stderr",
          "output_type": "stream",
          "text": [
            "     62/250      5.16G     0.8625     0.8861      1.034         16       1024: 100%|██████████| 56/56 [00:35<00:00,  1.57it/s]\n",
            "                 Class     Images  Instances      Box(P          R      mAP50  mAP50-95): 100%|██████████| 7/7 [00:05<00:00,  1.27it/s]"
          ]
        },
        {
          "name": "stdout",
          "output_type": "stream",
          "text": [
            "                   all        223        241      0.445      0.825       0.49       0.35\n"
          ]
        },
        {
          "name": "stderr",
          "output_type": "stream",
          "text": [
            "\n"
          ]
        },
        {
          "name": "stdout",
          "output_type": "stream",
          "text": [
            "\n",
            "      Epoch    GPU_mem   box_loss   cls_loss   dfl_loss  Instances       Size\n"
          ]
        },
        {
          "name": "stderr",
          "output_type": "stream",
          "text": [
            "     63/250      5.16G     0.8698     0.8566      1.034         20       1024: 100%|██████████| 56/56 [00:35<00:00,  1.58it/s]\n",
            "                 Class     Images  Instances      Box(P          R      mAP50  mAP50-95): 100%|██████████| 7/7 [00:03<00:00,  1.93it/s]"
          ]
        },
        {
          "name": "stdout",
          "output_type": "stream",
          "text": [
            "                   all        223        241      0.442       0.78       0.46      0.324\n"
          ]
        },
        {
          "name": "stderr",
          "output_type": "stream",
          "text": [
            "\n"
          ]
        },
        {
          "name": "stdout",
          "output_type": "stream",
          "text": [
            "\n",
            "      Epoch    GPU_mem   box_loss   cls_loss   dfl_loss  Instances       Size\n"
          ]
        },
        {
          "name": "stderr",
          "output_type": "stream",
          "text": [
            "     64/250      5.16G     0.8485     0.8551      1.019         22       1024: 100%|██████████| 56/56 [00:35<00:00,  1.56it/s]\n",
            "                 Class     Images  Instances      Box(P          R      mAP50  mAP50-95): 100%|██████████| 7/7 [00:04<00:00,  1.41it/s]"
          ]
        },
        {
          "name": "stdout",
          "output_type": "stream",
          "text": [
            "                   all        223        241      0.416      0.831      0.461      0.327\n"
          ]
        },
        {
          "name": "stderr",
          "output_type": "stream",
          "text": [
            "\n"
          ]
        },
        {
          "name": "stdout",
          "output_type": "stream",
          "text": [
            "\n",
            "      Epoch    GPU_mem   box_loss   cls_loss   dfl_loss  Instances       Size\n"
          ]
        },
        {
          "name": "stderr",
          "output_type": "stream",
          "text": [
            "     65/250      5.16G     0.8885     0.8793      1.042         19       1024: 100%|██████████| 56/56 [00:35<00:00,  1.56it/s]\n",
            "                 Class     Images  Instances      Box(P          R      mAP50  mAP50-95): 100%|██████████| 7/7 [00:03<00:00,  1.86it/s]"
          ]
        },
        {
          "name": "stdout",
          "output_type": "stream",
          "text": [
            "                   all        223        241        0.4      0.809      0.451       0.33\n"
          ]
        },
        {
          "name": "stderr",
          "output_type": "stream",
          "text": [
            "\n"
          ]
        },
        {
          "name": "stdout",
          "output_type": "stream",
          "text": [
            "\n",
            "      Epoch    GPU_mem   box_loss   cls_loss   dfl_loss  Instances       Size\n"
          ]
        },
        {
          "name": "stderr",
          "output_type": "stream",
          "text": [
            "     66/250      5.16G      0.896     0.9017      1.057         23       1024: 100%|██████████| 56/56 [00:35<00:00,  1.57it/s]\n",
            "                 Class     Images  Instances      Box(P          R      mAP50  mAP50-95): 100%|██████████| 7/7 [00:04<00:00,  1.70it/s]"
          ]
        },
        {
          "name": "stdout",
          "output_type": "stream",
          "text": [
            "                   all        223        241      0.433      0.825      0.474      0.339\n"
          ]
        },
        {
          "name": "stderr",
          "output_type": "stream",
          "text": [
            "\n"
          ]
        },
        {
          "name": "stdout",
          "output_type": "stream",
          "text": [
            "\n",
            "      Epoch    GPU_mem   box_loss   cls_loss   dfl_loss  Instances       Size\n"
          ]
        },
        {
          "name": "stderr",
          "output_type": "stream",
          "text": [
            "     67/250      5.16G     0.8859     0.8575      1.035         18       1024: 100%|██████████| 56/56 [00:35<00:00,  1.57it/s]\n",
            "                 Class     Images  Instances      Box(P          R      mAP50  mAP50-95): 100%|██████████| 7/7 [00:04<00:00,  1.44it/s]"
          ]
        },
        {
          "name": "stdout",
          "output_type": "stream",
          "text": [
            "                   all        223        241      0.402      0.835      0.437       0.31\n"
          ]
        },
        {
          "name": "stderr",
          "output_type": "stream",
          "text": [
            "\n"
          ]
        },
        {
          "name": "stdout",
          "output_type": "stream",
          "text": [
            "\n",
            "      Epoch    GPU_mem   box_loss   cls_loss   dfl_loss  Instances       Size\n"
          ]
        },
        {
          "name": "stderr",
          "output_type": "stream",
          "text": [
            "     68/250      5.16G      0.853     0.8426      1.014         21       1024: 100%|██████████| 56/56 [00:34<00:00,  1.61it/s]\n",
            "                 Class     Images  Instances      Box(P          R      mAP50  mAP50-95): 100%|██████████| 7/7 [00:03<00:00,  1.89it/s]"
          ]
        },
        {
          "name": "stdout",
          "output_type": "stream",
          "text": [
            "                   all        223        241      0.413      0.804      0.488       0.35\n"
          ]
        },
        {
          "name": "stderr",
          "output_type": "stream",
          "text": [
            "\n"
          ]
        },
        {
          "name": "stdout",
          "output_type": "stream",
          "text": [
            "\n",
            "      Epoch    GPU_mem   box_loss   cls_loss   dfl_loss  Instances       Size\n"
          ]
        },
        {
          "name": "stderr",
          "output_type": "stream",
          "text": [
            "     69/250      5.16G     0.8562     0.8243      1.023         24       1024: 100%|██████████| 56/56 [00:36<00:00,  1.55it/s]\n",
            "                 Class     Images  Instances      Box(P          R      mAP50  mAP50-95): 100%|██████████| 7/7 [00:05<00:00,  1.25it/s]"
          ]
        },
        {
          "name": "stdout",
          "output_type": "stream",
          "text": [
            "                   all        223        241      0.413      0.819      0.446      0.318\n"
          ]
        },
        {
          "name": "stderr",
          "output_type": "stream",
          "text": [
            "\n"
          ]
        },
        {
          "name": "stdout",
          "output_type": "stream",
          "text": [
            "\n",
            "      Epoch    GPU_mem   box_loss   cls_loss   dfl_loss  Instances       Size\n"
          ]
        },
        {
          "name": "stderr",
          "output_type": "stream",
          "text": [
            "     70/250       5.2G     0.8561     0.8644      1.027         20       1024: 100%|██████████| 56/56 [00:36<00:00,  1.54it/s]\n",
            "                 Class     Images  Instances      Box(P          R      mAP50  mAP50-95): 100%|██████████| 7/7 [00:03<00:00,  2.00it/s]"
          ]
        },
        {
          "name": "stdout",
          "output_type": "stream",
          "text": [
            "                   all        223        241      0.388      0.866      0.419      0.297\n"
          ]
        },
        {
          "name": "stderr",
          "output_type": "stream",
          "text": [
            "\n"
          ]
        },
        {
          "name": "stdout",
          "output_type": "stream",
          "text": [
            "\n",
            "      Epoch    GPU_mem   box_loss   cls_loss   dfl_loss  Instances       Size\n"
          ]
        },
        {
          "name": "stderr",
          "output_type": "stream",
          "text": [
            "     71/250      5.16G     0.8562     0.8186      1.033         20       1024: 100%|██████████| 56/56 [00:35<00:00,  1.59it/s]\n",
            "                 Class     Images  Instances      Box(P          R      mAP50  mAP50-95): 100%|██████████| 7/7 [00:04<00:00,  1.48it/s]"
          ]
        },
        {
          "name": "stdout",
          "output_type": "stream",
          "text": [
            "                   all        223        241       0.45       0.85      0.527      0.393\n"
          ]
        },
        {
          "name": "stderr",
          "output_type": "stream",
          "text": [
            "\n"
          ]
        },
        {
          "name": "stdout",
          "output_type": "stream",
          "text": [
            "\n",
            "      Epoch    GPU_mem   box_loss   cls_loss   dfl_loss  Instances       Size\n"
          ]
        },
        {
          "name": "stderr",
          "output_type": "stream",
          "text": [
            "     72/250      5.16G      0.863     0.8171      1.027         20       1024: 100%|██████████| 56/56 [00:35<00:00,  1.56it/s]\n",
            "                 Class     Images  Instances      Box(P          R      mAP50  mAP50-95): 100%|██████████| 7/7 [00:03<00:00,  1.85it/s]"
          ]
        },
        {
          "name": "stdout",
          "output_type": "stream",
          "text": [
            "                   all        223        241      0.437      0.772      0.464      0.344\n"
          ]
        },
        {
          "name": "stderr",
          "output_type": "stream",
          "text": [
            "\n"
          ]
        },
        {
          "name": "stdout",
          "output_type": "stream",
          "text": [
            "\n",
            "      Epoch    GPU_mem   box_loss   cls_loss   dfl_loss  Instances       Size\n"
          ]
        },
        {
          "name": "stderr",
          "output_type": "stream",
          "text": [
            "     73/250      5.16G     0.8312     0.7738      1.017         22       1024: 100%|██████████| 56/56 [00:35<00:00,  1.57it/s]\n",
            "                 Class     Images  Instances      Box(P          R      mAP50  mAP50-95): 100%|██████████| 7/7 [00:04<00:00,  1.73it/s]"
          ]
        },
        {
          "name": "stdout",
          "output_type": "stream",
          "text": [
            "                   all        223        241      0.438      0.771      0.463      0.344\n"
          ]
        },
        {
          "name": "stderr",
          "output_type": "stream",
          "text": [
            "\n"
          ]
        },
        {
          "name": "stdout",
          "output_type": "stream",
          "text": [
            "\n",
            "      Epoch    GPU_mem   box_loss   cls_loss   dfl_loss  Instances       Size\n"
          ]
        },
        {
          "name": "stderr",
          "output_type": "stream",
          "text": [
            "     74/250      5.16G     0.8333     0.7707      1.014         26       1024: 100%|██████████| 56/56 [00:36<00:00,  1.52it/s]\n",
            "                 Class     Images  Instances      Box(P          R      mAP50  mAP50-95): 100%|██████████| 7/7 [00:04<00:00,  1.49it/s]"
          ]
        },
        {
          "name": "stdout",
          "output_type": "stream",
          "text": [
            "                   all        223        241        0.4      0.813      0.448      0.316\n"
          ]
        },
        {
          "name": "stderr",
          "output_type": "stream",
          "text": [
            "\n"
          ]
        },
        {
          "name": "stdout",
          "output_type": "stream",
          "text": [
            "\n",
            "      Epoch    GPU_mem   box_loss   cls_loss   dfl_loss  Instances       Size\n"
          ]
        },
        {
          "name": "stderr",
          "output_type": "stream",
          "text": [
            "     75/250      5.16G      0.828     0.7609      1.017         11       1024: 100%|██████████| 56/56 [00:35<00:00,  1.59it/s]\n",
            "                 Class     Images  Instances      Box(P          R      mAP50  mAP50-95): 100%|██████████| 7/7 [00:03<00:00,  1.89it/s]"
          ]
        },
        {
          "name": "stdout",
          "output_type": "stream",
          "text": [
            "                   all        223        241      0.422      0.882      0.433      0.302\n"
          ]
        },
        {
          "name": "stderr",
          "output_type": "stream",
          "text": [
            "\n"
          ]
        },
        {
          "name": "stdout",
          "output_type": "stream",
          "text": [
            "\n",
            "      Epoch    GPU_mem   box_loss   cls_loss   dfl_loss  Instances       Size\n"
          ]
        },
        {
          "name": "stderr",
          "output_type": "stream",
          "text": [
            "     76/250      5.16G     0.8369     0.7438      1.022         21       1024: 100%|██████████| 56/56 [00:35<00:00,  1.56it/s]\n",
            "                 Class     Images  Instances      Box(P          R      mAP50  mAP50-95): 100%|██████████| 7/7 [00:05<00:00,  1.29it/s]"
          ]
        },
        {
          "name": "stdout",
          "output_type": "stream",
          "text": [
            "                   all        223        241      0.443      0.758      0.445       0.33\n"
          ]
        },
        {
          "name": "stderr",
          "output_type": "stream",
          "text": [
            "\n"
          ]
        },
        {
          "name": "stdout",
          "output_type": "stream",
          "text": [
            "\n",
            "      Epoch    GPU_mem   box_loss   cls_loss   dfl_loss  Instances       Size\n"
          ]
        },
        {
          "name": "stderr",
          "output_type": "stream",
          "text": [
            "     77/250      5.16G     0.8342     0.7326      1.016         22       1024: 100%|██████████| 56/56 [00:35<00:00,  1.58it/s]\n",
            "                 Class     Images  Instances      Box(P          R      mAP50  mAP50-95): 100%|██████████| 7/7 [00:03<00:00,  1.92it/s]"
          ]
        },
        {
          "name": "stdout",
          "output_type": "stream",
          "text": [
            "                   all        223        241      0.391       0.75       0.45      0.327\n"
          ]
        },
        {
          "name": "stderr",
          "output_type": "stream",
          "text": [
            "\n"
          ]
        },
        {
          "name": "stdout",
          "output_type": "stream",
          "text": [
            "\n",
            "      Epoch    GPU_mem   box_loss   cls_loss   dfl_loss  Instances       Size\n"
          ]
        },
        {
          "name": "stderr",
          "output_type": "stream",
          "text": [
            "     78/250      5.16G     0.8397     0.7819      1.012         23       1024: 100%|██████████| 56/56 [00:35<00:00,  1.59it/s]\n",
            "                 Class     Images  Instances      Box(P          R      mAP50  mAP50-95): 100%|██████████| 7/7 [00:06<00:00,  1.16it/s]"
          ]
        },
        {
          "name": "stdout",
          "output_type": "stream",
          "text": [
            "                   all        223        241      0.448      0.812      0.467       0.34\n"
          ]
        },
        {
          "name": "stderr",
          "output_type": "stream",
          "text": [
            "\n"
          ]
        },
        {
          "name": "stdout",
          "output_type": "stream",
          "text": [
            "\n",
            "      Epoch    GPU_mem   box_loss   cls_loss   dfl_loss  Instances       Size\n"
          ]
        },
        {
          "name": "stderr",
          "output_type": "stream",
          "text": [
            "     79/250      5.16G     0.8316     0.7516      1.011         12       1024: 100%|██████████| 56/56 [00:35<00:00,  1.57it/s]\n",
            "                 Class     Images  Instances      Box(P          R      mAP50  mAP50-95): 100%|██████████| 7/7 [00:03<00:00,  1.89it/s]"
          ]
        },
        {
          "name": "stdout",
          "output_type": "stream",
          "text": [
            "                   all        223        241      0.484       0.66      0.529      0.385\n"
          ]
        },
        {
          "name": "stderr",
          "output_type": "stream",
          "text": [
            "\n"
          ]
        },
        {
          "name": "stdout",
          "output_type": "stream",
          "text": [
            "\n",
            "      Epoch    GPU_mem   box_loss   cls_loss   dfl_loss  Instances       Size\n"
          ]
        },
        {
          "name": "stderr",
          "output_type": "stream",
          "text": [
            "     80/250      5.16G     0.8355     0.7683      1.017         24       1024: 100%|██████████| 56/56 [00:35<00:00,  1.58it/s]\n",
            "                 Class     Images  Instances      Box(P          R      mAP50  mAP50-95): 100%|██████████| 7/7 [00:04<00:00,  1.56it/s]"
          ]
        },
        {
          "name": "stdout",
          "output_type": "stream",
          "text": [
            "                   all        223        241      0.474      0.796      0.514      0.369\n"
          ]
        },
        {
          "name": "stderr",
          "output_type": "stream",
          "text": [
            "\n"
          ]
        },
        {
          "name": "stdout",
          "output_type": "stream",
          "text": [
            "\n",
            "      Epoch    GPU_mem   box_loss   cls_loss   dfl_loss  Instances       Size\n"
          ]
        },
        {
          "name": "stderr",
          "output_type": "stream",
          "text": [
            "     81/250      5.16G     0.8029     0.7434     0.9953         18       1024: 100%|██████████| 56/56 [00:35<00:00,  1.57it/s]\n",
            "                 Class     Images  Instances      Box(P          R      mAP50  mAP50-95): 100%|██████████| 7/7 [00:04<00:00,  1.51it/s]"
          ]
        },
        {
          "name": "stdout",
          "output_type": "stream",
          "text": [
            "                   all        223        241      0.438      0.781      0.483      0.357\n"
          ]
        },
        {
          "name": "stderr",
          "output_type": "stream",
          "text": [
            "\n"
          ]
        },
        {
          "name": "stdout",
          "output_type": "stream",
          "text": [
            "\n",
            "      Epoch    GPU_mem   box_loss   cls_loss   dfl_loss  Instances       Size\n"
          ]
        },
        {
          "name": "stderr",
          "output_type": "stream",
          "text": [
            "     82/250      5.16G     0.8128     0.7415      1.007         27       1024: 100%|██████████| 56/56 [00:34<00:00,  1.60it/s]\n",
            "                 Class     Images  Instances      Box(P          R      mAP50  mAP50-95): 100%|██████████| 7/7 [00:04<00:00,  1.73it/s]"
          ]
        },
        {
          "name": "stdout",
          "output_type": "stream",
          "text": [
            "                   all        223        241      0.443      0.815       0.48      0.345\n"
          ]
        },
        {
          "name": "stderr",
          "output_type": "stream",
          "text": [
            "\n"
          ]
        },
        {
          "name": "stdout",
          "output_type": "stream",
          "text": [
            "\n",
            "      Epoch    GPU_mem   box_loss   cls_loss   dfl_loss  Instances       Size\n"
          ]
        },
        {
          "name": "stderr",
          "output_type": "stream",
          "text": [
            "     83/250      5.16G     0.8318     0.7273      1.006         24       1024: 100%|██████████| 56/56 [00:37<00:00,  1.49it/s]\n",
            "                 Class     Images  Instances      Box(P          R      mAP50  mAP50-95): 100%|██████████| 7/7 [00:06<00:00,  1.09it/s]"
          ]
        },
        {
          "name": "stdout",
          "output_type": "stream",
          "text": [
            "                   all        223        241      0.479      0.652       0.52      0.385\n"
          ]
        },
        {
          "name": "stderr",
          "output_type": "stream",
          "text": [
            "\n"
          ]
        },
        {
          "name": "stdout",
          "output_type": "stream",
          "text": [
            "\n",
            "      Epoch    GPU_mem   box_loss   cls_loss   dfl_loss  Instances       Size\n"
          ]
        },
        {
          "name": "stderr",
          "output_type": "stream",
          "text": [
            "     84/250      5.16G      0.797     0.6939      1.003         25       1024: 100%|██████████| 56/56 [00:36<00:00,  1.54it/s]\n",
            "                 Class     Images  Instances      Box(P          R      mAP50  mAP50-95): 100%|██████████| 7/7 [00:03<00:00,  1.83it/s]"
          ]
        },
        {
          "name": "stdout",
          "output_type": "stream",
          "text": [
            "                   all        223        241      0.444      0.787      0.511      0.365\n"
          ]
        },
        {
          "name": "stderr",
          "output_type": "stream",
          "text": [
            "\n"
          ]
        },
        {
          "name": "stdout",
          "output_type": "stream",
          "text": [
            "\n",
            "      Epoch    GPU_mem   box_loss   cls_loss   dfl_loss  Instances       Size\n"
          ]
        },
        {
          "name": "stderr",
          "output_type": "stream",
          "text": [
            "     85/250      5.16G     0.8033     0.7361      1.002         23       1024: 100%|██████████| 56/56 [00:36<00:00,  1.55it/s]\n",
            "                 Class     Images  Instances      Box(P          R      mAP50  mAP50-95): 100%|██████████| 7/7 [00:05<00:00,  1.33it/s]"
          ]
        },
        {
          "name": "stdout",
          "output_type": "stream",
          "text": [
            "                   all        223        241      0.429      0.789      0.483      0.355\n"
          ]
        },
        {
          "name": "stderr",
          "output_type": "stream",
          "text": [
            "\n"
          ]
        },
        {
          "name": "stdout",
          "output_type": "stream",
          "text": [
            "\n",
            "      Epoch    GPU_mem   box_loss   cls_loss   dfl_loss  Instances       Size\n"
          ]
        },
        {
          "name": "stderr",
          "output_type": "stream",
          "text": [
            "     86/250      5.16G     0.8196     0.7443      1.005         18       1024: 100%|██████████| 56/56 [00:36<00:00,  1.54it/s]\n",
            "                 Class     Images  Instances      Box(P          R      mAP50  mAP50-95): 100%|██████████| 7/7 [00:03<00:00,  1.80it/s]"
          ]
        },
        {
          "name": "stdout",
          "output_type": "stream",
          "text": [
            "                   all        223        241      0.429      0.796      0.494      0.348\n"
          ]
        },
        {
          "name": "stderr",
          "output_type": "stream",
          "text": [
            "\n"
          ]
        },
        {
          "name": "stdout",
          "output_type": "stream",
          "text": [
            "\n",
            "      Epoch    GPU_mem   box_loss   cls_loss   dfl_loss  Instances       Size\n"
          ]
        },
        {
          "name": "stderr",
          "output_type": "stream",
          "text": [
            "     87/250      5.16G     0.8279     0.7387      1.007         25       1024: 100%|██████████| 56/56 [00:35<00:00,  1.57it/s]\n",
            "                 Class     Images  Instances      Box(P          R      mAP50  mAP50-95): 100%|██████████| 7/7 [00:05<00:00,  1.25it/s]"
          ]
        },
        {
          "name": "stdout",
          "output_type": "stream",
          "text": [
            "                   all        223        241      0.467      0.824      0.519      0.372\n"
          ]
        },
        {
          "name": "stderr",
          "output_type": "stream",
          "text": [
            "\n"
          ]
        },
        {
          "name": "stdout",
          "output_type": "stream",
          "text": [
            "\n",
            "      Epoch    GPU_mem   box_loss   cls_loss   dfl_loss  Instances       Size\n"
          ]
        },
        {
          "name": "stderr",
          "output_type": "stream",
          "text": [
            "     88/250      5.16G     0.7982     0.6858      0.995         18       1024: 100%|██████████| 56/56 [00:35<00:00,  1.57it/s]\n",
            "                 Class     Images  Instances      Box(P          R      mAP50  mAP50-95): 100%|██████████| 7/7 [00:03<00:00,  1.84it/s]"
          ]
        },
        {
          "name": "stdout",
          "output_type": "stream",
          "text": [
            "                   all        223        241       0.43      0.797      0.491      0.357\n"
          ]
        },
        {
          "name": "stderr",
          "output_type": "stream",
          "text": [
            "\n"
          ]
        },
        {
          "name": "stdout",
          "output_type": "stream",
          "text": [
            "\n",
            "      Epoch    GPU_mem   box_loss   cls_loss   dfl_loss  Instances       Size\n"
          ]
        },
        {
          "name": "stderr",
          "output_type": "stream",
          "text": [
            "     89/250      5.16G     0.7915      0.702     0.9908         20       1024: 100%|██████████| 56/56 [00:34<00:00,  1.62it/s]\n",
            "                 Class     Images  Instances      Box(P          R      mAP50  mAP50-95): 100%|██████████| 7/7 [00:05<00:00,  1.17it/s]"
          ]
        },
        {
          "name": "stdout",
          "output_type": "stream",
          "text": [
            "                   all        223        241      0.367      0.694      0.405      0.293\n"
          ]
        },
        {
          "name": "stderr",
          "output_type": "stream",
          "text": [
            "\n"
          ]
        },
        {
          "name": "stdout",
          "output_type": "stream",
          "text": [
            "\n",
            "      Epoch    GPU_mem   box_loss   cls_loss   dfl_loss  Instances       Size\n"
          ]
        },
        {
          "name": "stderr",
          "output_type": "stream",
          "text": [
            "     90/250      5.16G     0.7862     0.6821     0.9892         26       1024: 100%|██████████| 56/56 [00:35<00:00,  1.60it/s]\n",
            "                 Class     Images  Instances      Box(P          R      mAP50  mAP50-95): 100%|██████████| 7/7 [00:03<00:00,  1.86it/s]"
          ]
        },
        {
          "name": "stdout",
          "output_type": "stream",
          "text": [
            "                   all        223        241      0.462      0.853      0.523      0.385\n"
          ]
        },
        {
          "name": "stderr",
          "output_type": "stream",
          "text": [
            "\n"
          ]
        },
        {
          "name": "stdout",
          "output_type": "stream",
          "text": [
            "\n",
            "      Epoch    GPU_mem   box_loss   cls_loss   dfl_loss  Instances       Size\n"
          ]
        },
        {
          "name": "stderr",
          "output_type": "stream",
          "text": [
            "     91/250      5.16G     0.7974     0.6997     0.9997         18       1024: 100%|██████████| 56/56 [00:35<00:00,  1.59it/s]\n",
            "                 Class     Images  Instances      Box(P          R      mAP50  mAP50-95): 100%|██████████| 7/7 [00:04<00:00,  1.58it/s]"
          ]
        },
        {
          "name": "stdout",
          "output_type": "stream",
          "text": [
            "                   all        223        241      0.442      0.729      0.503      0.379\n"
          ]
        },
        {
          "name": "stderr",
          "output_type": "stream",
          "text": [
            "\n"
          ]
        },
        {
          "name": "stdout",
          "output_type": "stream",
          "text": [
            "\n",
            "      Epoch    GPU_mem   box_loss   cls_loss   dfl_loss  Instances       Size\n"
          ]
        },
        {
          "name": "stderr",
          "output_type": "stream",
          "text": [
            "     92/250      5.16G     0.8083     0.7107      1.001         20       1024: 100%|██████████| 56/56 [00:35<00:00,  1.56it/s]\n",
            "                 Class     Images  Instances      Box(P          R      mAP50  mAP50-95): 100%|██████████| 7/7 [00:03<00:00,  1.84it/s]"
          ]
        },
        {
          "name": "stdout",
          "output_type": "stream",
          "text": [
            "                   all        223        241      0.428      0.705      0.484      0.348\n"
          ]
        },
        {
          "name": "stderr",
          "output_type": "stream",
          "text": [
            "\n"
          ]
        },
        {
          "name": "stdout",
          "output_type": "stream",
          "text": [
            "\n",
            "      Epoch    GPU_mem   box_loss   cls_loss   dfl_loss  Instances       Size\n"
          ]
        },
        {
          "name": "stderr",
          "output_type": "stream",
          "text": [
            "     93/250      5.16G     0.7811     0.6506     0.9968         24       1024: 100%|██████████| 56/56 [00:35<00:00,  1.57it/s]\n",
            "                 Class     Images  Instances      Box(P          R      mAP50  mAP50-95): 100%|██████████| 7/7 [00:03<00:00,  1.85it/s]"
          ]
        },
        {
          "name": "stdout",
          "output_type": "stream",
          "text": [
            "                   all        223        241      0.467      0.791      0.579      0.423\n"
          ]
        },
        {
          "name": "stderr",
          "output_type": "stream",
          "text": [
            "\n"
          ]
        },
        {
          "name": "stdout",
          "output_type": "stream",
          "text": [
            "\n",
            "      Epoch    GPU_mem   box_loss   cls_loss   dfl_loss  Instances       Size\n"
          ]
        },
        {
          "name": "stderr",
          "output_type": "stream",
          "text": [
            "     94/250      5.16G     0.8059     0.7015      1.009         17       1024: 100%|██████████| 56/56 [00:36<00:00,  1.53it/s]\n",
            "                 Class     Images  Instances      Box(P          R      mAP50  mAP50-95): 100%|██████████| 7/7 [00:05<00:00,  1.28it/s]"
          ]
        },
        {
          "name": "stdout",
          "output_type": "stream",
          "text": [
            "                   all        223        241      0.432      0.712      0.482      0.343\n"
          ]
        },
        {
          "name": "stderr",
          "output_type": "stream",
          "text": [
            "\n"
          ]
        },
        {
          "name": "stdout",
          "output_type": "stream",
          "text": [
            "\n",
            "      Epoch    GPU_mem   box_loss   cls_loss   dfl_loss  Instances       Size\n"
          ]
        },
        {
          "name": "stderr",
          "output_type": "stream",
          "text": [
            "     95/250      5.16G     0.7839      0.668     0.9928         19       1024: 100%|██████████| 56/56 [00:35<00:00,  1.57it/s]\n",
            "                 Class     Images  Instances      Box(P          R      mAP50  mAP50-95): 100%|██████████| 7/7 [00:03<00:00,  1.80it/s]"
          ]
        },
        {
          "name": "stdout",
          "output_type": "stream",
          "text": [
            "                   all        223        241       0.45       0.79      0.496       0.37\n"
          ]
        },
        {
          "name": "stderr",
          "output_type": "stream",
          "text": [
            "\n"
          ]
        },
        {
          "name": "stdout",
          "output_type": "stream",
          "text": [
            "\n",
            "      Epoch    GPU_mem   box_loss   cls_loss   dfl_loss  Instances       Size\n"
          ]
        },
        {
          "name": "stderr",
          "output_type": "stream",
          "text": [
            "     96/250      5.16G     0.7963     0.6618     0.9955         13       1024: 100%|██████████| 56/56 [00:35<00:00,  1.60it/s]\n",
            "                 Class     Images  Instances      Box(P          R      mAP50  mAP50-95): 100%|██████████| 7/7 [00:05<00:00,  1.19it/s]"
          ]
        },
        {
          "name": "stdout",
          "output_type": "stream",
          "text": [
            "                   all        223        241      0.436      0.634      0.455       0.33\n"
          ]
        },
        {
          "name": "stderr",
          "output_type": "stream",
          "text": [
            "\n"
          ]
        },
        {
          "name": "stdout",
          "output_type": "stream",
          "text": [
            "\n",
            "      Epoch    GPU_mem   box_loss   cls_loss   dfl_loss  Instances       Size\n"
          ]
        },
        {
          "name": "stderr",
          "output_type": "stream",
          "text": [
            "     97/250      5.19G     0.7976     0.6565     0.9942         23       1024: 100%|██████████| 56/56 [00:35<00:00,  1.57it/s]\n",
            "                 Class     Images  Instances      Box(P          R      mAP50  mAP50-95): 100%|██████████| 7/7 [00:03<00:00,  1.93it/s]"
          ]
        },
        {
          "name": "stdout",
          "output_type": "stream",
          "text": [
            "                   all        223        241      0.443        0.8      0.495      0.371\n"
          ]
        },
        {
          "name": "stderr",
          "output_type": "stream",
          "text": [
            "\n"
          ]
        },
        {
          "name": "stdout",
          "output_type": "stream",
          "text": [
            "\n",
            "      Epoch    GPU_mem   box_loss   cls_loss   dfl_loss  Instances       Size\n"
          ]
        },
        {
          "name": "stderr",
          "output_type": "stream",
          "text": [
            "     98/250      5.16G     0.7959     0.6473     0.9998         26       1024: 100%|██████████| 56/56 [00:34<00:00,  1.61it/s]\n",
            "                 Class     Images  Instances      Box(P          R      mAP50  mAP50-95): 100%|██████████| 7/7 [00:04<00:00,  1.52it/s]"
          ]
        },
        {
          "name": "stdout",
          "output_type": "stream",
          "text": [
            "                   all        223        241      0.443      0.798      0.509      0.367\n"
          ]
        },
        {
          "name": "stderr",
          "output_type": "stream",
          "text": [
            "\n"
          ]
        },
        {
          "name": "stdout",
          "output_type": "stream",
          "text": [
            "\n",
            "      Epoch    GPU_mem   box_loss   cls_loss   dfl_loss  Instances       Size\n"
          ]
        },
        {
          "name": "stderr",
          "output_type": "stream",
          "text": [
            "     99/250      5.16G     0.7899     0.6872     0.9957         27       1024: 100%|██████████| 56/56 [00:36<00:00,  1.54it/s]\n",
            "                 Class     Images  Instances      Box(P          R      mAP50  mAP50-95): 100%|██████████| 7/7 [00:03<00:00,  1.85it/s]"
          ]
        },
        {
          "name": "stdout",
          "output_type": "stream",
          "text": [
            "                   all        223        241      0.426      0.758      0.475      0.352\n"
          ]
        },
        {
          "name": "stderr",
          "output_type": "stream",
          "text": [
            "\n"
          ]
        },
        {
          "name": "stdout",
          "output_type": "stream",
          "text": [
            "\n",
            "      Epoch    GPU_mem   box_loss   cls_loss   dfl_loss  Instances       Size\n"
          ]
        },
        {
          "name": "stderr",
          "output_type": "stream",
          "text": [
            "    100/250      5.16G     0.7786     0.6241     0.9807         16       1024: 100%|██████████| 56/56 [00:34<00:00,  1.60it/s]\n",
            "                 Class     Images  Instances      Box(P          R      mAP50  mAP50-95): 100%|██████████| 7/7 [00:03<00:00,  2.02it/s]"
          ]
        },
        {
          "name": "stdout",
          "output_type": "stream",
          "text": [
            "                   all        223        241      0.452      0.802      0.494      0.356\n"
          ]
        },
        {
          "name": "stderr",
          "output_type": "stream",
          "text": [
            "\n"
          ]
        },
        {
          "name": "stdout",
          "output_type": "stream",
          "text": [
            "\n",
            "      Epoch    GPU_mem   box_loss   cls_loss   dfl_loss  Instances       Size\n"
          ]
        },
        {
          "name": "stderr",
          "output_type": "stream",
          "text": [
            "    101/250      5.16G     0.7867     0.6223     0.9918         23       1024: 100%|██████████| 56/56 [00:35<00:00,  1.57it/s]\n",
            "                 Class     Images  Instances      Box(P          R      mAP50  mAP50-95): 100%|██████████| 7/7 [00:05<00:00,  1.25it/s]"
          ]
        },
        {
          "name": "stdout",
          "output_type": "stream",
          "text": [
            "                   all        223        241      0.429      0.751      0.491      0.366\n"
          ]
        },
        {
          "name": "stderr",
          "output_type": "stream",
          "text": [
            "\n"
          ]
        },
        {
          "name": "stdout",
          "output_type": "stream",
          "text": [
            "\n",
            "      Epoch    GPU_mem   box_loss   cls_loss   dfl_loss  Instances       Size\n"
          ]
        },
        {
          "name": "stderr",
          "output_type": "stream",
          "text": [
            "    102/250      5.16G     0.7527     0.6442     0.9792         26       1024: 100%|██████████| 56/56 [00:35<00:00,  1.57it/s]\n",
            "                 Class     Images  Instances      Box(P          R      mAP50  mAP50-95): 100%|██████████| 7/7 [00:03<00:00,  1.92it/s]"
          ]
        },
        {
          "name": "stdout",
          "output_type": "stream",
          "text": [
            "                   all        223        241      0.451      0.737      0.502      0.368\n"
          ]
        },
        {
          "name": "stderr",
          "output_type": "stream",
          "text": [
            "\n"
          ]
        },
        {
          "name": "stdout",
          "output_type": "stream",
          "text": [
            "\n",
            "      Epoch    GPU_mem   box_loss   cls_loss   dfl_loss  Instances       Size\n"
          ]
        },
        {
          "name": "stderr",
          "output_type": "stream",
          "text": [
            "    103/250      5.16G     0.7631     0.6612     0.9916         23       1024: 100%|██████████| 56/56 [00:35<00:00,  1.57it/s]\n",
            "                 Class     Images  Instances      Box(P          R      mAP50  mAP50-95): 100%|██████████| 7/7 [00:05<00:00,  1.24it/s]"
          ]
        },
        {
          "name": "stdout",
          "output_type": "stream",
          "text": [
            "                   all        223        241      0.513       0.76      0.574      0.414\n"
          ]
        },
        {
          "name": "stderr",
          "output_type": "stream",
          "text": [
            "\n"
          ]
        },
        {
          "name": "stdout",
          "output_type": "stream",
          "text": [
            "\n",
            "      Epoch    GPU_mem   box_loss   cls_loss   dfl_loss  Instances       Size\n"
          ]
        },
        {
          "name": "stderr",
          "output_type": "stream",
          "text": [
            "    104/250      5.16G     0.7866     0.6442     0.9828         24       1024: 100%|██████████| 56/56 [00:35<00:00,  1.57it/s]\n",
            "                 Class     Images  Instances      Box(P          R      mAP50  mAP50-95): 100%|██████████| 7/7 [00:03<00:00,  1.87it/s]"
          ]
        },
        {
          "name": "stdout",
          "output_type": "stream",
          "text": [
            "                   all        223        241      0.428      0.793      0.488      0.345\n"
          ]
        },
        {
          "name": "stderr",
          "output_type": "stream",
          "text": [
            "\n"
          ]
        },
        {
          "name": "stdout",
          "output_type": "stream",
          "text": [
            "\n",
            "      Epoch    GPU_mem   box_loss   cls_loss   dfl_loss  Instances       Size\n"
          ]
        },
        {
          "name": "stderr",
          "output_type": "stream",
          "text": [
            "    105/250      5.16G      0.745      0.629      0.977         19       1024: 100%|██████████| 56/56 [00:35<00:00,  1.60it/s]\n",
            "                 Class     Images  Instances      Box(P          R      mAP50  mAP50-95): 100%|██████████| 7/7 [00:05<00:00,  1.38it/s]"
          ]
        },
        {
          "name": "stdout",
          "output_type": "stream",
          "text": [
            "                   all        223        241      0.409      0.767      0.424        0.3\n"
          ]
        },
        {
          "name": "stderr",
          "output_type": "stream",
          "text": [
            "\n"
          ]
        },
        {
          "name": "stdout",
          "output_type": "stream",
          "text": [
            "\n",
            "      Epoch    GPU_mem   box_loss   cls_loss   dfl_loss  Instances       Size\n"
          ]
        },
        {
          "name": "stderr",
          "output_type": "stream",
          "text": [
            "    106/250      5.16G     0.7724     0.6095     0.9953         25       1024: 100%|██████████| 56/56 [00:35<00:00,  1.57it/s]\n",
            "                 Class     Images  Instances      Box(P          R      mAP50  mAP50-95): 100%|██████████| 7/7 [00:03<00:00,  1.75it/s]"
          ]
        },
        {
          "name": "stdout",
          "output_type": "stream",
          "text": [
            "                   all        223        241      0.446        0.8      0.501      0.355\n"
          ]
        },
        {
          "name": "stderr",
          "output_type": "stream",
          "text": [
            "\n"
          ]
        },
        {
          "name": "stdout",
          "output_type": "stream",
          "text": [
            "\n",
            "      Epoch    GPU_mem   box_loss   cls_loss   dfl_loss  Instances       Size\n"
          ]
        },
        {
          "name": "stderr",
          "output_type": "stream",
          "text": [
            "    107/250      5.16G     0.7704     0.6037     0.9889         27       1024: 100%|██████████| 56/56 [00:35<00:00,  1.57it/s]\n",
            "                 Class     Images  Instances      Box(P          R      mAP50  mAP50-95): 100%|██████████| 7/7 [00:03<00:00,  1.91it/s]"
          ]
        },
        {
          "name": "stdout",
          "output_type": "stream",
          "text": [
            "                   all        223        241      0.473      0.663      0.489      0.359\n"
          ]
        },
        {
          "name": "stderr",
          "output_type": "stream",
          "text": [
            "\n"
          ]
        },
        {
          "name": "stdout",
          "output_type": "stream",
          "text": [
            "\n",
            "      Epoch    GPU_mem   box_loss   cls_loss   dfl_loss  Instances       Size\n"
          ]
        },
        {
          "name": "stderr",
          "output_type": "stream",
          "text": [
            "    108/250      5.16G     0.7277     0.5856     0.9683         16       1024: 100%|██████████| 56/56 [00:36<00:00,  1.53it/s]\n",
            "                 Class     Images  Instances      Box(P          R      mAP50  mAP50-95): 100%|██████████| 7/7 [00:04<00:00,  1.42it/s]"
          ]
        },
        {
          "name": "stdout",
          "output_type": "stream",
          "text": [
            "                   all        223        241      0.461      0.557      0.447      0.324\n"
          ]
        },
        {
          "name": "stderr",
          "output_type": "stream",
          "text": [
            "\n"
          ]
        },
        {
          "name": "stdout",
          "output_type": "stream",
          "text": [
            "\n",
            "      Epoch    GPU_mem   box_loss   cls_loss   dfl_loss  Instances       Size\n"
          ]
        },
        {
          "name": "stderr",
          "output_type": "stream",
          "text": [
            "    109/250      5.16G     0.7522     0.5928     0.9772         27       1024: 100%|██████████| 56/56 [00:35<00:00,  1.57it/s]\n",
            "                 Class     Images  Instances      Box(P          R      mAP50  mAP50-95): 100%|██████████| 7/7 [00:03<00:00,  1.84it/s]"
          ]
        },
        {
          "name": "stdout",
          "output_type": "stream",
          "text": [
            "                   all        223        241      0.426      0.765      0.463      0.343\n"
          ]
        },
        {
          "name": "stderr",
          "output_type": "stream",
          "text": [
            "\n"
          ]
        },
        {
          "name": "stdout",
          "output_type": "stream",
          "text": [
            "\n",
            "      Epoch    GPU_mem   box_loss   cls_loss   dfl_loss  Instances       Size\n"
          ]
        },
        {
          "name": "stderr",
          "output_type": "stream",
          "text": [
            "    110/250      5.16G     0.7517     0.5939     0.9733         27       1024: 100%|██████████| 56/56 [00:36<00:00,  1.55it/s]\n",
            "                 Class     Images  Instances      Box(P          R      mAP50  mAP50-95): 100%|██████████| 7/7 [00:05<00:00,  1.28it/s]"
          ]
        },
        {
          "name": "stdout",
          "output_type": "stream",
          "text": [
            "                   all        223        241      0.442      0.731      0.482      0.341\n"
          ]
        },
        {
          "name": "stderr",
          "output_type": "stream",
          "text": [
            "\n"
          ]
        },
        {
          "name": "stdout",
          "output_type": "stream",
          "text": [
            "\n",
            "      Epoch    GPU_mem   box_loss   cls_loss   dfl_loss  Instances       Size\n"
          ]
        },
        {
          "name": "stderr",
          "output_type": "stream",
          "text": [
            "    111/250      5.16G     0.7232      0.577      0.955         23       1024: 100%|██████████| 56/56 [00:34<00:00,  1.62it/s]\n",
            "                 Class     Images  Instances      Box(P          R      mAP50  mAP50-95): 100%|██████████| 7/7 [00:03<00:00,  1.79it/s]"
          ]
        },
        {
          "name": "stdout",
          "output_type": "stream",
          "text": [
            "                   all        223        241      0.443      0.786      0.494      0.355\n"
          ]
        },
        {
          "name": "stderr",
          "output_type": "stream",
          "text": [
            "\n"
          ]
        },
        {
          "name": "stdout",
          "output_type": "stream",
          "text": [
            "\n",
            "      Epoch    GPU_mem   box_loss   cls_loss   dfl_loss  Instances       Size\n"
          ]
        },
        {
          "name": "stderr",
          "output_type": "stream",
          "text": [
            "    112/250      5.16G     0.7497      0.598     0.9673         21       1024: 100%|██████████| 56/56 [00:35<00:00,  1.58it/s]\n",
            "                 Class     Images  Instances      Box(P          R      mAP50  mAP50-95): 100%|██████████| 7/7 [00:05<00:00,  1.27it/s]"
          ]
        },
        {
          "name": "stdout",
          "output_type": "stream",
          "text": [
            "                   all        223        241      0.453      0.736      0.484      0.362\n"
          ]
        },
        {
          "name": "stderr",
          "output_type": "stream",
          "text": [
            "\n"
          ]
        },
        {
          "name": "stdout",
          "output_type": "stream",
          "text": [
            "\n",
            "      Epoch    GPU_mem   box_loss   cls_loss   dfl_loss  Instances       Size\n"
          ]
        },
        {
          "name": "stderr",
          "output_type": "stream",
          "text": [
            "    113/250      5.16G     0.7283     0.5758     0.9637         26       1024: 100%|██████████| 56/56 [00:35<00:00,  1.59it/s]\n",
            "                 Class     Images  Instances      Box(P          R      mAP50  mAP50-95): 100%|██████████| 7/7 [00:03<00:00,  1.89it/s]"
          ]
        },
        {
          "name": "stdout",
          "output_type": "stream",
          "text": [
            "                   all        223        241      0.441        0.7      0.446      0.325\n"
          ]
        },
        {
          "name": "stderr",
          "output_type": "stream",
          "text": [
            "\n"
          ]
        },
        {
          "name": "stdout",
          "output_type": "stream",
          "text": [
            "\n",
            "      Epoch    GPU_mem   box_loss   cls_loss   dfl_loss  Instances       Size\n"
          ]
        },
        {
          "name": "stderr",
          "output_type": "stream",
          "text": [
            "    114/250      5.16G     0.7432     0.5464     0.9721         16       1024: 100%|██████████| 56/56 [00:35<00:00,  1.56it/s]\n",
            "                 Class     Images  Instances      Box(P          R      mAP50  mAP50-95): 100%|██████████| 7/7 [00:04<00:00,  1.51it/s]"
          ]
        },
        {
          "name": "stdout",
          "output_type": "stream",
          "text": [
            "                   all        223        241      0.453      0.609      0.453      0.337\n"
          ]
        },
        {
          "name": "stderr",
          "output_type": "stream",
          "text": [
            "\n"
          ]
        },
        {
          "name": "stdout",
          "output_type": "stream",
          "text": [
            "\n",
            "      Epoch    GPU_mem   box_loss   cls_loss   dfl_loss  Instances       Size\n"
          ]
        },
        {
          "name": "stderr",
          "output_type": "stream",
          "text": [
            "    115/250      5.16G     0.7457     0.5697      0.973         26       1024: 100%|██████████| 56/56 [00:36<00:00,  1.55it/s]\n",
            "                 Class     Images  Instances      Box(P          R      mAP50  mAP50-95): 100%|██████████| 7/7 [00:03<00:00,  1.87it/s]"
          ]
        },
        {
          "name": "stdout",
          "output_type": "stream",
          "text": [
            "                   all        223        241      0.443      0.742      0.489      0.359\n"
          ]
        },
        {
          "name": "stderr",
          "output_type": "stream",
          "text": [
            "\n"
          ]
        },
        {
          "name": "stdout",
          "output_type": "stream",
          "text": [
            "\n",
            "      Epoch    GPU_mem   box_loss   cls_loss   dfl_loss  Instances       Size\n"
          ]
        },
        {
          "name": "stderr",
          "output_type": "stream",
          "text": [
            "    116/250      5.16G     0.7374     0.5744     0.9794         17       1024: 100%|██████████| 56/56 [00:35<00:00,  1.60it/s]\n",
            "                 Class     Images  Instances      Box(P          R      mAP50  mAP50-95): 100%|██████████| 7/7 [00:03<00:00,  1.75it/s]"
          ]
        },
        {
          "name": "stdout",
          "output_type": "stream",
          "text": [
            "                   all        223        241      0.427      0.763      0.449      0.331\n"
          ]
        },
        {
          "name": "stderr",
          "output_type": "stream",
          "text": [
            "\n"
          ]
        },
        {
          "name": "stdout",
          "output_type": "stream",
          "text": [
            "\n",
            "      Epoch    GPU_mem   box_loss   cls_loss   dfl_loss  Instances       Size\n"
          ]
        },
        {
          "name": "stderr",
          "output_type": "stream",
          "text": [
            "    117/250      5.16G     0.7654     0.6033      0.985         15       1024: 100%|██████████| 56/56 [00:37<00:00,  1.51it/s]\n",
            "                 Class     Images  Instances      Box(P          R      mAP50  mAP50-95): 100%|██████████| 7/7 [00:04<00:00,  1.60it/s]"
          ]
        },
        {
          "name": "stdout",
          "output_type": "stream",
          "text": [
            "                   all        223        241      0.411      0.798      0.457      0.326\n"
          ]
        },
        {
          "name": "stderr",
          "output_type": "stream",
          "text": [
            "\n"
          ]
        },
        {
          "name": "stdout",
          "output_type": "stream",
          "text": [
            "\n",
            "      Epoch    GPU_mem   box_loss   cls_loss   dfl_loss  Instances       Size\n"
          ]
        },
        {
          "name": "stderr",
          "output_type": "stream",
          "text": [
            "    118/250      5.16G     0.7274     0.5681     0.9698         30       1024: 100%|██████████| 56/56 [00:35<00:00,  1.59it/s]\n",
            "                 Class     Images  Instances      Box(P          R      mAP50  mAP50-95): 100%|██████████| 7/7 [00:03<00:00,  1.86it/s]"
          ]
        },
        {
          "name": "stdout",
          "output_type": "stream",
          "text": [
            "                   all        223        241      0.467      0.769      0.501      0.362\n"
          ]
        },
        {
          "name": "stderr",
          "output_type": "stream",
          "text": [
            "\n"
          ]
        },
        {
          "name": "stdout",
          "output_type": "stream",
          "text": [
            "\n",
            "      Epoch    GPU_mem   box_loss   cls_loss   dfl_loss  Instances       Size\n"
          ]
        },
        {
          "name": "stderr",
          "output_type": "stream",
          "text": [
            "    119/250      5.16G     0.7194     0.5616     0.9633         22       1024: 100%|██████████| 56/56 [00:36<00:00,  1.54it/s]\n",
            "                 Class     Images  Instances      Box(P          R      mAP50  mAP50-95): 100%|██████████| 7/7 [00:05<00:00,  1.24it/s]"
          ]
        },
        {
          "name": "stdout",
          "output_type": "stream",
          "text": [
            "                   all        223        241       0.45      0.772      0.507      0.374\n"
          ]
        },
        {
          "name": "stderr",
          "output_type": "stream",
          "text": [
            "\n"
          ]
        },
        {
          "name": "stdout",
          "output_type": "stream",
          "text": [
            "\n",
            "      Epoch    GPU_mem   box_loss   cls_loss   dfl_loss  Instances       Size\n"
          ]
        },
        {
          "name": "stderr",
          "output_type": "stream",
          "text": [
            "    120/250      5.16G     0.7249     0.5937     0.9594         10       1024: 100%|██████████| 56/56 [00:36<00:00,  1.55it/s]\n",
            "                 Class     Images  Instances      Box(P          R      mAP50  mAP50-95): 100%|██████████| 7/7 [00:03<00:00,  1.92it/s]"
          ]
        },
        {
          "name": "stdout",
          "output_type": "stream",
          "text": [
            "                   all        223        241      0.456      0.669      0.455      0.325\n"
          ]
        },
        {
          "name": "stderr",
          "output_type": "stream",
          "text": [
            "\n"
          ]
        },
        {
          "name": "stdout",
          "output_type": "stream",
          "text": [
            "\n",
            "      Epoch    GPU_mem   box_loss   cls_loss   dfl_loss  Instances       Size\n"
          ]
        },
        {
          "name": "stderr",
          "output_type": "stream",
          "text": [
            "    121/250      5.16G     0.7264     0.5432     0.9682         22       1024: 100%|██████████| 56/56 [00:36<00:00,  1.55it/s]\n",
            "                 Class     Images  Instances      Box(P          R      mAP50  mAP50-95): 100%|██████████| 7/7 [00:05<00:00,  1.22it/s]"
          ]
        },
        {
          "name": "stdout",
          "output_type": "stream",
          "text": [
            "                   all        223        241      0.441      0.737      0.447      0.337\n"
          ]
        },
        {
          "name": "stderr",
          "output_type": "stream",
          "text": [
            "\n"
          ]
        },
        {
          "name": "stdout",
          "output_type": "stream",
          "text": [
            "\n",
            "      Epoch    GPU_mem   box_loss   cls_loss   dfl_loss  Instances       Size\n"
          ]
        },
        {
          "name": "stderr",
          "output_type": "stream",
          "text": [
            "    122/250      5.16G     0.7368     0.5668     0.9759         24       1024: 100%|██████████| 56/56 [00:35<00:00,  1.56it/s]\n",
            "                 Class     Images  Instances      Box(P          R      mAP50  mAP50-95): 100%|██████████| 7/7 [00:03<00:00,  1.79it/s]"
          ]
        },
        {
          "name": "stdout",
          "output_type": "stream",
          "text": [
            "                   all        223        241      0.476      0.697      0.503      0.366\n"
          ]
        },
        {
          "name": "stderr",
          "output_type": "stream",
          "text": [
            "\n"
          ]
        },
        {
          "name": "stdout",
          "output_type": "stream",
          "text": [
            "\n",
            "      Epoch    GPU_mem   box_loss   cls_loss   dfl_loss  Instances       Size\n"
          ]
        },
        {
          "name": "stderr",
          "output_type": "stream",
          "text": [
            "    123/250      5.16G     0.7097     0.5126     0.9514         32       1024: 100%|██████████| 56/56 [00:35<00:00,  1.56it/s]\n",
            "                 Class     Images  Instances      Box(P          R      mAP50  mAP50-95): 100%|██████████| 7/7 [00:04<00:00,  1.41it/s]"
          ]
        },
        {
          "name": "stdout",
          "output_type": "stream",
          "text": [
            "                   all        223        241      0.459      0.708      0.513      0.371\n"
          ]
        },
        {
          "name": "stderr",
          "output_type": "stream",
          "text": [
            "\n"
          ]
        },
        {
          "name": "stdout",
          "output_type": "stream",
          "text": [
            "\n",
            "      Epoch    GPU_mem   box_loss   cls_loss   dfl_loss  Instances       Size\n"
          ]
        },
        {
          "name": "stderr",
          "output_type": "stream",
          "text": [
            "    124/250      5.16G     0.7176     0.5378     0.9597         18       1024: 100%|██████████| 56/56 [00:35<00:00,  1.57it/s]\n",
            "                 Class     Images  Instances      Box(P          R      mAP50  mAP50-95): 100%|██████████| 7/7 [00:03<00:00,  1.78it/s]"
          ]
        },
        {
          "name": "stdout",
          "output_type": "stream",
          "text": [
            "                   all        223        241      0.513       0.72      0.543      0.397\n"
          ]
        },
        {
          "name": "stderr",
          "output_type": "stream",
          "text": [
            "\n"
          ]
        },
        {
          "name": "stdout",
          "output_type": "stream",
          "text": [
            "\n",
            "      Epoch    GPU_mem   box_loss   cls_loss   dfl_loss  Instances       Size\n"
          ]
        },
        {
          "name": "stderr",
          "output_type": "stream",
          "text": [
            "    125/250      5.16G      0.701     0.5026     0.9573         26       1024: 100%|██████████| 56/56 [00:35<00:00,  1.60it/s]\n",
            "                 Class     Images  Instances      Box(P          R      mAP50  mAP50-95): 100%|██████████| 7/7 [00:04<00:00,  1.49it/s]"
          ]
        },
        {
          "name": "stdout",
          "output_type": "stream",
          "text": [
            "                   all        223        241      0.469      0.736      0.544      0.404\n"
          ]
        },
        {
          "name": "stderr",
          "output_type": "stream",
          "text": [
            "\n"
          ]
        },
        {
          "name": "stdout",
          "output_type": "stream",
          "text": [
            "\n",
            "      Epoch    GPU_mem   box_loss   cls_loss   dfl_loss  Instances       Size\n"
          ]
        },
        {
          "name": "stderr",
          "output_type": "stream",
          "text": [
            "    126/250      5.16G     0.7177     0.5457     0.9635         19       1024: 100%|██████████| 56/56 [00:35<00:00,  1.57it/s]\n",
            "                 Class     Images  Instances      Box(P          R      mAP50  mAP50-95): 100%|██████████| 7/7 [00:03<00:00,  1.86it/s]"
          ]
        },
        {
          "name": "stdout",
          "output_type": "stream",
          "text": [
            "                   all        223        241      0.489      0.711      0.535      0.392\n"
          ]
        },
        {
          "name": "stderr",
          "output_type": "stream",
          "text": [
            "\n"
          ]
        },
        {
          "name": "stdout",
          "output_type": "stream",
          "text": [
            "\n",
            "      Epoch    GPU_mem   box_loss   cls_loss   dfl_loss  Instances       Size\n"
          ]
        },
        {
          "name": "stderr",
          "output_type": "stream",
          "text": [
            "    127/250       5.2G     0.7157     0.5236     0.9623         19       1024: 100%|██████████| 56/56 [00:35<00:00,  1.56it/s]\n",
            "                 Class     Images  Instances      Box(P          R      mAP50  mAP50-95): 100%|██████████| 7/7 [00:04<00:00,  1.68it/s]"
          ]
        },
        {
          "name": "stdout",
          "output_type": "stream",
          "text": [
            "                   all        223        241      0.488      0.751      0.553      0.402\n"
          ]
        },
        {
          "name": "stderr",
          "output_type": "stream",
          "text": [
            "\n"
          ]
        },
        {
          "name": "stdout",
          "output_type": "stream",
          "text": [
            "\n",
            "      Epoch    GPU_mem   box_loss   cls_loss   dfl_loss  Instances       Size\n"
          ]
        },
        {
          "name": "stderr",
          "output_type": "stream",
          "text": [
            "    128/250      5.16G     0.7011     0.5368      0.953         21       1024: 100%|██████████| 56/56 [00:36<00:00,  1.54it/s]\n",
            "                 Class     Images  Instances      Box(P          R      mAP50  mAP50-95): 100%|██████████| 7/7 [00:04<00:00,  1.51it/s]"
          ]
        },
        {
          "name": "stdout",
          "output_type": "stream",
          "text": [
            "                   all        223        241      0.502      0.712      0.543      0.396\n"
          ]
        },
        {
          "name": "stderr",
          "output_type": "stream",
          "text": [
            "\n"
          ]
        },
        {
          "name": "stdout",
          "output_type": "stream",
          "text": [
            "\n",
            "      Epoch    GPU_mem   box_loss   cls_loss   dfl_loss  Instances       Size\n"
          ]
        },
        {
          "name": "stderr",
          "output_type": "stream",
          "text": [
            "    129/250      5.16G     0.7216     0.5372     0.9609         14       1024: 100%|██████████| 56/56 [00:35<00:00,  1.59it/s]\n",
            "                 Class     Images  Instances      Box(P          R      mAP50  mAP50-95): 100%|██████████| 7/7 [00:03<00:00,  1.96it/s]"
          ]
        },
        {
          "name": "stdout",
          "output_type": "stream",
          "text": [
            "                   all        223        241      0.485      0.719      0.491      0.357\n"
          ]
        },
        {
          "name": "stderr",
          "output_type": "stream",
          "text": [
            "\n"
          ]
        },
        {
          "name": "stdout",
          "output_type": "stream",
          "text": [
            "\n",
            "      Epoch    GPU_mem   box_loss   cls_loss   dfl_loss  Instances       Size\n"
          ]
        },
        {
          "name": "stderr",
          "output_type": "stream",
          "text": [
            "    130/250      5.16G     0.7003     0.5313     0.9504         25       1024: 100%|██████████| 56/56 [00:37<00:00,  1.51it/s]\n",
            "                 Class     Images  Instances      Box(P          R      mAP50  mAP50-95): 100%|██████████| 7/7 [00:05<00:00,  1.25it/s]"
          ]
        },
        {
          "name": "stdout",
          "output_type": "stream",
          "text": [
            "                   all        223        241      0.454      0.681      0.484       0.36\n"
          ]
        },
        {
          "name": "stderr",
          "output_type": "stream",
          "text": [
            "\n"
          ]
        },
        {
          "name": "stdout",
          "output_type": "stream",
          "text": [
            "\n",
            "      Epoch    GPU_mem   box_loss   cls_loss   dfl_loss  Instances       Size\n"
          ]
        },
        {
          "name": "stderr",
          "output_type": "stream",
          "text": [
            "    131/250      5.16G     0.7073     0.5086      0.964         23       1024: 100%|██████████| 56/56 [00:35<00:00,  1.58it/s]\n",
            "                 Class     Images  Instances      Box(P          R      mAP50  mAP50-95): 100%|██████████| 7/7 [00:03<00:00,  1.82it/s]"
          ]
        },
        {
          "name": "stdout",
          "output_type": "stream",
          "text": [
            "                   all        223        241      0.465      0.764      0.504       0.37\n"
          ]
        },
        {
          "name": "stderr",
          "output_type": "stream",
          "text": [
            "\n"
          ]
        },
        {
          "name": "stdout",
          "output_type": "stream",
          "text": [
            "\n",
            "      Epoch    GPU_mem   box_loss   cls_loss   dfl_loss  Instances       Size\n"
          ]
        },
        {
          "name": "stderr",
          "output_type": "stream",
          "text": [
            "    132/250      5.16G     0.7052      0.515     0.9597         19       1024: 100%|██████████| 56/56 [00:35<00:00,  1.57it/s]\n",
            "                 Class     Images  Instances      Box(P          R      mAP50  mAP50-95): 100%|██████████| 7/7 [00:05<00:00,  1.21it/s]"
          ]
        },
        {
          "name": "stdout",
          "output_type": "stream",
          "text": [
            "                   all        223        241      0.473      0.771      0.512      0.379\n"
          ]
        },
        {
          "name": "stderr",
          "output_type": "stream",
          "text": [
            "\n"
          ]
        },
        {
          "name": "stdout",
          "output_type": "stream",
          "text": [
            "\n",
            "      Epoch    GPU_mem   box_loss   cls_loss   dfl_loss  Instances       Size\n"
          ]
        },
        {
          "name": "stderr",
          "output_type": "stream",
          "text": [
            "    133/250      5.16G     0.7274     0.5271     0.9619         20       1024: 100%|██████████| 56/56 [00:35<00:00,  1.59it/s]\n",
            "                 Class     Images  Instances      Box(P          R      mAP50  mAP50-95): 100%|██████████| 7/7 [00:03<00:00,  1.77it/s]"
          ]
        },
        {
          "name": "stdout",
          "output_type": "stream",
          "text": [
            "                   all        223        241       0.48       0.61      0.484      0.353\n"
          ]
        },
        {
          "name": "stderr",
          "output_type": "stream",
          "text": [
            "\n"
          ]
        },
        {
          "name": "stdout",
          "output_type": "stream",
          "text": [
            "\n",
            "      Epoch    GPU_mem   box_loss   cls_loss   dfl_loss  Instances       Size\n"
          ]
        },
        {
          "name": "stderr",
          "output_type": "stream",
          "text": [
            "    134/250      5.16G     0.7066     0.5018     0.9583         21       1024: 100%|██████████| 56/56 [00:35<00:00,  1.56it/s]\n",
            "                 Class     Images  Instances      Box(P          R      mAP50  mAP50-95): 100%|██████████| 7/7 [00:04<00:00,  1.52it/s]"
          ]
        },
        {
          "name": "stdout",
          "output_type": "stream",
          "text": [
            "                   all        223        241      0.475      0.779      0.551        0.4\n"
          ]
        },
        {
          "name": "stderr",
          "output_type": "stream",
          "text": [
            "\n"
          ]
        },
        {
          "name": "stdout",
          "output_type": "stream",
          "text": [
            "\n",
            "      Epoch    GPU_mem   box_loss   cls_loss   dfl_loss  Instances       Size\n"
          ]
        },
        {
          "name": "stderr",
          "output_type": "stream",
          "text": [
            "    135/250      5.16G     0.6747     0.4851     0.9411         26       1024: 100%|██████████| 56/56 [00:36<00:00,  1.54it/s]\n",
            "                 Class     Images  Instances      Box(P          R      mAP50  mAP50-95): 100%|██████████| 7/7 [00:04<00:00,  1.74it/s]"
          ]
        },
        {
          "name": "stdout",
          "output_type": "stream",
          "text": [
            "                   all        223        241      0.439      0.761      0.453      0.329\n"
          ]
        },
        {
          "name": "stderr",
          "output_type": "stream",
          "text": [
            "\n"
          ]
        },
        {
          "name": "stdout",
          "output_type": "stream",
          "text": [
            "\n",
            "      Epoch    GPU_mem   box_loss   cls_loss   dfl_loss  Instances       Size\n"
          ]
        },
        {
          "name": "stderr",
          "output_type": "stream",
          "text": [
            "    136/250      5.16G     0.6785     0.4641     0.9499         16       1024: 100%|██████████| 56/56 [00:34<00:00,  1.60it/s]\n",
            "                 Class     Images  Instances      Box(P          R      mAP50  mAP50-95): 100%|██████████| 7/7 [00:04<00:00,  1.68it/s]"
          ]
        },
        {
          "name": "stdout",
          "output_type": "stream",
          "text": [
            "                   all        223        241      0.507      0.588      0.489      0.361\n"
          ]
        },
        {
          "name": "stderr",
          "output_type": "stream",
          "text": [
            "\n"
          ]
        },
        {
          "name": "stdout",
          "output_type": "stream",
          "text": [
            "\n",
            "      Epoch    GPU_mem   box_loss   cls_loss   dfl_loss  Instances       Size\n"
          ]
        },
        {
          "name": "stderr",
          "output_type": "stream",
          "text": [
            "    137/250      5.16G      0.677     0.4762     0.9477         16       1024: 100%|██████████| 56/56 [00:36<00:00,  1.55it/s]\n",
            "                 Class     Images  Instances      Box(P          R      mAP50  mAP50-95): 100%|██████████| 7/7 [00:04<00:00,  1.67it/s]"
          ]
        },
        {
          "name": "stdout",
          "output_type": "stream",
          "text": [
            "                   all        223        241      0.455      0.692      0.511      0.372\n"
          ]
        },
        {
          "name": "stderr",
          "output_type": "stream",
          "text": [
            "\n"
          ]
        },
        {
          "name": "stdout",
          "output_type": "stream",
          "text": [
            "\n",
            "      Epoch    GPU_mem   box_loss   cls_loss   dfl_loss  Instances       Size\n"
          ]
        },
        {
          "name": "stderr",
          "output_type": "stream",
          "text": [
            "    138/250      5.16G     0.6667     0.4788     0.9374         19       1024: 100%|██████████| 56/56 [00:35<00:00,  1.56it/s]\n",
            "                 Class     Images  Instances      Box(P          R      mAP50  mAP50-95): 100%|██████████| 7/7 [00:03<00:00,  1.87it/s]"
          ]
        },
        {
          "name": "stdout",
          "output_type": "stream",
          "text": [
            "                   all        223        241      0.464      0.718      0.515      0.377\n"
          ]
        },
        {
          "name": "stderr",
          "output_type": "stream",
          "text": [
            "\n"
          ]
        },
        {
          "name": "stdout",
          "output_type": "stream",
          "text": [
            "\n",
            "      Epoch    GPU_mem   box_loss   cls_loss   dfl_loss  Instances       Size\n"
          ]
        },
        {
          "name": "stderr",
          "output_type": "stream",
          "text": [
            "    139/250      5.16G     0.6811     0.5088      0.949         20       1024: 100%|██████████| 56/56 [00:36<00:00,  1.56it/s]\n",
            "                 Class     Images  Instances      Box(P          R      mAP50  mAP50-95): 100%|██████████| 7/7 [00:05<00:00,  1.18it/s]"
          ]
        },
        {
          "name": "stdout",
          "output_type": "stream",
          "text": [
            "                   all        223        241      0.483      0.663      0.489      0.357\n"
          ]
        },
        {
          "name": "stderr",
          "output_type": "stream",
          "text": [
            "\n"
          ]
        },
        {
          "name": "stdout",
          "output_type": "stream",
          "text": [
            "\n",
            "      Epoch    GPU_mem   box_loss   cls_loss   dfl_loss  Instances       Size\n"
          ]
        },
        {
          "name": "stderr",
          "output_type": "stream",
          "text": [
            "    140/250      5.16G     0.6713     0.5087     0.9461         20       1024: 100%|██████████| 56/56 [00:36<00:00,  1.56it/s]\n",
            "                 Class     Images  Instances      Box(P          R      mAP50  mAP50-95): 100%|██████████| 7/7 [00:03<00:00,  1.81it/s]"
          ]
        },
        {
          "name": "stdout",
          "output_type": "stream",
          "text": [
            "                   all        223        241      0.478      0.767      0.556      0.404\n"
          ]
        },
        {
          "name": "stderr",
          "output_type": "stream",
          "text": [
            "\n"
          ]
        },
        {
          "name": "stdout",
          "output_type": "stream",
          "text": [
            "\n",
            "      Epoch    GPU_mem   box_loss   cls_loss   dfl_loss  Instances       Size\n"
          ]
        },
        {
          "name": "stderr",
          "output_type": "stream",
          "text": [
            "    141/250      5.16G     0.6572     0.4626     0.9386         22       1024: 100%|██████████| 56/56 [00:35<00:00,  1.57it/s]\n",
            "                 Class     Images  Instances      Box(P          R      mAP50  mAP50-95): 100%|██████████| 7/7 [00:05<00:00,  1.35it/s]"
          ]
        },
        {
          "name": "stdout",
          "output_type": "stream",
          "text": [
            "                   all        223        241      0.472      0.712      0.519      0.386\n"
          ]
        },
        {
          "name": "stderr",
          "output_type": "stream",
          "text": [
            "\n"
          ]
        },
        {
          "name": "stdout",
          "output_type": "stream",
          "text": [
            "\n",
            "      Epoch    GPU_mem   box_loss   cls_loss   dfl_loss  Instances       Size\n"
          ]
        },
        {
          "name": "stderr",
          "output_type": "stream",
          "text": [
            "    142/250      5.16G     0.6678     0.4605      0.943         14       1024: 100%|██████████| 56/56 [00:35<00:00,  1.56it/s]\n",
            "                 Class     Images  Instances      Box(P          R      mAP50  mAP50-95): 100%|██████████| 7/7 [00:03<00:00,  1.88it/s]"
          ]
        },
        {
          "name": "stdout",
          "output_type": "stream",
          "text": [
            "                   all        223        241      0.502      0.771      0.529      0.397\n"
          ]
        },
        {
          "name": "stderr",
          "output_type": "stream",
          "text": [
            "\n"
          ]
        },
        {
          "name": "stdout",
          "output_type": "stream",
          "text": [
            "\n",
            "      Epoch    GPU_mem   box_loss   cls_loss   dfl_loss  Instances       Size\n"
          ]
        },
        {
          "name": "stderr",
          "output_type": "stream",
          "text": [
            "    143/250      5.16G     0.6643     0.4613     0.9332         26       1024: 100%|██████████| 56/56 [00:35<00:00,  1.56it/s]\n",
            "                 Class     Images  Instances      Box(P          R      mAP50  mAP50-95): 100%|██████████| 7/7 [00:04<00:00,  1.74it/s]"
          ]
        },
        {
          "name": "stdout",
          "output_type": "stream",
          "text": [
            "                   all        223        241      0.524      0.683      0.534      0.396\n"
          ]
        },
        {
          "name": "stderr",
          "output_type": "stream",
          "text": [
            "\n"
          ]
        },
        {
          "name": "stdout",
          "output_type": "stream",
          "text": [
            "\n",
            "      Epoch    GPU_mem   box_loss   cls_loss   dfl_loss  Instances       Size\n"
          ]
        },
        {
          "name": "stderr",
          "output_type": "stream",
          "text": [
            "    144/250      5.16G     0.6702     0.4782     0.9552         23       1024: 100%|██████████| 56/56 [00:35<00:00,  1.56it/s]\n",
            "                 Class     Images  Instances      Box(P          R      mAP50  mAP50-95): 100%|██████████| 7/7 [00:04<00:00,  1.72it/s]"
          ]
        },
        {
          "name": "stdout",
          "output_type": "stream",
          "text": [
            "                   all        223        241       0.45      0.719      0.485      0.356\n"
          ]
        },
        {
          "name": "stderr",
          "output_type": "stream",
          "text": [
            "\n"
          ]
        },
        {
          "name": "stdout",
          "output_type": "stream",
          "text": [
            "\n",
            "      Epoch    GPU_mem   box_loss   cls_loss   dfl_loss  Instances       Size\n"
          ]
        },
        {
          "name": "stderr",
          "output_type": "stream",
          "text": [
            "    145/250      5.16G     0.6739     0.4875      0.942         15       1024: 100%|██████████| 56/56 [00:35<00:00,  1.58it/s]\n",
            "                 Class     Images  Instances      Box(P          R      mAP50  mAP50-95): 100%|██████████| 7/7 [00:03<00:00,  1.89it/s]"
          ]
        },
        {
          "name": "stdout",
          "output_type": "stream",
          "text": [
            "                   all        223        241      0.452      0.712      0.454      0.324\n"
          ]
        },
        {
          "name": "stderr",
          "output_type": "stream",
          "text": [
            "\n"
          ]
        },
        {
          "name": "stdout",
          "output_type": "stream",
          "text": [
            "\n",
            "      Epoch    GPU_mem   box_loss   cls_loss   dfl_loss  Instances       Size\n"
          ]
        },
        {
          "name": "stderr",
          "output_type": "stream",
          "text": [
            "    146/250      5.16G      0.669     0.4681     0.9418         24       1024: 100%|██████████| 56/56 [00:35<00:00,  1.56it/s]\n",
            "                 Class     Images  Instances      Box(P          R      mAP50  mAP50-95): 100%|██████████| 7/7 [00:05<00:00,  1.29it/s]"
          ]
        },
        {
          "name": "stdout",
          "output_type": "stream",
          "text": [
            "                   all        223        241      0.532      0.551      0.476      0.349\n"
          ]
        },
        {
          "name": "stderr",
          "output_type": "stream",
          "text": [
            "\n"
          ]
        },
        {
          "name": "stdout",
          "output_type": "stream",
          "text": [
            "\n",
            "      Epoch    GPU_mem   box_loss   cls_loss   dfl_loss  Instances       Size\n"
          ]
        },
        {
          "name": "stderr",
          "output_type": "stream",
          "text": [
            "    147/250      5.16G     0.6491     0.4532     0.9438         13       1024: 100%|██████████| 56/56 [00:34<00:00,  1.61it/s]\n",
            "                 Class     Images  Instances      Box(P          R      mAP50  mAP50-95): 100%|██████████| 7/7 [00:03<00:00,  1.95it/s]"
          ]
        },
        {
          "name": "stdout",
          "output_type": "stream",
          "text": [
            "                   all        223        241      0.483      0.667      0.525      0.384\n"
          ]
        },
        {
          "name": "stderr",
          "output_type": "stream",
          "text": [
            "\n"
          ]
        },
        {
          "name": "stdout",
          "output_type": "stream",
          "text": [
            "\n",
            "      Epoch    GPU_mem   box_loss   cls_loss   dfl_loss  Instances       Size\n"
          ]
        },
        {
          "name": "stderr",
          "output_type": "stream",
          "text": [
            "    148/250      5.16G       0.66     0.4756     0.9385         23       1024: 100%|██████████| 56/56 [00:35<00:00,  1.59it/s]\n",
            "                 Class     Images  Instances      Box(P          R      mAP50  mAP50-95): 100%|██████████| 7/7 [00:04<00:00,  1.51it/s]"
          ]
        },
        {
          "name": "stdout",
          "output_type": "stream",
          "text": [
            "                   all        223        241      0.467      0.694      0.487      0.354\n"
          ]
        },
        {
          "name": "stderr",
          "output_type": "stream",
          "text": [
            "\n"
          ]
        },
        {
          "name": "stdout",
          "output_type": "stream",
          "text": [
            "\n",
            "      Epoch    GPU_mem   box_loss   cls_loss   dfl_loss  Instances       Size\n"
          ]
        },
        {
          "name": "stderr",
          "output_type": "stream",
          "text": [
            "    149/250      5.16G     0.6477     0.4476     0.9389         23       1024: 100%|██████████| 56/56 [00:35<00:00,  1.56it/s]\n",
            "                 Class     Images  Instances      Box(P          R      mAP50  mAP50-95): 100%|██████████| 7/7 [00:03<00:00,  1.86it/s]"
          ]
        },
        {
          "name": "stdout",
          "output_type": "stream",
          "text": [
            "                   all        223        241       0.45      0.737      0.467      0.345\n"
          ]
        },
        {
          "name": "stderr",
          "output_type": "stream",
          "text": [
            "\n"
          ]
        },
        {
          "name": "stdout",
          "output_type": "stream",
          "text": [
            "\n",
            "      Epoch    GPU_mem   box_loss   cls_loss   dfl_loss  Instances       Size\n"
          ]
        },
        {
          "name": "stderr",
          "output_type": "stream",
          "text": [
            "    150/250      5.16G     0.6449     0.4533       0.94         22       1024: 100%|██████████| 56/56 [00:34<00:00,  1.61it/s]\n",
            "                 Class     Images  Instances      Box(P          R      mAP50  mAP50-95): 100%|██████████| 7/7 [00:03<00:00,  1.79it/s]"
          ]
        },
        {
          "name": "stdout",
          "output_type": "stream",
          "text": [
            "                   all        223        241      0.498      0.633        0.5      0.367\n"
          ]
        },
        {
          "name": "stderr",
          "output_type": "stream",
          "text": [
            "\n"
          ]
        },
        {
          "name": "stdout",
          "output_type": "stream",
          "text": [
            "\n",
            "      Epoch    GPU_mem   box_loss   cls_loss   dfl_loss  Instances       Size\n"
          ]
        },
        {
          "name": "stderr",
          "output_type": "stream",
          "text": [
            "    151/250      5.16G     0.6419      0.449     0.9302         26       1024: 100%|██████████| 56/56 [00:35<00:00,  1.58it/s]\n",
            "                 Class     Images  Instances      Box(P          R      mAP50  mAP50-95): 100%|██████████| 7/7 [00:05<00:00,  1.30it/s]"
          ]
        },
        {
          "name": "stdout",
          "output_type": "stream",
          "text": [
            "                   all        223        241      0.417      0.656      0.438      0.326\n"
          ]
        },
        {
          "name": "stderr",
          "output_type": "stream",
          "text": [
            "\n"
          ]
        },
        {
          "name": "stdout",
          "output_type": "stream",
          "text": [
            "\n",
            "      Epoch    GPU_mem   box_loss   cls_loss   dfl_loss  Instances       Size\n"
          ]
        },
        {
          "name": "stderr",
          "output_type": "stream",
          "text": [
            "    152/250      5.16G     0.6498     0.4742      0.931         19       1024: 100%|██████████| 56/56 [00:36<00:00,  1.55it/s]\n",
            "                 Class     Images  Instances      Box(P          R      mAP50  mAP50-95): 100%|██████████| 7/7 [00:03<00:00,  1.87it/s]"
          ]
        },
        {
          "name": "stdout",
          "output_type": "stream",
          "text": [
            "                   all        223        241      0.445      0.741      0.492      0.362\n"
          ]
        },
        {
          "name": "stderr",
          "output_type": "stream",
          "text": [
            "\n"
          ]
        },
        {
          "name": "stdout",
          "output_type": "stream",
          "text": [
            "\n",
            "      Epoch    GPU_mem   box_loss   cls_loss   dfl_loss  Instances       Size\n"
          ]
        },
        {
          "name": "stderr",
          "output_type": "stream",
          "text": [
            "    153/250      5.16G     0.6487     0.4379     0.9318         24       1024: 100%|██████████| 56/56 [00:35<00:00,  1.58it/s]\n",
            "                 Class     Images  Instances      Box(P          R      mAP50  mAP50-95): 100%|██████████| 7/7 [00:05<00:00,  1.18it/s]"
          ]
        },
        {
          "name": "stdout",
          "output_type": "stream",
          "text": [
            "                   all        223        241       0.46      0.716      0.525      0.398\n"
          ]
        },
        {
          "name": "stderr",
          "output_type": "stream",
          "text": [
            "\n"
          ]
        },
        {
          "name": "stdout",
          "output_type": "stream",
          "text": [
            "\n",
            "      Epoch    GPU_mem   box_loss   cls_loss   dfl_loss  Instances       Size\n"
          ]
        },
        {
          "name": "stderr",
          "output_type": "stream",
          "text": [
            "    154/250      5.16G     0.6685     0.4672      0.946         19       1024: 100%|██████████| 56/56 [00:35<00:00,  1.57it/s]\n",
            "                 Class     Images  Instances      Box(P          R      mAP50  mAP50-95): 100%|██████████| 7/7 [00:03<00:00,  1.97it/s]"
          ]
        },
        {
          "name": "stdout",
          "output_type": "stream",
          "text": [
            "                   all        223        241      0.483      0.705      0.514      0.367\n"
          ]
        },
        {
          "name": "stderr",
          "output_type": "stream",
          "text": [
            "\n"
          ]
        },
        {
          "name": "stdout",
          "output_type": "stream",
          "text": [
            "\n",
            "      Epoch    GPU_mem   box_loss   cls_loss   dfl_loss  Instances       Size\n"
          ]
        },
        {
          "name": "stderr",
          "output_type": "stream",
          "text": [
            "    155/250      5.16G     0.6507     0.4402     0.9415         32       1024: 100%|██████████| 56/56 [00:35<00:00,  1.57it/s]\n",
            "                 Class     Images  Instances      Box(P          R      mAP50  mAP50-95): 100%|██████████| 7/7 [00:05<00:00,  1.25it/s]"
          ]
        },
        {
          "name": "stdout",
          "output_type": "stream",
          "text": [
            "                   all        223        241      0.454      0.696      0.513      0.378\n"
          ]
        },
        {
          "name": "stderr",
          "output_type": "stream",
          "text": [
            "\n"
          ]
        },
        {
          "name": "stdout",
          "output_type": "stream",
          "text": [
            "\n",
            "      Epoch    GPU_mem   box_loss   cls_loss   dfl_loss  Instances       Size\n"
          ]
        },
        {
          "name": "stderr",
          "output_type": "stream",
          "text": [
            "    156/250      5.16G     0.6524      0.453      0.938         28       1024: 100%|██████████| 56/56 [00:35<00:00,  1.56it/s]\n",
            "                 Class     Images  Instances      Box(P          R      mAP50  mAP50-95): 100%|██████████| 7/7 [00:03<00:00,  1.91it/s]"
          ]
        },
        {
          "name": "stdout",
          "output_type": "stream",
          "text": [
            "                   all        223        241      0.457      0.711      0.499      0.378\n"
          ]
        },
        {
          "name": "stderr",
          "output_type": "stream",
          "text": [
            "\n"
          ]
        },
        {
          "name": "stdout",
          "output_type": "stream",
          "text": [
            "\n",
            "      Epoch    GPU_mem   box_loss   cls_loss   dfl_loss  Instances       Size\n"
          ]
        },
        {
          "name": "stderr",
          "output_type": "stream",
          "text": [
            "    157/250       5.2G     0.6435     0.4431     0.9388         15       1024: 100%|██████████| 56/56 [00:35<00:00,  1.58it/s]\n",
            "                 Class     Images  Instances      Box(P          R      mAP50  mAP50-95): 100%|██████████| 7/7 [00:04<00:00,  1.48it/s]"
          ]
        },
        {
          "name": "stdout",
          "output_type": "stream",
          "text": [
            "                   all        223        241      0.486      0.672        0.5       0.37\n"
          ]
        },
        {
          "name": "stderr",
          "output_type": "stream",
          "text": [
            "\n"
          ]
        },
        {
          "name": "stdout",
          "output_type": "stream",
          "text": [
            "\n",
            "      Epoch    GPU_mem   box_loss   cls_loss   dfl_loss  Instances       Size\n"
          ]
        },
        {
          "name": "stderr",
          "output_type": "stream",
          "text": [
            "    158/250      5.16G     0.6368     0.4498     0.9325         27       1024: 100%|██████████| 56/56 [00:36<00:00,  1.53it/s]\n",
            "                 Class     Images  Instances      Box(P          R      mAP50  mAP50-95): 100%|██████████| 7/7 [00:04<00:00,  1.69it/s]"
          ]
        },
        {
          "name": "stdout",
          "output_type": "stream",
          "text": [
            "                   all        223        241      0.449      0.731       0.53      0.394\n"
          ]
        },
        {
          "name": "stderr",
          "output_type": "stream",
          "text": [
            "\n"
          ]
        },
        {
          "name": "stdout",
          "output_type": "stream",
          "text": [
            "\n",
            "      Epoch    GPU_mem   box_loss   cls_loss   dfl_loss  Instances       Size\n"
          ]
        },
        {
          "name": "stderr",
          "output_type": "stream",
          "text": [
            "    159/250      5.16G     0.6318     0.4397     0.9277         24       1024: 100%|██████████| 56/56 [00:36<00:00,  1.55it/s]\n",
            "                 Class     Images  Instances      Box(P          R      mAP50  mAP50-95): 100%|██████████| 7/7 [00:04<00:00,  1.74it/s]"
          ]
        },
        {
          "name": "stdout",
          "output_type": "stream",
          "text": [
            "                   all        223        241       0.45      0.689      0.468      0.351\n"
          ]
        },
        {
          "name": "stderr",
          "output_type": "stream",
          "text": [
            "\n"
          ]
        },
        {
          "name": "stdout",
          "output_type": "stream",
          "text": [
            "\n",
            "      Epoch    GPU_mem   box_loss   cls_loss   dfl_loss  Instances       Size\n"
          ]
        },
        {
          "name": "stderr",
          "output_type": "stream",
          "text": [
            "    160/250      5.16G     0.6434     0.4727     0.9438         17       1024: 100%|██████████| 56/56 [00:36<00:00,  1.54it/s]\n",
            "                 Class     Images  Instances      Box(P          R      mAP50  mAP50-95): 100%|██████████| 7/7 [00:05<00:00,  1.30it/s]"
          ]
        },
        {
          "name": "stdout",
          "output_type": "stream",
          "text": [
            "                   all        223        241      0.455      0.705      0.476      0.362\n"
          ]
        },
        {
          "name": "stderr",
          "output_type": "stream",
          "text": [
            "\n"
          ]
        },
        {
          "name": "stdout",
          "output_type": "stream",
          "text": [
            "\n",
            "      Epoch    GPU_mem   box_loss   cls_loss   dfl_loss  Instances       Size\n"
          ]
        },
        {
          "name": "stderr",
          "output_type": "stream",
          "text": [
            "    161/250      5.16G     0.6339     0.4234     0.9283         20       1024: 100%|██████████| 56/56 [00:35<00:00,  1.57it/s]\n",
            "                 Class     Images  Instances      Box(P          R      mAP50  mAP50-95): 100%|██████████| 7/7 [00:03<00:00,  1.97it/s]"
          ]
        },
        {
          "name": "stdout",
          "output_type": "stream",
          "text": [
            "                   all        223        241      0.489      0.571      0.512      0.392\n"
          ]
        },
        {
          "name": "stderr",
          "output_type": "stream",
          "text": [
            "\n"
          ]
        },
        {
          "name": "stdout",
          "output_type": "stream",
          "text": [
            "\n",
            "      Epoch    GPU_mem   box_loss   cls_loss   dfl_loss  Instances       Size\n"
          ]
        },
        {
          "name": "stderr",
          "output_type": "stream",
          "text": [
            "    162/250      5.16G     0.6312     0.4059     0.9248         19       1024: 100%|██████████| 56/56 [00:35<00:00,  1.57it/s]\n",
            "                 Class     Images  Instances      Box(P          R      mAP50  mAP50-95): 100%|██████████| 7/7 [00:05<00:00,  1.24it/s]"
          ]
        },
        {
          "name": "stdout",
          "output_type": "stream",
          "text": [
            "                   all        223        241      0.455      0.706      0.515      0.384\n"
          ]
        },
        {
          "name": "stderr",
          "output_type": "stream",
          "text": [
            "\n"
          ]
        },
        {
          "name": "stdout",
          "output_type": "stream",
          "text": [
            "\n",
            "      Epoch    GPU_mem   box_loss   cls_loss   dfl_loss  Instances       Size\n"
          ]
        },
        {
          "name": "stderr",
          "output_type": "stream",
          "text": [
            "    163/250      5.16G     0.6361     0.4186     0.9268         20       1024: 100%|██████████| 56/56 [00:35<00:00,  1.56it/s]\n",
            "                 Class     Images  Instances      Box(P          R      mAP50  mAP50-95): 100%|██████████| 7/7 [00:03<00:00,  1.88it/s]"
          ]
        },
        {
          "name": "stdout",
          "output_type": "stream",
          "text": [
            "                   all        223        241      0.431      0.691      0.493      0.369\n"
          ]
        },
        {
          "name": "stderr",
          "output_type": "stream",
          "text": [
            "\n"
          ]
        },
        {
          "name": "stdout",
          "output_type": "stream",
          "text": [
            "\n",
            "      Epoch    GPU_mem   box_loss   cls_loss   dfl_loss  Instances       Size\n"
          ]
        },
        {
          "name": "stderr",
          "output_type": "stream",
          "text": [
            "    164/250      5.16G     0.6306     0.4477     0.9421         26       1024: 100%|██████████| 56/56 [00:35<00:00,  1.56it/s]\n",
            "                 Class     Images  Instances      Box(P          R      mAP50  mAP50-95): 100%|██████████| 7/7 [00:05<00:00,  1.28it/s]"
          ]
        },
        {
          "name": "stdout",
          "output_type": "stream",
          "text": [
            "                   all        223        241      0.443      0.692      0.494      0.371\n"
          ]
        },
        {
          "name": "stderr",
          "output_type": "stream",
          "text": [
            "\n"
          ]
        },
        {
          "name": "stdout",
          "output_type": "stream",
          "text": [
            "\n",
            "      Epoch    GPU_mem   box_loss   cls_loss   dfl_loss  Instances       Size\n"
          ]
        },
        {
          "name": "stderr",
          "output_type": "stream",
          "text": [
            "    165/250      5.16G     0.6376     0.4489      0.951         23       1024: 100%|██████████| 56/56 [00:35<00:00,  1.58it/s]\n",
            "                 Class     Images  Instances      Box(P          R      mAP50  mAP50-95): 100%|██████████| 7/7 [00:03<00:00,  1.87it/s]"
          ]
        },
        {
          "name": "stdout",
          "output_type": "stream",
          "text": [
            "                   all        223        241      0.455      0.725      0.494      0.364\n"
          ]
        },
        {
          "name": "stderr",
          "output_type": "stream",
          "text": [
            "\n"
          ]
        },
        {
          "name": "stdout",
          "output_type": "stream",
          "text": [
            "\n",
            "      Epoch    GPU_mem   box_loss   cls_loss   dfl_loss  Instances       Size\n"
          ]
        },
        {
          "name": "stderr",
          "output_type": "stream",
          "text": [
            "    166/250      5.16G     0.6081     0.4204     0.9168         25       1024: 100%|██████████| 56/56 [00:35<00:00,  1.58it/s]\n",
            "                 Class     Images  Instances      Box(P          R      mAP50  mAP50-95): 100%|██████████| 7/7 [00:04<00:00,  1.62it/s]"
          ]
        },
        {
          "name": "stdout",
          "output_type": "stream",
          "text": [
            "                   all        223        241      0.442      0.707      0.502      0.369\n"
          ]
        },
        {
          "name": "stderr",
          "output_type": "stream",
          "text": [
            "\n"
          ]
        },
        {
          "name": "stdout",
          "output_type": "stream",
          "text": [
            "\n",
            "      Epoch    GPU_mem   box_loss   cls_loss   dfl_loss  Instances       Size\n"
          ]
        },
        {
          "name": "stderr",
          "output_type": "stream",
          "text": [
            "    167/250      5.16G     0.6278     0.4398     0.9239         24       1024: 100%|██████████| 56/56 [00:36<00:00,  1.54it/s]\n",
            "                 Class     Images  Instances      Box(P          R      mAP50  mAP50-95): 100%|██████████| 7/7 [00:04<00:00,  1.66it/s]"
          ]
        },
        {
          "name": "stdout",
          "output_type": "stream",
          "text": [
            "                   all        223        241      0.472       0.71      0.527      0.398\n"
          ]
        },
        {
          "name": "stderr",
          "output_type": "stream",
          "text": [
            "\n"
          ]
        },
        {
          "name": "stdout",
          "output_type": "stream",
          "text": [
            "\n",
            "      Epoch    GPU_mem   box_loss   cls_loss   dfl_loss  Instances       Size\n"
          ]
        },
        {
          "name": "stderr",
          "output_type": "stream",
          "text": [
            "    168/250      5.16G     0.6043     0.4082     0.9116         21       1024: 100%|██████████| 56/56 [00:36<00:00,  1.55it/s]\n",
            "                 Class     Images  Instances      Box(P          R      mAP50  mAP50-95): 100%|██████████| 7/7 [00:03<00:00,  1.90it/s]"
          ]
        },
        {
          "name": "stdout",
          "output_type": "stream",
          "text": [
            "                   all        223        241      0.467      0.714      0.536      0.404\n"
          ]
        },
        {
          "name": "stderr",
          "output_type": "stream",
          "text": [
            "\n"
          ]
        },
        {
          "name": "stdout",
          "output_type": "stream",
          "text": [
            "\n",
            "      Epoch    GPU_mem   box_loss   cls_loss   dfl_loss  Instances       Size\n"
          ]
        },
        {
          "name": "stderr",
          "output_type": "stream",
          "text": [
            "    169/250      5.16G     0.5912     0.4167     0.9167         22       1024: 100%|██████████| 56/56 [00:36<00:00,  1.55it/s]\n",
            "                 Class     Images  Instances      Box(P          R      mAP50  mAP50-95): 100%|██████████| 7/7 [00:05<00:00,  1.29it/s]"
          ]
        },
        {
          "name": "stdout",
          "output_type": "stream",
          "text": [
            "                   all        223        241      0.468      0.704      0.548       0.41\n"
          ]
        },
        {
          "name": "stderr",
          "output_type": "stream",
          "text": [
            "\n"
          ]
        },
        {
          "name": "stdout",
          "output_type": "stream",
          "text": [
            "\n",
            "      Epoch    GPU_mem   box_loss   cls_loss   dfl_loss  Instances       Size\n"
          ]
        },
        {
          "name": "stderr",
          "output_type": "stream",
          "text": [
            "    170/250      5.16G      0.618     0.4165     0.9074         29       1024: 100%|██████████| 56/56 [00:36<00:00,  1.55it/s]\n",
            "                 Class     Images  Instances      Box(P          R      mAP50  mAP50-95): 100%|██████████| 7/7 [00:03<00:00,  1.85it/s]"
          ]
        },
        {
          "name": "stdout",
          "output_type": "stream",
          "text": [
            "                   all        223        241      0.479      0.709      0.552      0.406\n"
          ]
        },
        {
          "name": "stderr",
          "output_type": "stream",
          "text": [
            "\n"
          ]
        },
        {
          "name": "stdout",
          "output_type": "stream",
          "text": [
            "\n",
            "      Epoch    GPU_mem   box_loss   cls_loss   dfl_loss  Instances       Size\n"
          ]
        },
        {
          "name": "stderr",
          "output_type": "stream",
          "text": [
            "    171/250      5.16G     0.6194     0.4174      0.927         18       1024: 100%|██████████| 56/56 [00:35<00:00,  1.56it/s]\n",
            "                 Class     Images  Instances      Box(P          R      mAP50  mAP50-95): 100%|██████████| 7/7 [00:05<00:00,  1.27it/s]"
          ]
        },
        {
          "name": "stdout",
          "output_type": "stream",
          "text": [
            "                   all        223        241      0.493      0.736      0.548      0.413\n"
          ]
        },
        {
          "name": "stderr",
          "output_type": "stream",
          "text": [
            "\n"
          ]
        },
        {
          "name": "stdout",
          "output_type": "stream",
          "text": [
            "\n",
            "      Epoch    GPU_mem   box_loss   cls_loss   dfl_loss  Instances       Size\n"
          ]
        },
        {
          "name": "stderr",
          "output_type": "stream",
          "text": [
            "    172/250      5.16G     0.6112     0.4172     0.9199         20       1024: 100%|██████████| 56/56 [00:35<00:00,  1.56it/s]\n",
            "                 Class     Images  Instances      Box(P          R      mAP50  mAP50-95): 100%|██████████| 7/7 [00:03<00:00,  1.90it/s]"
          ]
        },
        {
          "name": "stdout",
          "output_type": "stream",
          "text": [
            "                   all        223        241      0.434      0.712       0.52      0.389\n"
          ]
        },
        {
          "name": "stderr",
          "output_type": "stream",
          "text": [
            "\n"
          ]
        },
        {
          "name": "stdout",
          "output_type": "stream",
          "text": [
            "\n",
            "      Epoch    GPU_mem   box_loss   cls_loss   dfl_loss  Instances       Size\n"
          ]
        },
        {
          "name": "stderr",
          "output_type": "stream",
          "text": [
            "    173/250      5.16G     0.6051     0.3962     0.9155         21       1024: 100%|██████████| 56/56 [00:36<00:00,  1.55it/s]\n",
            "                 Class     Images  Instances      Box(P          R      mAP50  mAP50-95): 100%|██████████| 7/7 [00:05<00:00,  1.33it/s]"
          ]
        },
        {
          "name": "stdout",
          "output_type": "stream",
          "text": [
            "                   all        223        241       0.48      0.715      0.561      0.425\n"
          ]
        },
        {
          "name": "stderr",
          "output_type": "stream",
          "text": [
            "\n"
          ]
        },
        {
          "name": "stdout",
          "output_type": "stream",
          "text": [
            "\n",
            "      Epoch    GPU_mem   box_loss   cls_loss   dfl_loss  Instances       Size\n"
          ]
        },
        {
          "name": "stderr",
          "output_type": "stream",
          "text": [
            "    174/250      5.19G     0.5981     0.4144     0.9155         25       1024: 100%|██████████| 56/56 [00:35<00:00,  1.58it/s]\n",
            "                 Class     Images  Instances      Box(P          R      mAP50  mAP50-95): 100%|██████████| 7/7 [00:03<00:00,  1.93it/s]"
          ]
        },
        {
          "name": "stdout",
          "output_type": "stream",
          "text": [
            "                   all        223        241      0.531      0.667      0.574      0.437\n"
          ]
        },
        {
          "name": "stderr",
          "output_type": "stream",
          "text": [
            "\n"
          ]
        },
        {
          "name": "stdout",
          "output_type": "stream",
          "text": [
            "\n",
            "      Epoch    GPU_mem   box_loss   cls_loss   dfl_loss  Instances       Size\n"
          ]
        },
        {
          "name": "stderr",
          "output_type": "stream",
          "text": [
            "    175/250      5.16G     0.6042     0.4048     0.9252         25       1024: 100%|██████████| 56/56 [00:35<00:00,  1.58it/s]\n",
            "                 Class     Images  Instances      Box(P          R      mAP50  mAP50-95): 100%|██████████| 7/7 [00:04<00:00,  1.56it/s]"
          ]
        },
        {
          "name": "stdout",
          "output_type": "stream",
          "text": [
            "                   all        223        241      0.474      0.727      0.535        0.4\n"
          ]
        },
        {
          "name": "stderr",
          "output_type": "stream",
          "text": [
            "\n"
          ]
        },
        {
          "name": "stdout",
          "output_type": "stream",
          "text": [
            "\n",
            "      Epoch    GPU_mem   box_loss   cls_loss   dfl_loss  Instances       Size\n"
          ]
        },
        {
          "name": "stderr",
          "output_type": "stream",
          "text": [
            "    176/250      5.16G     0.6059     0.4157     0.9199         23       1024: 100%|██████████| 56/56 [00:36<00:00,  1.53it/s]\n",
            "                 Class     Images  Instances      Box(P          R      mAP50  mAP50-95): 100%|██████████| 7/7 [00:04<00:00,  1.67it/s]"
          ]
        },
        {
          "name": "stdout",
          "output_type": "stream",
          "text": [
            "                   all        223        241      0.503      0.619       0.52      0.398\n"
          ]
        },
        {
          "name": "stderr",
          "output_type": "stream",
          "text": [
            "\n"
          ]
        },
        {
          "name": "stdout",
          "output_type": "stream",
          "text": [
            "\n",
            "      Epoch    GPU_mem   box_loss   cls_loss   dfl_loss  Instances       Size\n"
          ]
        },
        {
          "name": "stderr",
          "output_type": "stream",
          "text": [
            "    177/250      5.16G     0.5778     0.3862     0.9111         20       1024: 100%|██████████| 56/56 [00:35<00:00,  1.57it/s]\n",
            "                 Class     Images  Instances      Box(P          R      mAP50  mAP50-95): 100%|██████████| 7/7 [00:03<00:00,  1.87it/s]"
          ]
        },
        {
          "name": "stdout",
          "output_type": "stream",
          "text": [
            "                   all        223        241      0.501      0.641      0.522      0.392\n"
          ]
        },
        {
          "name": "stderr",
          "output_type": "stream",
          "text": [
            "\n"
          ]
        },
        {
          "name": "stdout",
          "output_type": "stream",
          "text": [
            "\n",
            "      Epoch    GPU_mem   box_loss   cls_loss   dfl_loss  Instances       Size\n"
          ]
        },
        {
          "name": "stderr",
          "output_type": "stream",
          "text": [
            "    178/250      5.16G     0.5935     0.4154     0.9169         23       1024: 100%|██████████| 56/56 [00:36<00:00,  1.54it/s]\n",
            "                 Class     Images  Instances      Box(P          R      mAP50  mAP50-95): 100%|██████████| 7/7 [00:05<00:00,  1.24it/s]"
          ]
        },
        {
          "name": "stdout",
          "output_type": "stream",
          "text": [
            "                   all        223        241      0.474      0.709       0.49      0.359\n"
          ]
        },
        {
          "name": "stderr",
          "output_type": "stream",
          "text": [
            "\n"
          ]
        },
        {
          "name": "stdout",
          "output_type": "stream",
          "text": [
            "\n",
            "      Epoch    GPU_mem   box_loss   cls_loss   dfl_loss  Instances       Size\n"
          ]
        },
        {
          "name": "stderr",
          "output_type": "stream",
          "text": [
            "    179/250      5.16G     0.5871     0.4003     0.9198         19       1024: 100%|██████████| 56/56 [00:35<00:00,  1.56it/s]\n",
            "                 Class     Images  Instances      Box(P          R      mAP50  mAP50-95): 100%|██████████| 7/7 [00:03<00:00,  1.82it/s]"
          ]
        },
        {
          "name": "stdout",
          "output_type": "stream",
          "text": [
            "                   all        223        241      0.493      0.622       0.53      0.388\n"
          ]
        },
        {
          "name": "stderr",
          "output_type": "stream",
          "text": [
            "\n"
          ]
        },
        {
          "name": "stdout",
          "output_type": "stream",
          "text": [
            "\n",
            "      Epoch    GPU_mem   box_loss   cls_loss   dfl_loss  Instances       Size\n"
          ]
        },
        {
          "name": "stderr",
          "output_type": "stream",
          "text": [
            "    180/250      5.16G     0.5686     0.3704      0.903         18       1024: 100%|██████████| 56/56 [00:35<00:00,  1.58it/s]\n",
            "                 Class     Images  Instances      Box(P          R      mAP50  mAP50-95): 100%|██████████| 7/7 [00:05<00:00,  1.27it/s]"
          ]
        },
        {
          "name": "stdout",
          "output_type": "stream",
          "text": [
            "                   all        223        241      0.486      0.675       0.53      0.395\n"
          ]
        },
        {
          "name": "stderr",
          "output_type": "stream",
          "text": [
            "\n"
          ]
        },
        {
          "name": "stdout",
          "output_type": "stream",
          "text": [
            "\n",
            "      Epoch    GPU_mem   box_loss   cls_loss   dfl_loss  Instances       Size\n"
          ]
        },
        {
          "name": "stderr",
          "output_type": "stream",
          "text": [
            "    181/250      5.16G     0.5833      0.381     0.9119         17       1024: 100%|██████████| 56/56 [00:35<00:00,  1.57it/s]\n",
            "                 Class     Images  Instances      Box(P          R      mAP50  mAP50-95): 100%|██████████| 7/7 [00:03<00:00,  2.04it/s]"
          ]
        },
        {
          "name": "stdout",
          "output_type": "stream",
          "text": [
            "                   all        223        241      0.496      0.657      0.511      0.387\n"
          ]
        },
        {
          "name": "stderr",
          "output_type": "stream",
          "text": [
            "\n"
          ]
        },
        {
          "name": "stdout",
          "output_type": "stream",
          "text": [
            "\n",
            "      Epoch    GPU_mem   box_loss   cls_loss   dfl_loss  Instances       Size\n"
          ]
        },
        {
          "name": "stderr",
          "output_type": "stream",
          "text": [
            "    182/250      5.16G     0.5788     0.3964     0.8995         33       1024: 100%|██████████| 56/56 [00:36<00:00,  1.55it/s]\n",
            "                 Class     Images  Instances      Box(P          R      mAP50  mAP50-95): 100%|██████████| 7/7 [00:04<00:00,  1.70it/s]"
          ]
        },
        {
          "name": "stdout",
          "output_type": "stream",
          "text": [
            "                   all        223        241      0.487      0.687      0.531      0.395\n"
          ]
        },
        {
          "name": "stderr",
          "output_type": "stream",
          "text": [
            "\n"
          ]
        },
        {
          "name": "stdout",
          "output_type": "stream",
          "text": [
            "\n",
            "      Epoch    GPU_mem   box_loss   cls_loss   dfl_loss  Instances       Size\n"
          ]
        },
        {
          "name": "stderr",
          "output_type": "stream",
          "text": [
            "    183/250      5.16G     0.5819     0.3858     0.9065         21       1024: 100%|██████████| 56/56 [00:36<00:00,  1.53it/s]\n",
            "                 Class     Images  Instances      Box(P          R      mAP50  mAP50-95): 100%|██████████| 7/7 [00:03<00:00,  1.78it/s]"
          ]
        },
        {
          "name": "stdout",
          "output_type": "stream",
          "text": [
            "                   all        223        241      0.522      0.581      0.513      0.382\n"
          ]
        },
        {
          "name": "stderr",
          "output_type": "stream",
          "text": [
            "\n"
          ]
        },
        {
          "name": "stdout",
          "output_type": "stream",
          "text": [
            "\n",
            "      Epoch    GPU_mem   box_loss   cls_loss   dfl_loss  Instances       Size\n"
          ]
        },
        {
          "name": "stderr",
          "output_type": "stream",
          "text": [
            "    184/250      5.16G     0.5702     0.3944     0.9096         25       1024: 100%|██████████| 56/56 [00:35<00:00,  1.59it/s]\n",
            "                 Class     Images  Instances      Box(P          R      mAP50  mAP50-95): 100%|██████████| 7/7 [00:03<00:00,  1.76it/s]"
          ]
        },
        {
          "name": "stdout",
          "output_type": "stream",
          "text": [
            "                   all        223        241      0.478      0.716      0.549      0.411\n"
          ]
        },
        {
          "name": "stderr",
          "output_type": "stream",
          "text": [
            "\n"
          ]
        },
        {
          "name": "stdout",
          "output_type": "stream",
          "text": [
            "\n",
            "      Epoch    GPU_mem   box_loss   cls_loss   dfl_loss  Instances       Size\n"
          ]
        },
        {
          "name": "stderr",
          "output_type": "stream",
          "text": [
            "    185/250      5.16G     0.5788     0.3833     0.9106         20       1024: 100%|██████████| 56/56 [00:36<00:00,  1.54it/s]\n",
            "                 Class     Images  Instances      Box(P          R      mAP50  mAP50-95): 100%|██████████| 7/7 [00:05<00:00,  1.28it/s]"
          ]
        },
        {
          "name": "stdout",
          "output_type": "stream",
          "text": [
            "                   all        223        241      0.478      0.715      0.546      0.406\n"
          ]
        },
        {
          "name": "stderr",
          "output_type": "stream",
          "text": [
            "\n"
          ]
        },
        {
          "name": "stdout",
          "output_type": "stream",
          "text": [
            "\n",
            "      Epoch    GPU_mem   box_loss   cls_loss   dfl_loss  Instances       Size\n"
          ]
        },
        {
          "name": "stderr",
          "output_type": "stream",
          "text": [
            "    186/250      5.16G     0.5821     0.3858     0.9123         25       1024: 100%|██████████| 56/56 [00:35<00:00,  1.57it/s]\n",
            "                 Class     Images  Instances      Box(P          R      mAP50  mAP50-95): 100%|██████████| 7/7 [00:03<00:00,  1.89it/s]"
          ]
        },
        {
          "name": "stdout",
          "output_type": "stream",
          "text": [
            "                   all        223        241       0.48      0.714      0.545      0.405\n"
          ]
        },
        {
          "name": "stderr",
          "output_type": "stream",
          "text": [
            "\n"
          ]
        },
        {
          "name": "stdout",
          "output_type": "stream",
          "text": [
            "\n",
            "      Epoch    GPU_mem   box_loss   cls_loss   dfl_loss  Instances       Size\n"
          ]
        },
        {
          "name": "stderr",
          "output_type": "stream",
          "text": [
            "    187/250      5.16G       0.57     0.3768     0.9063         22       1024: 100%|██████████| 56/56 [00:35<00:00,  1.56it/s]\n",
            "                 Class     Images  Instances      Box(P          R      mAP50  mAP50-95): 100%|██████████| 7/7 [00:05<00:00,  1.23it/s]"
          ]
        },
        {
          "name": "stdout",
          "output_type": "stream",
          "text": [
            "                   all        223        241      0.475       0.69       0.54      0.407\n"
          ]
        },
        {
          "name": "stderr",
          "output_type": "stream",
          "text": [
            "\n"
          ]
        },
        {
          "name": "stdout",
          "output_type": "stream",
          "text": [
            "\n",
            "      Epoch    GPU_mem   box_loss   cls_loss   dfl_loss  Instances       Size\n"
          ]
        },
        {
          "name": "stderr",
          "output_type": "stream",
          "text": [
            "    188/250      5.16G     0.5828      0.389     0.9206         20       1024: 100%|██████████| 56/56 [00:35<00:00,  1.56it/s]\n",
            "                 Class     Images  Instances      Box(P          R      mAP50  mAP50-95): 100%|██████████| 7/7 [00:03<00:00,  1.85it/s]"
          ]
        },
        {
          "name": "stdout",
          "output_type": "stream",
          "text": [
            "                   all        223        241      0.508      0.739      0.574      0.435\n"
          ]
        },
        {
          "name": "stderr",
          "output_type": "stream",
          "text": [
            "\n"
          ]
        },
        {
          "name": "stdout",
          "output_type": "stream",
          "text": [
            "\n",
            "      Epoch    GPU_mem   box_loss   cls_loss   dfl_loss  Instances       Size\n"
          ]
        },
        {
          "name": "stderr",
          "output_type": "stream",
          "text": [
            "    189/250      5.16G     0.5682     0.3888     0.9075         26       1024: 100%|██████████| 56/56 [00:35<00:00,  1.57it/s]\n",
            "                 Class     Images  Instances      Box(P          R      mAP50  mAP50-95): 100%|██████████| 7/7 [00:05<00:00,  1.27it/s]"
          ]
        },
        {
          "name": "stdout",
          "output_type": "stream",
          "text": [
            "                   all        223        241      0.466      0.681      0.522      0.395\n"
          ]
        },
        {
          "name": "stderr",
          "output_type": "stream",
          "text": [
            "\n"
          ]
        },
        {
          "name": "stdout",
          "output_type": "stream",
          "text": [
            "\n",
            "      Epoch    GPU_mem   box_loss   cls_loss   dfl_loss  Instances       Size\n"
          ]
        },
        {
          "name": "stderr",
          "output_type": "stream",
          "text": [
            "    190/250      5.16G     0.5747     0.3769      0.912         19       1024: 100%|██████████| 56/56 [00:35<00:00,  1.59it/s]\n",
            "                 Class     Images  Instances      Box(P          R      mAP50  mAP50-95): 100%|██████████| 7/7 [00:03<00:00,  1.83it/s]"
          ]
        },
        {
          "name": "stdout",
          "output_type": "stream",
          "text": [
            "                   all        223        241      0.451      0.696      0.515      0.391\n"
          ]
        },
        {
          "name": "stderr",
          "output_type": "stream",
          "text": [
            "\n"
          ]
        },
        {
          "name": "stdout",
          "output_type": "stream",
          "text": [
            "\n",
            "      Epoch    GPU_mem   box_loss   cls_loss   dfl_loss  Instances       Size\n"
          ]
        },
        {
          "name": "stderr",
          "output_type": "stream",
          "text": [
            "    191/250      5.16G     0.5871     0.3862     0.9112         21       1024: 100%|██████████| 56/56 [00:35<00:00,  1.56it/s]\n",
            "                 Class     Images  Instances      Box(P          R      mAP50  mAP50-95): 100%|██████████| 7/7 [00:04<00:00,  1.49it/s]"
          ]
        },
        {
          "name": "stdout",
          "output_type": "stream",
          "text": [
            "                   all        223        241      0.516      0.649      0.544      0.412\n"
          ]
        },
        {
          "name": "stderr",
          "output_type": "stream",
          "text": [
            "\n"
          ]
        },
        {
          "name": "stdout",
          "output_type": "stream",
          "text": [
            "\n",
            "      Epoch    GPU_mem   box_loss   cls_loss   dfl_loss  Instances       Size\n"
          ]
        },
        {
          "name": "stderr",
          "output_type": "stream",
          "text": [
            "    192/250      5.16G      0.573     0.3747     0.9111         21       1024: 100%|██████████| 56/56 [00:36<00:00,  1.53it/s]\n",
            "                 Class     Images  Instances      Box(P          R      mAP50  mAP50-95): 100%|██████████| 7/7 [00:04<00:00,  1.72it/s]"
          ]
        },
        {
          "name": "stdout",
          "output_type": "stream",
          "text": [
            "                   all        223        241      0.491      0.696      0.551      0.418\n"
          ]
        },
        {
          "name": "stderr",
          "output_type": "stream",
          "text": [
            "\n"
          ]
        },
        {
          "name": "stdout",
          "output_type": "stream",
          "text": [
            "\n",
            "      Epoch    GPU_mem   box_loss   cls_loss   dfl_loss  Instances       Size\n"
          ]
        },
        {
          "name": "stderr",
          "output_type": "stream",
          "text": [
            "    193/250      5.16G     0.5488     0.3702     0.9041         19       1024: 100%|██████████| 56/56 [00:35<00:00,  1.57it/s]\n",
            "                 Class     Images  Instances      Box(P          R      mAP50  mAP50-95): 100%|██████████| 7/7 [00:03<00:00,  1.86it/s]"
          ]
        },
        {
          "name": "stdout",
          "output_type": "stream",
          "text": [
            "                   all        223        241      0.499       0.74      0.595      0.448\n"
          ]
        },
        {
          "name": "stderr",
          "output_type": "stream",
          "text": [
            "\n"
          ]
        },
        {
          "name": "stdout",
          "output_type": "stream",
          "text": [
            "\n",
            "      Epoch    GPU_mem   box_loss   cls_loss   dfl_loss  Instances       Size\n"
          ]
        },
        {
          "name": "stderr",
          "output_type": "stream",
          "text": [
            "    194/250      5.16G     0.5712     0.3777     0.9016         17       1024: 100%|██████████| 56/56 [00:36<00:00,  1.54it/s]\n",
            "                 Class     Images  Instances      Box(P          R      mAP50  mAP50-95): 100%|██████████| 7/7 [00:05<00:00,  1.38it/s]"
          ]
        },
        {
          "name": "stdout",
          "output_type": "stream",
          "text": [
            "                   all        223        241      0.488      0.753      0.559       0.42\n"
          ]
        },
        {
          "name": "stderr",
          "output_type": "stream",
          "text": [
            "\n"
          ]
        },
        {
          "name": "stdout",
          "output_type": "stream",
          "text": [
            "\n",
            "      Epoch    GPU_mem   box_loss   cls_loss   dfl_loss  Instances       Size\n"
          ]
        },
        {
          "name": "stderr",
          "output_type": "stream",
          "text": [
            "    195/250      5.16G     0.5752     0.3853     0.9095         22       1024: 100%|██████████| 56/56 [00:35<00:00,  1.58it/s]\n",
            "                 Class     Images  Instances      Box(P          R      mAP50  mAP50-95): 100%|██████████| 7/7 [00:03<00:00,  1.97it/s]"
          ]
        },
        {
          "name": "stdout",
          "output_type": "stream",
          "text": [
            "                   all        223        241      0.491      0.707      0.528      0.399\n"
          ]
        },
        {
          "name": "stderr",
          "output_type": "stream",
          "text": [
            "\n"
          ]
        },
        {
          "name": "stdout",
          "output_type": "stream",
          "text": [
            "\n",
            "      Epoch    GPU_mem   box_loss   cls_loss   dfl_loss  Instances       Size\n"
          ]
        },
        {
          "name": "stderr",
          "output_type": "stream",
          "text": [
            "    196/250      5.16G      0.568     0.3725     0.9098         11       1024: 100%|██████████| 56/56 [00:36<00:00,  1.53it/s]\n",
            "                 Class     Images  Instances      Box(P          R      mAP50  mAP50-95): 100%|██████████| 7/7 [00:05<00:00,  1.23it/s]"
          ]
        },
        {
          "name": "stdout",
          "output_type": "stream",
          "text": [
            "                   all        223        241      0.485      0.688      0.512      0.388\n"
          ]
        },
        {
          "name": "stderr",
          "output_type": "stream",
          "text": [
            "\n"
          ]
        },
        {
          "name": "stdout",
          "output_type": "stream",
          "text": [
            "\n",
            "      Epoch    GPU_mem   box_loss   cls_loss   dfl_loss  Instances       Size\n"
          ]
        },
        {
          "name": "stderr",
          "output_type": "stream",
          "text": [
            "    197/250      5.16G     0.5373     0.3625     0.8899         27       1024: 100%|██████████| 56/56 [00:35<00:00,  1.56it/s]\n",
            "                 Class     Images  Instances      Box(P          R      mAP50  mAP50-95): 100%|██████████| 7/7 [00:03<00:00,  1.97it/s]"
          ]
        },
        {
          "name": "stdout",
          "output_type": "stream",
          "text": [
            "                   all        223        241      0.498       0.66      0.524        0.4\n"
          ]
        },
        {
          "name": "stderr",
          "output_type": "stream",
          "text": [
            "\n"
          ]
        },
        {
          "name": "stdout",
          "output_type": "stream",
          "text": [
            "\n",
            "      Epoch    GPU_mem   box_loss   cls_loss   dfl_loss  Instances       Size\n"
          ]
        },
        {
          "name": "stderr",
          "output_type": "stream",
          "text": [
            "    198/250      5.16G     0.5405     0.3623     0.9051         23       1024: 100%|██████████| 56/56 [00:35<00:00,  1.56it/s]\n",
            "                 Class     Images  Instances      Box(P          R      mAP50  mAP50-95): 100%|██████████| 7/7 [00:05<00:00,  1.24it/s]"
          ]
        },
        {
          "name": "stdout",
          "output_type": "stream",
          "text": [
            "                   all        223        241      0.465      0.693      0.523      0.395\n"
          ]
        },
        {
          "name": "stderr",
          "output_type": "stream",
          "text": [
            "\n"
          ]
        },
        {
          "name": "stdout",
          "output_type": "stream",
          "text": [
            "\n",
            "      Epoch    GPU_mem   box_loss   cls_loss   dfl_loss  Instances       Size\n"
          ]
        },
        {
          "name": "stderr",
          "output_type": "stream",
          "text": [
            "    199/250      5.16G     0.5506     0.3747     0.8962         24       1024: 100%|██████████| 56/56 [00:35<00:00,  1.57it/s]\n",
            "                 Class     Images  Instances      Box(P          R      mAP50  mAP50-95): 100%|██████████| 7/7 [00:03<00:00,  1.80it/s]"
          ]
        },
        {
          "name": "stdout",
          "output_type": "stream",
          "text": [
            "                   all        223        241      0.506       0.63      0.546      0.413\n"
          ]
        },
        {
          "name": "stderr",
          "output_type": "stream",
          "text": [
            "\n"
          ]
        },
        {
          "name": "stdout",
          "output_type": "stream",
          "text": [
            "\n",
            "      Epoch    GPU_mem   box_loss   cls_loss   dfl_loss  Instances       Size\n"
          ]
        },
        {
          "name": "stderr",
          "output_type": "stream",
          "text": [
            "    200/250      5.16G     0.5489     0.3622     0.9102         17       1024: 100%|██████████| 56/56 [00:36<00:00,  1.55it/s]\n",
            "                 Class     Images  Instances      Box(P          R      mAP50  mAP50-95): 100%|██████████| 7/7 [00:04<00:00,  1.59it/s]"
          ]
        },
        {
          "name": "stdout",
          "output_type": "stream",
          "text": [
            "                   all        223        241      0.446      0.708      0.507      0.374\n"
          ]
        },
        {
          "name": "stderr",
          "output_type": "stream",
          "text": [
            "\n"
          ]
        },
        {
          "name": "stdout",
          "output_type": "stream",
          "text": [
            "\n",
            "      Epoch    GPU_mem   box_loss   cls_loss   dfl_loss  Instances       Size\n"
          ]
        },
        {
          "name": "stderr",
          "output_type": "stream",
          "text": [
            "    201/250      5.16G     0.5486      0.368     0.9031         24       1024: 100%|██████████| 56/56 [00:36<00:00,  1.54it/s]\n",
            "                 Class     Images  Instances      Box(P          R      mAP50  mAP50-95): 100%|██████████| 7/7 [00:03<00:00,  1.82it/s]"
          ]
        },
        {
          "name": "stdout",
          "output_type": "stream",
          "text": [
            "                   all        223        241      0.522      0.642      0.517      0.386\n"
          ]
        },
        {
          "name": "stderr",
          "output_type": "stream",
          "text": [
            "\n"
          ]
        },
        {
          "name": "stdout",
          "output_type": "stream",
          "text": [
            "\n",
            "      Epoch    GPU_mem   box_loss   cls_loss   dfl_loss  Instances       Size\n"
          ]
        },
        {
          "name": "stderr",
          "output_type": "stream",
          "text": [
            "    202/250      5.16G     0.5602     0.3618     0.9063         18       1024: 100%|██████████| 56/56 [00:35<00:00,  1.57it/s]\n",
            "                 Class     Images  Instances      Box(P          R      mAP50  mAP50-95): 100%|██████████| 7/7 [00:03<00:00,  1.86it/s]"
          ]
        },
        {
          "name": "stdout",
          "output_type": "stream",
          "text": [
            "                   all        223        241      0.483      0.721      0.536      0.404\n"
          ]
        },
        {
          "name": "stderr",
          "output_type": "stream",
          "text": [
            "\n"
          ]
        },
        {
          "name": "stdout",
          "output_type": "stream",
          "text": [
            "\n",
            "      Epoch    GPU_mem   box_loss   cls_loss   dfl_loss  Instances       Size\n"
          ]
        },
        {
          "name": "stderr",
          "output_type": "stream",
          "text": [
            "    203/250      5.16G     0.5449      0.359     0.9105         17       1024: 100%|██████████| 56/56 [00:36<00:00,  1.53it/s]\n",
            "                 Class     Images  Instances      Box(P          R      mAP50  mAP50-95): 100%|██████████| 7/7 [00:05<00:00,  1.36it/s]"
          ]
        },
        {
          "name": "stdout",
          "output_type": "stream",
          "text": [
            "                   all        223        241      0.463      0.654      0.525      0.395\n"
          ]
        },
        {
          "name": "stderr",
          "output_type": "stream",
          "text": [
            "\n"
          ]
        },
        {
          "name": "stdout",
          "output_type": "stream",
          "text": [
            "\n",
            "      Epoch    GPU_mem   box_loss   cls_loss   dfl_loss  Instances       Size\n"
          ]
        },
        {
          "name": "stderr",
          "output_type": "stream",
          "text": [
            "    204/250      5.16G     0.5463     0.3507     0.9039         29       1024: 100%|██████████| 56/56 [00:36<00:00,  1.55it/s]\n",
            "                 Class     Images  Instances      Box(P          R      mAP50  mAP50-95): 100%|██████████| 7/7 [00:03<00:00,  1.90it/s]"
          ]
        },
        {
          "name": "stdout",
          "output_type": "stream",
          "text": [
            "                   all        223        241      0.512      0.717      0.557       0.42\n"
          ]
        },
        {
          "name": "stderr",
          "output_type": "stream",
          "text": [
            "\n"
          ]
        },
        {
          "name": "stdout",
          "output_type": "stream",
          "text": [
            "\n",
            "      Epoch    GPU_mem   box_loss   cls_loss   dfl_loss  Instances       Size\n"
          ]
        },
        {
          "name": "stderr",
          "output_type": "stream",
          "text": [
            "    205/250      5.16G     0.5768     0.3809     0.9158         23       1024: 100%|██████████| 56/56 [00:36<00:00,  1.55it/s]\n",
            "                 Class     Images  Instances      Box(P          R      mAP50  mAP50-95): 100%|██████████| 7/7 [00:06<00:00,  1.16it/s]"
          ]
        },
        {
          "name": "stdout",
          "output_type": "stream",
          "text": [
            "                   all        223        241      0.523      0.617      0.544      0.413\n"
          ]
        },
        {
          "name": "stderr",
          "output_type": "stream",
          "text": [
            "\n"
          ]
        },
        {
          "name": "stdout",
          "output_type": "stream",
          "text": [
            "\n",
            "      Epoch    GPU_mem   box_loss   cls_loss   dfl_loss  Instances       Size\n"
          ]
        },
        {
          "name": "stderr",
          "output_type": "stream",
          "text": [
            "    206/250      5.16G     0.5405     0.3495     0.8994         20       1024: 100%|██████████| 56/56 [00:35<00:00,  1.57it/s]\n",
            "                 Class     Images  Instances      Box(P          R      mAP50  mAP50-95): 100%|██████████| 7/7 [00:03<00:00,  1.80it/s]"
          ]
        },
        {
          "name": "stdout",
          "output_type": "stream",
          "text": [
            "                   all        223        241      0.521      0.654      0.553      0.424\n"
          ]
        },
        {
          "name": "stderr",
          "output_type": "stream",
          "text": [
            "\n"
          ]
        },
        {
          "name": "stdout",
          "output_type": "stream",
          "text": [
            "\n",
            "      Epoch    GPU_mem   box_loss   cls_loss   dfl_loss  Instances       Size\n"
          ]
        },
        {
          "name": "stderr",
          "output_type": "stream",
          "text": [
            "    207/250      5.16G     0.5301     0.3468     0.9044         26       1024: 100%|██████████| 56/56 [00:35<00:00,  1.59it/s]\n",
            "                 Class     Images  Instances      Box(P          R      mAP50  mAP50-95): 100%|██████████| 7/7 [00:05<00:00,  1.21it/s]"
          ]
        },
        {
          "name": "stdout",
          "output_type": "stream",
          "text": [
            "                   all        223        241      0.492      0.691      0.546      0.412\n"
          ]
        },
        {
          "name": "stderr",
          "output_type": "stream",
          "text": [
            "\n"
          ]
        },
        {
          "name": "stdout",
          "output_type": "stream",
          "text": [
            "\n",
            "      Epoch    GPU_mem   box_loss   cls_loss   dfl_loss  Instances       Size\n"
          ]
        },
        {
          "name": "stderr",
          "output_type": "stream",
          "text": [
            "    208/250      5.16G     0.5503     0.3693     0.9069         18       1024: 100%|██████████| 56/56 [00:36<00:00,  1.52it/s]\n",
            "                 Class     Images  Instances      Box(P          R      mAP50  mAP50-95): 100%|██████████| 7/7 [00:03<00:00,  1.91it/s]"
          ]
        },
        {
          "name": "stdout",
          "output_type": "stream",
          "text": [
            "                   all        223        241      0.524      0.654      0.553      0.425\n"
          ]
        },
        {
          "name": "stderr",
          "output_type": "stream",
          "text": [
            "\n"
          ]
        },
        {
          "name": "stdout",
          "output_type": "stream",
          "text": [
            "\n",
            "      Epoch    GPU_mem   box_loss   cls_loss   dfl_loss  Instances       Size\n"
          ]
        },
        {
          "name": "stderr",
          "output_type": "stream",
          "text": [
            "    209/250      5.16G     0.5219     0.3407      0.892         20       1024: 100%|██████████| 56/56 [00:35<00:00,  1.60it/s]\n",
            "                 Class     Images  Instances      Box(P          R      mAP50  mAP50-95): 100%|██████████| 7/7 [00:05<00:00,  1.20it/s]"
          ]
        },
        {
          "name": "stdout",
          "output_type": "stream",
          "text": [
            "                   all        223        241      0.503      0.707      0.565      0.433\n"
          ]
        },
        {
          "name": "stderr",
          "output_type": "stream",
          "text": [
            "\n"
          ]
        },
        {
          "name": "stdout",
          "output_type": "stream",
          "text": [
            "\n",
            "      Epoch    GPU_mem   box_loss   cls_loss   dfl_loss  Instances       Size\n"
          ]
        },
        {
          "name": "stderr",
          "output_type": "stream",
          "text": [
            "    210/250      5.16G     0.5534     0.3534     0.9023         16       1024: 100%|██████████| 56/56 [00:35<00:00,  1.57it/s]\n",
            "                 Class     Images  Instances      Box(P          R      mAP50  mAP50-95): 100%|██████████| 7/7 [00:03<00:00,  1.93it/s]"
          ]
        },
        {
          "name": "stdout",
          "output_type": "stream",
          "text": [
            "                   all        223        241      0.547      0.608      0.553      0.419\n"
          ]
        },
        {
          "name": "stderr",
          "output_type": "stream",
          "text": [
            "\n"
          ]
        },
        {
          "name": "stdout",
          "output_type": "stream",
          "text": [
            "\n",
            "      Epoch    GPU_mem   box_loss   cls_loss   dfl_loss  Instances       Size\n"
          ]
        },
        {
          "name": "stderr",
          "output_type": "stream",
          "text": [
            "    211/250      5.16G     0.5377     0.3484     0.9036         26       1024: 100%|██████████| 56/56 [00:36<00:00,  1.55it/s]\n",
            "                 Class     Images  Instances      Box(P          R      mAP50  mAP50-95): 100%|██████████| 7/7 [00:04<00:00,  1.53it/s]"
          ]
        },
        {
          "name": "stdout",
          "output_type": "stream",
          "text": [
            "                   all        223        241      0.481      0.681      0.517      0.389\n"
          ]
        },
        {
          "name": "stderr",
          "output_type": "stream",
          "text": [
            "\n"
          ]
        },
        {
          "name": "stdout",
          "output_type": "stream",
          "text": [
            "\n",
            "      Epoch    GPU_mem   box_loss   cls_loss   dfl_loss  Instances       Size\n"
          ]
        },
        {
          "name": "stderr",
          "output_type": "stream",
          "text": [
            "    212/250      5.16G     0.5247     0.3499     0.8947         18       1024: 100%|██████████| 56/56 [00:36<00:00,  1.54it/s]\n",
            "                 Class     Images  Instances      Box(P          R      mAP50  mAP50-95): 100%|██████████| 7/7 [00:04<00:00,  1.58it/s]"
          ]
        },
        {
          "name": "stdout",
          "output_type": "stream",
          "text": [
            "                   all        223        241      0.519      0.676      0.567      0.425\n"
          ]
        },
        {
          "name": "stderr",
          "output_type": "stream",
          "text": [
            "\n"
          ]
        },
        {
          "name": "stdout",
          "output_type": "stream",
          "text": [
            "\n",
            "      Epoch    GPU_mem   box_loss   cls_loss   dfl_loss  Instances       Size\n"
          ]
        },
        {
          "name": "stderr",
          "output_type": "stream",
          "text": [
            "    213/250      5.16G     0.5241      0.353     0.8973         19       1024: 100%|██████████| 56/56 [00:36<00:00,  1.55it/s]\n",
            "                 Class     Images  Instances      Box(P          R      mAP50  mAP50-95): 100%|██████████| 7/7 [00:03<00:00,  1.90it/s]"
          ]
        },
        {
          "name": "stdout",
          "output_type": "stream",
          "text": [
            "                   all        223        241      0.539       0.67      0.573      0.427\n"
          ]
        },
        {
          "name": "stderr",
          "output_type": "stream",
          "text": [
            "\n"
          ]
        },
        {
          "name": "stdout",
          "output_type": "stream",
          "text": [
            "\n",
            "      Epoch    GPU_mem   box_loss   cls_loss   dfl_loss  Instances       Size\n"
          ]
        },
        {
          "name": "stderr",
          "output_type": "stream",
          "text": [
            "    214/250      5.16G     0.5128      0.339     0.8897         16       1024: 100%|██████████| 56/56 [00:37<00:00,  1.50it/s]\n",
            "                 Class     Images  Instances      Box(P          R      mAP50  mAP50-95): 100%|██████████| 7/7 [00:05<00:00,  1.32it/s]"
          ]
        },
        {
          "name": "stdout",
          "output_type": "stream",
          "text": [
            "                   all        223        241      0.534      0.644      0.565      0.424\n"
          ]
        },
        {
          "name": "stderr",
          "output_type": "stream",
          "text": [
            "\n"
          ]
        },
        {
          "name": "stdout",
          "output_type": "stream",
          "text": [
            "\n",
            "      Epoch    GPU_mem   box_loss   cls_loss   dfl_loss  Instances       Size\n"
          ]
        },
        {
          "name": "stderr",
          "output_type": "stream",
          "text": [
            "    215/250      5.16G     0.5246     0.3391     0.8932         17       1024: 100%|██████████| 56/56 [00:35<00:00,  1.56it/s]\n",
            "                 Class     Images  Instances      Box(P          R      mAP50  mAP50-95): 100%|██████████| 7/7 [00:03<00:00,  1.83it/s]"
          ]
        },
        {
          "name": "stdout",
          "output_type": "stream",
          "text": [
            "                   all        223        241      0.514      0.671      0.584      0.442\n"
          ]
        },
        {
          "name": "stderr",
          "output_type": "stream",
          "text": [
            "\n"
          ]
        },
        {
          "name": "stdout",
          "output_type": "stream",
          "text": [
            "\n",
            "      Epoch    GPU_mem   box_loss   cls_loss   dfl_loss  Instances       Size\n"
          ]
        },
        {
          "name": "stderr",
          "output_type": "stream",
          "text": [
            "    216/250      5.16G     0.5316     0.3439     0.9079         16       1024: 100%|██████████| 56/56 [00:35<00:00,  1.56it/s]\n",
            "                 Class     Images  Instances      Box(P          R      mAP50  mAP50-95): 100%|██████████| 7/7 [00:05<00:00,  1.28it/s]"
          ]
        },
        {
          "name": "stdout",
          "output_type": "stream",
          "text": [
            "                   all        223        241       0.48      0.695      0.572      0.434\n"
          ]
        },
        {
          "name": "stderr",
          "output_type": "stream",
          "text": [
            "\n"
          ]
        },
        {
          "name": "stdout",
          "output_type": "stream",
          "text": [
            "\n",
            "      Epoch    GPU_mem   box_loss   cls_loss   dfl_loss  Instances       Size\n"
          ]
        },
        {
          "name": "stderr",
          "output_type": "stream",
          "text": [
            "    217/250      5.16G     0.5124     0.3392     0.8878         29       1024: 100%|██████████| 56/56 [00:35<00:00,  1.56it/s]\n",
            "                 Class     Images  Instances      Box(P          R      mAP50  mAP50-95): 100%|██████████| 7/7 [00:03<00:00,  1.95it/s]"
          ]
        },
        {
          "name": "stdout",
          "output_type": "stream",
          "text": [
            "                   all        223        241      0.489      0.702      0.576      0.433\n"
          ]
        },
        {
          "name": "stderr",
          "output_type": "stream",
          "text": [
            "\n"
          ]
        },
        {
          "name": "stdout",
          "output_type": "stream",
          "text": [
            "\n",
            "      Epoch    GPU_mem   box_loss   cls_loss   dfl_loss  Instances       Size\n"
          ]
        },
        {
          "name": "stderr",
          "output_type": "stream",
          "text": [
            "    218/250      5.16G     0.5159     0.3446     0.8941         19       1024: 100%|██████████| 56/56 [00:36<00:00,  1.54it/s]\n",
            "                 Class     Images  Instances      Box(P          R      mAP50  mAP50-95): 100%|██████████| 7/7 [00:03<00:00,  1.75it/s]"
          ]
        },
        {
          "name": "stdout",
          "output_type": "stream",
          "text": [
            "                   all        223        241      0.512      0.654      0.552       0.41\n"
          ]
        },
        {
          "name": "stderr",
          "output_type": "stream",
          "text": [
            "\n"
          ]
        },
        {
          "name": "stdout",
          "output_type": "stream",
          "text": [
            "\n",
            "      Epoch    GPU_mem   box_loss   cls_loss   dfl_loss  Instances       Size\n"
          ]
        },
        {
          "name": "stderr",
          "output_type": "stream",
          "text": [
            "    219/250      5.16G     0.5348      0.347     0.8992         28       1024: 100%|██████████| 56/56 [00:37<00:00,  1.51it/s]\n",
            "                 Class     Images  Instances      Box(P          R      mAP50  mAP50-95): 100%|██████████| 7/7 [00:04<00:00,  1.73it/s]"
          ]
        },
        {
          "name": "stdout",
          "output_type": "stream",
          "text": [
            "                   all        223        241      0.527      0.657       0.55      0.412\n"
          ]
        },
        {
          "name": "stderr",
          "output_type": "stream",
          "text": [
            "\n"
          ]
        },
        {
          "name": "stdout",
          "output_type": "stream",
          "text": [
            "\n",
            "      Epoch    GPU_mem   box_loss   cls_loss   dfl_loss  Instances       Size\n"
          ]
        },
        {
          "name": "stderr",
          "output_type": "stream",
          "text": [
            "    220/250      5.16G     0.5251      0.358      0.898         22       1024: 100%|██████████| 56/56 [00:35<00:00,  1.57it/s]\n",
            "                 Class     Images  Instances      Box(P          R      mAP50  mAP50-95): 100%|██████████| 7/7 [00:03<00:00,  1.93it/s]"
          ]
        },
        {
          "name": "stdout",
          "output_type": "stream",
          "text": [
            "                   all        223        241      0.532      0.671      0.562       0.42\n"
          ]
        },
        {
          "name": "stderr",
          "output_type": "stream",
          "text": [
            "\n"
          ]
        },
        {
          "name": "stdout",
          "output_type": "stream",
          "text": [
            "\n",
            "      Epoch    GPU_mem   box_loss   cls_loss   dfl_loss  Instances       Size\n"
          ]
        },
        {
          "name": "stderr",
          "output_type": "stream",
          "text": [
            "    221/250      5.16G      0.513     0.3351      0.896         16       1024: 100%|██████████| 56/56 [00:36<00:00,  1.53it/s]\n",
            "                 Class     Images  Instances      Box(P          R      mAP50  mAP50-95): 100%|██████████| 7/7 [00:05<00:00,  1.23it/s]"
          ]
        },
        {
          "name": "stdout",
          "output_type": "stream",
          "text": [
            "                   all        223        241      0.497      0.711       0.58      0.431\n"
          ]
        },
        {
          "name": "stderr",
          "output_type": "stream",
          "text": [
            "\n"
          ]
        },
        {
          "name": "stdout",
          "output_type": "stream",
          "text": [
            "\n",
            "      Epoch    GPU_mem   box_loss   cls_loss   dfl_loss  Instances       Size\n"
          ]
        },
        {
          "name": "stderr",
          "output_type": "stream",
          "text": [
            "    222/250      5.16G     0.5024      0.337     0.8822         18       1024: 100%|██████████| 56/56 [00:35<00:00,  1.58it/s]\n",
            "                 Class     Images  Instances      Box(P          R      mAP50  mAP50-95): 100%|██████████| 7/7 [00:03<00:00,  1.85it/s]"
          ]
        },
        {
          "name": "stdout",
          "output_type": "stream",
          "text": [
            "                   all        223        241      0.541      0.642      0.569      0.423\n"
          ]
        },
        {
          "name": "stderr",
          "output_type": "stream",
          "text": [
            "\n"
          ]
        },
        {
          "name": "stdout",
          "output_type": "stream",
          "text": [
            "\n",
            "      Epoch    GPU_mem   box_loss   cls_loss   dfl_loss  Instances       Size\n"
          ]
        },
        {
          "name": "stderr",
          "output_type": "stream",
          "text": [
            "    223/250      5.16G     0.5072     0.3279     0.8862         17       1024: 100%|██████████| 56/56 [00:36<00:00,  1.54it/s]\n",
            "                 Class     Images  Instances      Box(P          R      mAP50  mAP50-95): 100%|██████████| 7/7 [00:05<00:00,  1.25it/s]"
          ]
        },
        {
          "name": "stdout",
          "output_type": "stream",
          "text": [
            "                   all        223        241      0.502       0.71      0.582      0.432\n"
          ]
        },
        {
          "name": "stderr",
          "output_type": "stream",
          "text": [
            "\n"
          ]
        },
        {
          "name": "stdout",
          "output_type": "stream",
          "text": [
            "\n",
            "      Epoch    GPU_mem   box_loss   cls_loss   dfl_loss  Instances       Size\n"
          ]
        },
        {
          "name": "stderr",
          "output_type": "stream",
          "text": [
            "    224/250      5.16G     0.4991     0.3306     0.8948         23       1024: 100%|██████████| 56/56 [00:36<00:00,  1.55it/s]\n",
            "                 Class     Images  Instances      Box(P          R      mAP50  mAP50-95): 100%|██████████| 7/7 [00:03<00:00,  1.84it/s]"
          ]
        },
        {
          "name": "stdout",
          "output_type": "stream",
          "text": [
            "                   all        223        241      0.502      0.668      0.566      0.424\n"
          ]
        },
        {
          "name": "stderr",
          "output_type": "stream",
          "text": [
            "\n"
          ]
        },
        {
          "name": "stdout",
          "output_type": "stream",
          "text": [
            "\n",
            "      Epoch    GPU_mem   box_loss   cls_loss   dfl_loss  Instances       Size\n"
          ]
        },
        {
          "name": "stderr",
          "output_type": "stream",
          "text": [
            "    225/250      5.16G      0.504     0.3299     0.8789         26       1024: 100%|██████████| 56/56 [00:36<00:00,  1.55it/s]\n",
            "                 Class     Images  Instances      Box(P          R      mAP50  mAP50-95): 100%|██████████| 7/7 [00:05<00:00,  1.37it/s]"
          ]
        },
        {
          "name": "stdout",
          "output_type": "stream",
          "text": [
            "                   all        223        241      0.506      0.681      0.582      0.432\n"
          ]
        },
        {
          "name": "stderr",
          "output_type": "stream",
          "text": [
            "\n"
          ]
        },
        {
          "name": "stdout",
          "output_type": "stream",
          "text": [
            "\n",
            "      Epoch    GPU_mem   box_loss   cls_loss   dfl_loss  Instances       Size\n"
          ]
        },
        {
          "name": "stderr",
          "output_type": "stream",
          "text": [
            "    226/250      5.16G     0.4929     0.3214     0.8872         22       1024: 100%|██████████| 56/56 [00:35<00:00,  1.56it/s]\n",
            "                 Class     Images  Instances      Box(P          R      mAP50  mAP50-95): 100%|██████████| 7/7 [00:03<00:00,  1.83it/s]"
          ]
        },
        {
          "name": "stdout",
          "output_type": "stream",
          "text": [
            "                   all        223        241      0.465      0.696      0.562      0.421\n"
          ]
        },
        {
          "name": "stderr",
          "output_type": "stream",
          "text": [
            "\n"
          ]
        },
        {
          "name": "stdout",
          "output_type": "stream",
          "text": [
            "\n",
            "      Epoch    GPU_mem   box_loss   cls_loss   dfl_loss  Instances       Size\n"
          ]
        },
        {
          "name": "stderr",
          "output_type": "stream",
          "text": [
            "    227/250      5.16G     0.5031     0.3369     0.8809         24       1024: 100%|██████████| 56/56 [00:35<00:00,  1.56it/s]\n",
            "                 Class     Images  Instances      Box(P          R      mAP50  mAP50-95): 100%|██████████| 7/7 [00:04<00:00,  1.75it/s]"
          ]
        },
        {
          "name": "stdout",
          "output_type": "stream",
          "text": [
            "                   all        223        241      0.481      0.715      0.561      0.419\n"
          ]
        },
        {
          "name": "stderr",
          "output_type": "stream",
          "text": [
            "\n"
          ]
        },
        {
          "name": "stdout",
          "output_type": "stream",
          "text": [
            "\n",
            "      Epoch    GPU_mem   box_loss   cls_loss   dfl_loss  Instances       Size\n"
          ]
        },
        {
          "name": "stderr",
          "output_type": "stream",
          "text": [
            "    228/250      5.16G     0.5096     0.3493     0.8898         18       1024: 100%|██████████| 56/56 [00:39<00:00,  1.41it/s]\n",
            "                 Class     Images  Instances      Box(P          R      mAP50  mAP50-95): 100%|██████████| 7/7 [00:03<00:00,  1.81it/s]"
          ]
        },
        {
          "name": "stdout",
          "output_type": "stream",
          "text": [
            "                   all        223        241       0.51      0.635      0.551      0.416\n"
          ]
        },
        {
          "name": "stderr",
          "output_type": "stream",
          "text": [
            "\n"
          ]
        },
        {
          "name": "stdout",
          "output_type": "stream",
          "text": [
            "\n",
            "      Epoch    GPU_mem   box_loss   cls_loss   dfl_loss  Instances       Size\n"
          ]
        },
        {
          "name": "stderr",
          "output_type": "stream",
          "text": [
            "    229/250      5.16G     0.4906     0.3179     0.8798         24       1024: 100%|██████████| 56/56 [00:37<00:00,  1.51it/s]\n",
            "                 Class     Images  Instances      Box(P          R      mAP50  mAP50-95): 100%|██████████| 7/7 [00:04<00:00,  1.60it/s]"
          ]
        },
        {
          "name": "stdout",
          "output_type": "stream",
          "text": [
            "                   all        223        241      0.511      0.653      0.558      0.425\n"
          ]
        },
        {
          "name": "stderr",
          "output_type": "stream",
          "text": [
            "\n"
          ]
        },
        {
          "name": "stdout",
          "output_type": "stream",
          "text": [
            "\n",
            "      Epoch    GPU_mem   box_loss   cls_loss   dfl_loss  Instances       Size\n"
          ]
        },
        {
          "name": "stderr",
          "output_type": "stream",
          "text": [
            "    230/250      5.16G     0.5043     0.3289     0.8847         19       1024: 100%|██████████| 56/56 [00:37<00:00,  1.49it/s]\n",
            "                 Class     Images  Instances      Box(P          R      mAP50  mAP50-95): 100%|██████████| 7/7 [00:04<00:00,  1.70it/s]"
          ]
        },
        {
          "name": "stdout",
          "output_type": "stream",
          "text": [
            "                   all        223        241      0.485      0.704      0.545      0.411\n"
          ]
        },
        {
          "name": "stderr",
          "output_type": "stream",
          "text": [
            "\n"
          ]
        },
        {
          "name": "stdout",
          "output_type": "stream",
          "text": [
            "\n",
            "      Epoch    GPU_mem   box_loss   cls_loss   dfl_loss  Instances       Size\n"
          ]
        },
        {
          "name": "stderr",
          "output_type": "stream",
          "text": [
            "    231/250      5.16G     0.4887     0.3162     0.8839         21       1024: 100%|██████████| 56/56 [00:36<00:00,  1.53it/s]\n",
            "                 Class     Images  Instances      Box(P          R      mAP50  mAP50-95): 100%|██████████| 7/7 [00:04<00:00,  1.53it/s]"
          ]
        },
        {
          "name": "stdout",
          "output_type": "stream",
          "text": [
            "                   all        223        241      0.474      0.691      0.525      0.399\n"
          ]
        },
        {
          "name": "stderr",
          "output_type": "stream",
          "text": [
            "\n"
          ]
        },
        {
          "name": "stdout",
          "output_type": "stream",
          "text": [
            "\n",
            "      Epoch    GPU_mem   box_loss   cls_loss   dfl_loss  Instances       Size\n"
          ]
        },
        {
          "name": "stderr",
          "output_type": "stream",
          "text": [
            "    232/250      5.16G     0.5072     0.3351     0.9015         26       1024: 100%|██████████| 56/56 [00:36<00:00,  1.53it/s]\n",
            "                 Class     Images  Instances      Box(P          R      mAP50  mAP50-95): 100%|██████████| 7/7 [00:03<00:00,  1.83it/s]"
          ]
        },
        {
          "name": "stdout",
          "output_type": "stream",
          "text": [
            "                   all        223        241      0.463      0.694       0.53      0.406\n"
          ]
        },
        {
          "name": "stderr",
          "output_type": "stream",
          "text": [
            "\n"
          ]
        },
        {
          "name": "stdout",
          "output_type": "stream",
          "text": [
            "\n",
            "      Epoch    GPU_mem   box_loss   cls_loss   dfl_loss  Instances       Size\n"
          ]
        },
        {
          "name": "stderr",
          "output_type": "stream",
          "text": [
            "    233/250      5.16G     0.4845     0.3307     0.8785         25       1024: 100%|██████████| 56/56 [00:36<00:00,  1.55it/s]\n",
            "                 Class     Images  Instances      Box(P          R      mAP50  mAP50-95): 100%|██████████| 7/7 [00:03<00:00,  1.78it/s]"
          ]
        },
        {
          "name": "stdout",
          "output_type": "stream",
          "text": [
            "                   all        223        241       0.47      0.685      0.519      0.391\n"
          ]
        },
        {
          "name": "stderr",
          "output_type": "stream",
          "text": [
            "\n"
          ]
        },
        {
          "name": "stdout",
          "output_type": "stream",
          "text": [
            "\n",
            "      Epoch    GPU_mem   box_loss   cls_loss   dfl_loss  Instances       Size\n"
          ]
        },
        {
          "name": "stderr",
          "output_type": "stream",
          "text": [
            "    234/250      5.16G     0.4987     0.3314     0.8851         24       1024: 100%|██████████| 56/56 [00:35<00:00,  1.56it/s]\n",
            "                 Class     Images  Instances      Box(P          R      mAP50  mAP50-95): 100%|██████████| 7/7 [00:04<00:00,  1.58it/s]"
          ]
        },
        {
          "name": "stdout",
          "output_type": "stream",
          "text": [
            "                   all        223        241      0.469      0.687      0.541       0.41\n"
          ]
        },
        {
          "name": "stderr",
          "output_type": "stream",
          "text": [
            "\n"
          ]
        },
        {
          "name": "stdout",
          "output_type": "stream",
          "text": [
            "\n",
            "      Epoch    GPU_mem   box_loss   cls_loss   dfl_loss  Instances       Size\n"
          ]
        },
        {
          "name": "stderr",
          "output_type": "stream",
          "text": [
            "    235/250      5.16G     0.4908     0.3221     0.8836         28       1024: 100%|██████████| 56/56 [00:35<00:00,  1.57it/s]\n",
            "                 Class     Images  Instances      Box(P          R      mAP50  mAP50-95): 100%|██████████| 7/7 [00:03<00:00,  1.82it/s]"
          ]
        },
        {
          "name": "stdout",
          "output_type": "stream",
          "text": [
            "                   all        223        241      0.474        0.7      0.551      0.417\n"
          ]
        },
        {
          "name": "stderr",
          "output_type": "stream",
          "text": [
            "\n"
          ]
        },
        {
          "name": "stdout",
          "output_type": "stream",
          "text": [
            "\n",
            "      Epoch    GPU_mem   box_loss   cls_loss   dfl_loss  Instances       Size\n"
          ]
        },
        {
          "name": "stderr",
          "output_type": "stream",
          "text": [
            "    236/250      5.16G      0.499     0.3255     0.8915         24       1024: 100%|██████████| 56/56 [00:35<00:00,  1.56it/s]\n",
            "                 Class     Images  Instances      Box(P          R      mAP50  mAP50-95): 100%|██████████| 7/7 [00:05<00:00,  1.24it/s]"
          ]
        },
        {
          "name": "stdout",
          "output_type": "stream",
          "text": [
            "                   all        223        241      0.467      0.697      0.534      0.402\n"
          ]
        },
        {
          "name": "stderr",
          "output_type": "stream",
          "text": [
            "\n"
          ]
        },
        {
          "name": "stdout",
          "output_type": "stream",
          "text": [
            "\n",
            "      Epoch    GPU_mem   box_loss   cls_loss   dfl_loss  Instances       Size\n"
          ]
        },
        {
          "name": "stderr",
          "output_type": "stream",
          "text": [
            "    237/250      5.16G     0.4781     0.3294     0.8846         21       1024: 100%|██████████| 56/56 [00:35<00:00,  1.56it/s]\n",
            "                 Class     Images  Instances      Box(P          R      mAP50  mAP50-95): 100%|██████████| 7/7 [00:03<00:00,  1.90it/s]"
          ]
        },
        {
          "name": "stdout",
          "output_type": "stream",
          "text": [
            "                   all        223        241      0.521      0.612      0.538      0.406\n"
          ]
        },
        {
          "name": "stderr",
          "output_type": "stream",
          "text": [
            "\n"
          ]
        },
        {
          "name": "stdout",
          "output_type": "stream",
          "text": [
            "\n",
            "      Epoch    GPU_mem   box_loss   cls_loss   dfl_loss  Instances       Size\n"
          ]
        },
        {
          "name": "stderr",
          "output_type": "stream",
          "text": [
            "    238/250      5.16G     0.4852     0.3137     0.8831         20       1024: 100%|██████████| 56/56 [00:36<00:00,  1.54it/s]\n",
            "                 Class     Images  Instances      Box(P          R      mAP50  mAP50-95): 100%|██████████| 7/7 [00:05<00:00,  1.22it/s]"
          ]
        },
        {
          "name": "stdout",
          "output_type": "stream",
          "text": [
            "                   all        223        241      0.481      0.693      0.545      0.413\n"
          ]
        },
        {
          "name": "stderr",
          "output_type": "stream",
          "text": [
            "\n"
          ]
        },
        {
          "name": "stdout",
          "output_type": "stream",
          "text": [
            "\n",
            "      Epoch    GPU_mem   box_loss   cls_loss   dfl_loss  Instances       Size\n"
          ]
        },
        {
          "name": "stderr",
          "output_type": "stream",
          "text": [
            "    239/250      5.16G     0.4804     0.3205     0.8826         22       1024: 100%|██████████| 56/56 [00:35<00:00,  1.57it/s]\n",
            "                 Class     Images  Instances      Box(P          R      mAP50  mAP50-95): 100%|██████████| 7/7 [00:03<00:00,  1.81it/s]"
          ]
        },
        {
          "name": "stdout",
          "output_type": "stream",
          "text": [
            "                   all        223        241      0.478      0.678      0.539      0.409\n"
          ]
        },
        {
          "name": "stderr",
          "output_type": "stream",
          "text": [
            "\n"
          ]
        },
        {
          "name": "stdout",
          "output_type": "stream",
          "text": [
            "\n",
            "      Epoch    GPU_mem   box_loss   cls_loss   dfl_loss  Instances       Size\n"
          ]
        },
        {
          "name": "stderr",
          "output_type": "stream",
          "text": [
            "    240/250      5.16G     0.4742     0.3132     0.8747         19       1024: 100%|██████████| 56/56 [00:35<00:00,  1.56it/s]\n",
            "                 Class     Images  Instances      Box(P          R      mAP50  mAP50-95): 100%|██████████| 7/7 [00:05<00:00,  1.37it/s]"
          ]
        },
        {
          "name": "stdout",
          "output_type": "stream",
          "text": [
            "                   all        223        241      0.503       0.62      0.535      0.404\n"
          ]
        },
        {
          "name": "stderr",
          "output_type": "stream",
          "text": [
            "\n"
          ]
        },
        {
          "name": "stdout",
          "output_type": "stream",
          "text": [
            "Closing dataloader mosaic\n",
            "\u001b[34m\u001b[1malbumentations: \u001b[0mBlur(p=0.01, blur_limit=(3, 7)), MedianBlur(p=0.01, blur_limit=(3, 7)), ToGray(p=0.01), CLAHE(p=0.01, clip_limit=(1, 4.0), tile_grid_size=(8, 8))\n"
          ]
        },
        {
          "name": "stderr",
          "output_type": "stream",
          "text": [
            "/usr/lib/python3.10/multiprocessing/popen_fork.py:66: RuntimeWarning: os.fork() was called. os.fork() is incompatible with multithreaded code, and JAX is multithreaded, so this will likely lead to a deadlock.\n",
            "  self.pid = os.fork()\n"
          ]
        },
        {
          "name": "stdout",
          "output_type": "stream",
          "text": [
            "\n",
            "      Epoch    GPU_mem   box_loss   cls_loss   dfl_loss  Instances       Size\n"
          ]
        },
        {
          "name": "stderr",
          "output_type": "stream",
          "text": [
            "    241/250      5.16G     0.4343     0.2789     0.8313         12       1024: 100%|██████████| 56/56 [00:38<00:00,  1.45it/s]\n",
            "                 Class     Images  Instances      Box(P          R      mAP50  mAP50-95): 100%|██████████| 7/7 [00:03<00:00,  1.80it/s]"
          ]
        },
        {
          "name": "stdout",
          "output_type": "stream",
          "text": [
            "                   all        223        241      0.521      0.626      0.528      0.394\n"
          ]
        },
        {
          "name": "stderr",
          "output_type": "stream",
          "text": [
            "\n"
          ]
        },
        {
          "name": "stdout",
          "output_type": "stream",
          "text": [
            "\n",
            "      Epoch    GPU_mem   box_loss   cls_loss   dfl_loss  Instances       Size\n"
          ]
        },
        {
          "name": "stderr",
          "output_type": "stream",
          "text": [
            "    242/250      5.16G     0.4151     0.2505     0.8324         13       1024: 100%|██████████| 56/56 [00:35<00:00,  1.60it/s]\n",
            "                 Class     Images  Instances      Box(P          R      mAP50  mAP50-95): 100%|██████████| 7/7 [00:03<00:00,  1.77it/s]"
          ]
        },
        {
          "name": "stdout",
          "output_type": "stream",
          "text": [
            "                   all        223        241      0.542      0.597       0.53        0.4\n"
          ]
        },
        {
          "name": "stderr",
          "output_type": "stream",
          "text": [
            "\n"
          ]
        },
        {
          "name": "stdout",
          "output_type": "stream",
          "text": [
            "\n",
            "      Epoch    GPU_mem   box_loss   cls_loss   dfl_loss  Instances       Size\n"
          ]
        },
        {
          "name": "stderr",
          "output_type": "stream",
          "text": [
            "    243/250      5.16G     0.3938     0.2396     0.8255         13       1024: 100%|██████████| 56/56 [00:34<00:00,  1.64it/s]\n",
            "                 Class     Images  Instances      Box(P          R      mAP50  mAP50-95): 100%|██████████| 7/7 [00:05<00:00,  1.24it/s]"
          ]
        },
        {
          "name": "stdout",
          "output_type": "stream",
          "text": [
            "                   all        223        241      0.506      0.625      0.524      0.396\n"
          ]
        },
        {
          "name": "stderr",
          "output_type": "stream",
          "text": [
            "\n"
          ]
        },
        {
          "name": "stdout",
          "output_type": "stream",
          "text": [
            "\n",
            "      Epoch    GPU_mem   box_loss   cls_loss   dfl_loss  Instances       Size\n"
          ]
        },
        {
          "name": "stderr",
          "output_type": "stream",
          "text": [
            "    244/250      5.16G     0.3999     0.2378     0.8226         13       1024: 100%|██████████| 56/56 [00:34<00:00,  1.62it/s]\n",
            "                 Class     Images  Instances      Box(P          R      mAP50  mAP50-95): 100%|██████████| 7/7 [00:03<00:00,  1.87it/s]"
          ]
        },
        {
          "name": "stdout",
          "output_type": "stream",
          "text": [
            "                   all        223        241      0.492      0.655      0.528      0.398\n"
          ]
        },
        {
          "name": "stderr",
          "output_type": "stream",
          "text": [
            "\n"
          ]
        },
        {
          "name": "stdout",
          "output_type": "stream",
          "text": [
            "\n",
            "      Epoch    GPU_mem   box_loss   cls_loss   dfl_loss  Instances       Size\n"
          ]
        },
        {
          "name": "stderr",
          "output_type": "stream",
          "text": [
            "    245/250      5.16G     0.4013     0.2391     0.8236         13       1024: 100%|██████████| 56/56 [00:34<00:00,  1.63it/s]\n",
            "                 Class     Images  Instances      Box(P          R      mAP50  mAP50-95): 100%|██████████| 7/7 [00:03<00:00,  1.94it/s]"
          ]
        },
        {
          "name": "stdout",
          "output_type": "stream",
          "text": [
            "                   all        223        241      0.467       0.68       0.53      0.402\n"
          ]
        },
        {
          "name": "stderr",
          "output_type": "stream",
          "text": [
            "\n"
          ]
        },
        {
          "name": "stdout",
          "output_type": "stream",
          "text": [
            "\n",
            "      Epoch    GPU_mem   box_loss   cls_loss   dfl_loss  Instances       Size\n"
          ]
        },
        {
          "name": "stderr",
          "output_type": "stream",
          "text": [
            "    246/250      5.16G     0.3865     0.2389     0.8153         14       1024: 100%|██████████| 56/56 [00:34<00:00,  1.63it/s]\n",
            "                 Class     Images  Instances      Box(P          R      mAP50  mAP50-95): 100%|██████████| 7/7 [00:05<00:00,  1.31it/s]"
          ]
        },
        {
          "name": "stdout",
          "output_type": "stream",
          "text": [
            "                   all        223        241      0.469      0.687      0.535      0.407\n"
          ]
        },
        {
          "name": "stderr",
          "output_type": "stream",
          "text": [
            "\n"
          ]
        },
        {
          "name": "stdout",
          "output_type": "stream",
          "text": [
            "\n",
            "      Epoch    GPU_mem   box_loss   cls_loss   dfl_loss  Instances       Size\n"
          ]
        },
        {
          "name": "stderr",
          "output_type": "stream",
          "text": [
            "    247/250      5.16G     0.3885     0.2267       0.83         13       1024: 100%|██████████| 56/56 [00:34<00:00,  1.63it/s]\n",
            "                 Class     Images  Instances      Box(P          R      mAP50  mAP50-95): 100%|██████████| 7/7 [00:04<00:00,  1.65it/s]"
          ]
        },
        {
          "name": "stdout",
          "output_type": "stream",
          "text": [
            "                   all        223        241      0.519      0.614      0.534      0.406\n"
          ]
        },
        {
          "name": "stderr",
          "output_type": "stream",
          "text": [
            "\n"
          ]
        },
        {
          "name": "stdout",
          "output_type": "stream",
          "text": [
            "\n",
            "      Epoch    GPU_mem   box_loss   cls_loss   dfl_loss  Instances       Size\n"
          ]
        },
        {
          "name": "stderr",
          "output_type": "stream",
          "text": [
            "    248/250      5.16G     0.3816     0.2285     0.8171         13       1024: 100%|██████████| 56/56 [00:33<00:00,  1.66it/s]\n",
            "                 Class     Images  Instances      Box(P          R      mAP50  mAP50-95): 100%|██████████| 7/7 [00:03<00:00,  1.81it/s]"
          ]
        },
        {
          "name": "stdout",
          "output_type": "stream",
          "text": [
            "                   all        223        241      0.467      0.665      0.532      0.402\n"
          ]
        },
        {
          "name": "stderr",
          "output_type": "stream",
          "text": [
            "\n"
          ]
        },
        {
          "name": "stdout",
          "output_type": "stream",
          "text": [
            "\n",
            "      Epoch    GPU_mem   box_loss   cls_loss   dfl_loss  Instances       Size\n"
          ]
        },
        {
          "name": "stderr",
          "output_type": "stream",
          "text": [
            "    249/250      5.16G     0.3782     0.2277     0.8187         13       1024: 100%|██████████| 56/56 [00:35<00:00,  1.60it/s]\n",
            "                 Class     Images  Instances      Box(P          R      mAP50  mAP50-95): 100%|██████████| 7/7 [00:05<00:00,  1.36it/s]"
          ]
        },
        {
          "name": "stdout",
          "output_type": "stream",
          "text": [
            "                   all        223        241      0.471      0.684      0.532      0.402\n"
          ]
        },
        {
          "name": "stderr",
          "output_type": "stream",
          "text": [
            "\n"
          ]
        },
        {
          "name": "stdout",
          "output_type": "stream",
          "text": [
            "\n",
            "      Epoch    GPU_mem   box_loss   cls_loss   dfl_loss  Instances       Size\n"
          ]
        },
        {
          "name": "stderr",
          "output_type": "stream",
          "text": [
            "    250/250      5.16G     0.3817     0.2346     0.8247         13       1024: 100%|██████████| 56/56 [00:35<00:00,  1.58it/s]\n",
            "                 Class     Images  Instances      Box(P          R      mAP50  mAP50-95): 100%|██████████| 7/7 [00:03<00:00,  1.82it/s]"
          ]
        },
        {
          "name": "stdout",
          "output_type": "stream",
          "text": [
            "                   all        223        241      0.487      0.652      0.529        0.4\n"
          ]
        },
        {
          "name": "stderr",
          "output_type": "stream",
          "text": [
            "\n"
          ]
        },
        {
          "name": "stdout",
          "output_type": "stream",
          "text": [
            "\n",
            "250 epochs completed in 2.881 hours.\n",
            "Optimizer stripped from runs/detect/train/weights/last.pt, 6.4MB\n",
            "Optimizer stripped from runs/detect/train/weights/best.pt, 6.3MB\n",
            "\n",
            "Validating runs/detect/train/weights/best.pt...\n",
            "Ultralytics YOLOv8.2.82 🚀 Python-3.10.12 torch-2.4.0+cu121 CUDA:0 (Tesla T4, 15102MiB)\n",
            "Model summary (fused): 168 layers, 3,006,038 parameters, 0 gradients, 8.1 GFLOPs\n"
          ]
        },
        {
          "name": "stderr",
          "output_type": "stream",
          "text": [
            "                 Class     Images  Instances      Box(P          R      mAP50  mAP50-95): 100%|██████████| 7/7 [00:08<00:00,  1.21s/it]\n"
          ]
        },
        {
          "name": "stdout",
          "output_type": "stream",
          "text": [
            "                   all        223        241      0.499       0.74      0.594      0.447\n",
            "              negative        142        154      0.666      0.675      0.656       0.51\n",
            "              positive         81         87      0.332      0.805      0.531      0.385\n",
            "Speed: 1.0ms preprocess, 5.8ms inference, 0.0ms loss, 6.4ms postprocess per image\n",
            "Results saved to \u001b[1mruns/detect/train\u001b[0m\n"
          ]
        }
      ],
      "source": [
        "base = YOLO('yolov8n.pt')\n",
        "res = base.train(data='brain-tumor.yaml', epochs=250, imgsz=1000, batch=16)\n"
      ]
    },
    {
      "cell_type": "code",
      "execution_count": null,
      "metadata": {
        "id": "lX-3qhEfSfTu"
      },
      "outputs": [],
      "source": [
        "model = YOLO('/content/best.pt')"
      ]
    },
    {
      "cell_type": "code",
      "execution_count": null,
      "metadata": {
        "colab": {
          "base_uri": "https://localhost:8080/"
        },
        "id": "JxPuQ6p1tvdq",
        "outputId": "037e08a1-40cb-4a3d-c208-c2dde6456163"
      },
      "outputs": [
        {
          "name": "stdout",
          "output_type": "stream",
          "text": [
            "\n",
            "image 1/1 /content/brain.jpg: 1024x1024 1 positive, 13.2ms\n",
            "Speed: 20.1ms preprocess, 13.2ms inference, 749.6ms postprocess per image at shape (1, 3, 1024, 1024)\n"
          ]
        }
      ],
      "source": [
        "results = model.predict(\"/content/brain.jpg\")"
      ]
    },
    {
      "cell_type": "code",
      "execution_count": null,
      "metadata": {
        "colab": {
          "base_uri": "https://localhost:8080/",
          "height": 1000
        },
        "id": "wUmSIV39uvDe",
        "outputId": "5fb8fc78-e001-417c-cbfe-116bc18baecd"
      },
      "outputs": [
        {
          "name": "stdout",
          "output_type": "stream",
          "text": [
            "Ultralytics YOLOv8.2.86 🚀 Python-3.10.12 torch-2.4.0+cu121 CUDA:0 (Tesla T4, 15102MiB)\n",
            "\u001b[34m\u001b[1mengine/trainer: \u001b[0mtask=detect, mode=train, model=/content/best.pt, data=/usr/local/lib/python3.10/dist-packages/ultralytics/cfg/datasets/brain-tumor.yaml, epochs=100, time=None, patience=100, batch=16, imgsz=1024, save=True, save_period=-1, cache=False, device=None, workers=8, project=None, name=train, exist_ok=False, pretrained=True, optimizer=auto, verbose=True, seed=0, deterministic=True, single_cls=False, rect=False, cos_lr=False, close_mosaic=10, resume=False, amp=True, fraction=1.0, profile=False, freeze=None, multi_scale=False, overlap_mask=True, mask_ratio=4, dropout=0.0, val=True, split=val, save_json=False, save_hybrid=False, conf=None, iou=0.7, max_det=300, half=False, dnn=False, plots=True, source=None, vid_stride=1, stream_buffer=False, visualize=False, augment=False, agnostic_nms=False, classes=None, retina_masks=False, embed=None, show=False, save_frames=False, save_txt=False, save_conf=False, save_crop=False, show_labels=True, show_conf=True, show_boxes=True, line_width=None, format=torchscript, keras=False, optimize=False, int8=False, dynamic=False, simplify=False, opset=None, workspace=4, nms=False, lr0=0.01, lrf=0.01, momentum=0.937, weight_decay=0.0005, warmup_epochs=3.0, warmup_momentum=0.8, warmup_bias_lr=0.1, box=7.5, cls=0.5, dfl=1.5, pose=12.0, kobj=1.0, label_smoothing=0.0, nbs=64, hsv_h=0.015, hsv_s=0.7, hsv_v=0.4, degrees=0.0, translate=0.1, scale=0.5, shear=0.0, perspective=0.0, flipud=0.0, fliplr=0.5, bgr=0.0, mosaic=1.0, mixup=0.0, copy_paste=0.0, auto_augment=randaugment, erasing=0.4, crop_fraction=1.0, cfg=None, tracker=botsort.yaml, save_dir=runs/detect/train\n",
            "\n",
            "Dataset '/usr/local/lib/python3.10/dist-packages/ultralytics/cfg/datasets/brain-tumor.yaml' images not found ⚠️, missing path '/content/datasets/brain-tumor/valid/images'\n",
            "Downloading https://ultralytics.com/assets/brain-tumor.zip to '/content/datasets/brain-tumor.zip'...\n"
          ]
        },
        {
          "name": "stderr",
          "output_type": "stream",
          "text": [
            "100%|██████████| 4.05M/4.05M [00:00<00:00, 293MB/s]\n",
            "Unzipping /content/datasets/brain-tumor.zip to /content/datasets/brain-tumor...: 100%|██████████| 2217/2217 [00:00<00:00, 7515.14file/s]"
          ]
        },
        {
          "name": "stdout",
          "output_type": "stream",
          "text": [
            "Dataset download success ✅ (1.4s), saved to \u001b[1m/content/datasets\u001b[0m\n",
            "\n"
          ]
        },
        {
          "name": "stderr",
          "output_type": "stream",
          "text": [
            "\n"
          ]
        },
        {
          "name": "stdout",
          "output_type": "stream",
          "text": [
            "Downloading https://ultralytics.com/assets/Arial.ttf to '/root/.config/Ultralytics/Arial.ttf'...\n"
          ]
        },
        {
          "name": "stderr",
          "output_type": "stream",
          "text": [
            "100%|██████████| 755k/755k [00:00<00:00, 79.1MB/s]\n"
          ]
        },
        {
          "name": "stdout",
          "output_type": "stream",
          "text": [
            "\n",
            "                   from  n    params  module                                       arguments                     \n",
            "  0                  -1  1       464  ultralytics.nn.modules.conv.Conv             [3, 16, 3, 2]                 \n",
            "  1                  -1  1      4672  ultralytics.nn.modules.conv.Conv             [16, 32, 3, 2]                \n",
            "  2                  -1  1      7360  ultralytics.nn.modules.block.C2f             [32, 32, 1, True]             \n",
            "  3                  -1  1     18560  ultralytics.nn.modules.conv.Conv             [32, 64, 3, 2]                \n",
            "  4                  -1  2     49664  ultralytics.nn.modules.block.C2f             [64, 64, 2, True]             \n",
            "  5                  -1  1     73984  ultralytics.nn.modules.conv.Conv             [64, 128, 3, 2]               \n",
            "  6                  -1  2    197632  ultralytics.nn.modules.block.C2f             [128, 128, 2, True]           \n",
            "  7                  -1  1    295424  ultralytics.nn.modules.conv.Conv             [128, 256, 3, 2]              \n",
            "  8                  -1  1    460288  ultralytics.nn.modules.block.C2f             [256, 256, 1, True]           \n",
            "  9                  -1  1    164608  ultralytics.nn.modules.block.SPPF            [256, 256, 5]                 \n",
            " 10                  -1  1         0  torch.nn.modules.upsampling.Upsample         [None, 2, 'nearest']          \n",
            " 11             [-1, 6]  1         0  ultralytics.nn.modules.conv.Concat           [1]                           \n",
            " 12                  -1  1    148224  ultralytics.nn.modules.block.C2f             [384, 128, 1]                 \n",
            " 13                  -1  1         0  torch.nn.modules.upsampling.Upsample         [None, 2, 'nearest']          \n",
            " 14             [-1, 4]  1         0  ultralytics.nn.modules.conv.Concat           [1]                           \n",
            " 15                  -1  1     37248  ultralytics.nn.modules.block.C2f             [192, 64, 1]                  \n",
            " 16                  -1  1     36992  ultralytics.nn.modules.conv.Conv             [64, 64, 3, 2]                \n",
            " 17            [-1, 12]  1         0  ultralytics.nn.modules.conv.Concat           [1]                           \n",
            " 18                  -1  1    123648  ultralytics.nn.modules.block.C2f             [192, 128, 1]                 \n",
            " 19                  -1  1    147712  ultralytics.nn.modules.conv.Conv             [128, 128, 3, 2]              \n",
            " 20             [-1, 9]  1         0  ultralytics.nn.modules.conv.Concat           [1]                           \n",
            " 21                  -1  1    493056  ultralytics.nn.modules.block.C2f             [384, 256, 1]                 \n",
            " 22        [15, 18, 21]  1    751702  ultralytics.nn.modules.head.Detect           [2, [64, 128, 256]]           \n",
            "Model summary: 225 layers, 3,011,238 parameters, 3,011,222 gradients, 8.2 GFLOPs\n",
            "\n",
            "Transferred 70/355 items from pretrained weights\n",
            "\u001b[34m\u001b[1mTensorBoard: \u001b[0mStart with 'tensorboard --logdir runs/detect/train', view at http://localhost:6006/\n",
            "Freezing layer 'model.22.dfl.conv.weight'\n",
            "\u001b[34m\u001b[1mAMP: \u001b[0mrunning Automatic Mixed Precision (AMP) checks with YOLOv8n...\n",
            "Downloading https://github.com/ultralytics/assets/releases/download/v8.2.0/yolov8n.pt to 'yolov8n.pt'...\n"
          ]
        },
        {
          "name": "stderr",
          "output_type": "stream",
          "text": [
            "100%|██████████| 6.25M/6.25M [00:00<00:00, 292MB/s]\n"
          ]
        },
        {
          "name": "stdout",
          "output_type": "stream",
          "text": [
            "\u001b[34m\u001b[1mAMP: \u001b[0mchecks passed ✅\n"
          ]
        },
        {
          "name": "stderr",
          "output_type": "stream",
          "text": [
            "/usr/local/lib/python3.10/dist-packages/ultralytics/engine/trainer.py:268: FutureWarning: `torch.cuda.amp.GradScaler(args...)` is deprecated. Please use `torch.amp.GradScaler('cuda', args...)` instead.\n",
            "  self.scaler = torch.cuda.amp.GradScaler(enabled=self.amp)\n",
            "\u001b[34m\u001b[1mtrain: \u001b[0mScanning /content/datasets/brain-tumor/train/labels... 878 images, 15 backgrounds, 0 corrupt: 100%|██████████| 893/893 [00:00<00:00, 2087.66it/s]"
          ]
        },
        {
          "name": "stdout",
          "output_type": "stream",
          "text": [
            "\u001b[34m\u001b[1mtrain: \u001b[0mNew cache created: /content/datasets/brain-tumor/train/labels.cache\n"
          ]
        },
        {
          "name": "stderr",
          "output_type": "stream",
          "text": [
            "\n"
          ]
        },
        {
          "name": "stdout",
          "output_type": "stream",
          "text": [
            "\u001b[34m\u001b[1malbumentations: \u001b[0mBlur(p=0.01, blur_limit=(3, 7)), MedianBlur(p=0.01, blur_limit=(3, 7)), ToGray(p=0.01), CLAHE(p=0.01, clip_limit=(1, 4.0), tile_grid_size=(8, 8))\n"
          ]
        },
        {
          "name": "stderr",
          "output_type": "stream",
          "text": [
            "/usr/lib/python3.10/multiprocessing/popen_fork.py:66: RuntimeWarning: os.fork() was called. os.fork() is incompatible with multithreaded code, and JAX is multithreaded, so this will likely lead to a deadlock.\n",
            "  self.pid = os.fork()\n",
            "\u001b[34m\u001b[1mval: \u001b[0mScanning /content/datasets/brain-tumor/valid/labels... 223 images, 0 backgrounds, 0 corrupt: 100%|██████████| 223/223 [00:00<00:00, 838.76it/s]"
          ]
        },
        {
          "name": "stdout",
          "output_type": "stream",
          "text": [
            "\u001b[34m\u001b[1mval: \u001b[0mNew cache created: /content/datasets/brain-tumor/valid/labels.cache\n"
          ]
        },
        {
          "name": "stderr",
          "output_type": "stream",
          "text": [
            "\n"
          ]
        },
        {
          "name": "stdout",
          "output_type": "stream",
          "text": [
            "Plotting labels to runs/detect/train/labels.jpg... \n",
            "\u001b[34m\u001b[1moptimizer:\u001b[0m 'optimizer=auto' found, ignoring 'lr0=0.01' and 'momentum=0.937' and determining best 'optimizer', 'lr0' and 'momentum' automatically... \n",
            "\u001b[34m\u001b[1moptimizer:\u001b[0m AdamW(lr=0.001667, momentum=0.9) with parameter groups 57 weight(decay=0.0), 64 weight(decay=0.0005), 63 bias(decay=0.0)\n",
            "\u001b[34m\u001b[1mTensorBoard: \u001b[0mmodel graph visualization added ✅\n",
            "Image sizes 1024 train, 1024 val\n",
            "Using 2 dataloader workers\n",
            "Logging results to \u001b[1mruns/detect/train\u001b[0m\n",
            "Starting training for 100 epochs...\n",
            "\n",
            "      Epoch    GPU_mem   box_loss   cls_loss   dfl_loss  Instances       Size\n"
          ]
        },
        {
          "name": "stderr",
          "output_type": "stream",
          "text": [
            "      1/100       6.1G      1.228      1.718      1.218         19       1024: 100%|██████████| 56/56 [00:42<00:00,  1.33it/s]\n",
            "                 Class     Images  Instances      Box(P          R      mAP50  mAP50-95): 100%|██████████| 7/7 [00:05<00:00,  1.19it/s]"
          ]
        },
        {
          "name": "stdout",
          "output_type": "stream",
          "text": [
            "                   all        223        241      0.433      0.601      0.427      0.281\n"
          ]
        },
        {
          "name": "stderr",
          "output_type": "stream",
          "text": [
            "\n"
          ]
        },
        {
          "name": "stdout",
          "output_type": "stream",
          "text": [
            "\n",
            "      Epoch    GPU_mem   box_loss   cls_loss   dfl_loss  Instances       Size\n"
          ]
        },
        {
          "name": "stderr",
          "output_type": "stream",
          "text": [
            "      2/100      5.18G     0.8705     0.8587      1.034         14       1024: 100%|██████████| 56/56 [00:36<00:00,  1.55it/s]\n",
            "                 Class     Images  Instances      Box(P          R      mAP50  mAP50-95): 100%|██████████| 7/7 [00:04<00:00,  1.63it/s]"
          ]
        },
        {
          "name": "stdout",
          "output_type": "stream",
          "text": [
            "                   all        223        241       0.42      0.624      0.425        0.3\n"
          ]
        },
        {
          "name": "stderr",
          "output_type": "stream",
          "text": [
            "\n"
          ]
        },
        {
          "name": "stdout",
          "output_type": "stream",
          "text": [
            "\n",
            "      Epoch    GPU_mem   box_loss   cls_loss   dfl_loss  Instances       Size\n"
          ]
        },
        {
          "name": "stderr",
          "output_type": "stream",
          "text": [
            "      3/100      5.18G     0.8535     0.8307      1.029         20       1024: 100%|██████████| 56/56 [00:38<00:00,  1.47it/s]\n",
            "                 Class     Images  Instances      Box(P          R      mAP50  mAP50-95): 100%|██████████| 7/7 [00:03<00:00,  1.87it/s]"
          ]
        },
        {
          "name": "stdout",
          "output_type": "stream",
          "text": [
            "                   all        223        241      0.446      0.668      0.451      0.296\n"
          ]
        },
        {
          "name": "stderr",
          "output_type": "stream",
          "text": [
            "\n"
          ]
        },
        {
          "name": "stdout",
          "output_type": "stream",
          "text": [
            "\n",
            "      Epoch    GPU_mem   box_loss   cls_loss   dfl_loss  Instances       Size\n"
          ]
        },
        {
          "name": "stderr",
          "output_type": "stream",
          "text": [
            "      4/100      5.17G     0.8752     0.8076      1.033         13       1024: 100%|██████████| 56/56 [00:36<00:00,  1.55it/s]\n",
            "                 Class     Images  Instances      Box(P          R      mAP50  mAP50-95): 100%|██████████| 7/7 [00:05<00:00,  1.40it/s]"
          ]
        },
        {
          "name": "stdout",
          "output_type": "stream",
          "text": [
            "                   all        223        241      0.389      0.704      0.436      0.315\n"
          ]
        },
        {
          "name": "stderr",
          "output_type": "stream",
          "text": [
            "\n"
          ]
        },
        {
          "name": "stdout",
          "output_type": "stream",
          "text": [
            "\n",
            "      Epoch    GPU_mem   box_loss   cls_loss   dfl_loss  Instances       Size\n"
          ]
        },
        {
          "name": "stderr",
          "output_type": "stream",
          "text": [
            "      5/100      5.17G     0.8413     0.8287      1.027         24       1024: 100%|██████████| 56/56 [00:36<00:00,  1.53it/s]\n",
            "                 Class     Images  Instances      Box(P          R      mAP50  mAP50-95): 100%|██████████| 7/7 [00:03<00:00,  1.83it/s]"
          ]
        },
        {
          "name": "stdout",
          "output_type": "stream",
          "text": [
            "                   all        223        241      0.435      0.736      0.453      0.327\n"
          ]
        },
        {
          "name": "stderr",
          "output_type": "stream",
          "text": [
            "\n"
          ]
        },
        {
          "name": "stdout",
          "output_type": "stream",
          "text": [
            "\n",
            "      Epoch    GPU_mem   box_loss   cls_loss   dfl_loss  Instances       Size\n"
          ]
        },
        {
          "name": "stderr",
          "output_type": "stream",
          "text": [
            "      6/100      5.17G     0.8395     0.7303      1.008         35       1024:  77%|███████▋  | 43/56 [00:29<00:08,  1.46it/s]\n",
            "Exception in thread Thread-17 (_pin_memory_loop):\n",
            "Traceback (most recent call last):\n",
            "  File \"/usr/lib/python3.10/threading.py\", line 1016, in _bootstrap_inner\n",
            "    self.run()\n",
            "  File \"/usr/lib/python3.10/threading.py\", line 953, in run\n",
            "    self._target(*self._args, **self._kwargs)\n",
            "  File \"/usr/local/lib/python3.10/dist-packages/torch/utils/data/_utils/pin_memory.py\", line 55, in _pin_memory_loop\n",
            "    do_one_step()\n",
            "  File \"/usr/local/lib/python3.10/dist-packages/torch/utils/data/_utils/pin_memory.py\", line 32, in do_one_step\n",
            "    r = in_queue.get(timeout=MP_STATUS_CHECK_INTERVAL)\n",
            "  File \"/usr/lib/python3.10/multiprocessing/queues.py\", line 122, in get\n",
            "    return _ForkingPickler.loads(res)\n",
            "  File \"/usr/local/lib/python3.10/dist-packages/torch/multiprocessing/reductions.py\", line 496, in rebuild_storage_fd\n",
            "    fd = df.detach()\n",
            "  File \"/usr/lib/python3.10/multiprocessing/resource_sharer.py\", line 57, in detach\n",
            "    with _resource_sharer.get_connection(self._id) as conn:\n",
            "  File \"/usr/lib/python3.10/multiprocessing/resource_sharer.py\", line 86, in get_connection\n",
            "    c = Client(address, authkey=process.current_process().authkey)\n",
            "  File \"/usr/lib/python3.10/multiprocessing/connection.py\", line 502, in Client\n",
            "    c = SocketClient(address)\n",
            "  File \"/usr/lib/python3.10/multiprocessing/connection.py\", line 630, in SocketClient\n",
            "    s.connect(address)\n",
            "FileNotFoundError: [Errno 2] No such file or directory\n",
            "/usr/lib/python3.10/multiprocessing/popen_fork.py:66: RuntimeWarning: os.fork() was called. os.fork() is incompatible with multithreaded code, and JAX is multithreaded, so this will likely lead to a deadlock.\n",
            "  self.pid = os.fork()\n",
            "ERROR:root:Internal Python error in the inspect module.\n",
            "Below is the traceback from this internal error.\n",
            "\n"
          ]
        },
        {
          "name": "stdout",
          "output_type": "stream",
          "text": [
            "Traceback (most recent call last):\n",
            "  File \"/usr/local/lib/python3.10/dist-packages/IPython/core/interactiveshell.py\", line 3553, in run_code\n",
            "    exec(code_obj, self.user_global_ns, self.user_ns)\n",
            "  File \"<ipython-input-6-67f96fad7f04>\", line 1, in <cell line: 1>\n",
            "    model.eval()\n",
            "  File \"/usr/local/lib/python3.10/dist-packages/torch/nn/modules/module.py\", line 2475, in eval\n",
            "    return self.train(False)\n",
            "  File \"/usr/local/lib/python3.10/dist-packages/ultralytics/engine/model.py\", line 815, in train\n",
            "    self.trainer.train()\n",
            "  File \"/usr/local/lib/python3.10/dist-packages/ultralytics/engine/trainer.py\", line 206, in train\n",
            "    self._do_train(world_size)\n",
            "  File \"/usr/local/lib/python3.10/dist-packages/ultralytics/engine/trainer.py\", line 390, in _do_train\n",
            "    self.scaler.scale(self.loss).backward()\n",
            "  File \"/usr/local/lib/python3.10/dist-packages/torch/_tensor.py\", line 521, in backward\n",
            "    torch.autograd.backward(\n",
            "  File \"/usr/local/lib/python3.10/dist-packages/torch/autograd/__init__.py\", line 289, in backward\n",
            "    _engine_run_backward(\n",
            "  File \"/usr/local/lib/python3.10/dist-packages/torch/autograd/graph.py\", line 768, in _engine_run_backward\n",
            "    return Variable._execution_engine.run_backward(  # Calls into the C++ engine to run the backward pass\n",
            "KeyboardInterrupt\n",
            "\n",
            "During handling of the above exception, another exception occurred:\n",
            "\n",
            "Traceback (most recent call last):\n",
            "  File \"/usr/local/lib/python3.10/dist-packages/IPython/core/interactiveshell.py\", line 2099, in showtraceback\n",
            "    stb = value._render_traceback_()\n",
            "AttributeError: 'KeyboardInterrupt' object has no attribute '_render_traceback_'\n",
            "\n",
            "During handling of the above exception, another exception occurred:\n",
            "\n",
            "Traceback (most recent call last):\n",
            "  File \"/usr/local/lib/python3.10/dist-packages/IPython/core/ultratb.py\", line 1101, in get_records\n",
            "    return _fixed_getinnerframes(etb, number_of_lines_of_context, tb_offset)\n",
            "  File \"/usr/local/lib/python3.10/dist-packages/IPython/core/ultratb.py\", line 248, in wrapped\n",
            "    return f(*args, **kwargs)\n",
            "  File \"/usr/local/lib/python3.10/dist-packages/IPython/core/ultratb.py\", line 281, in _fixed_getinnerframes\n",
            "    records = fix_frame_records_filenames(inspect.getinnerframes(etb, context))\n",
            "  File \"/usr/lib/python3.10/inspect.py\", line 1662, in getinnerframes\n",
            "    frameinfo = (tb.tb_frame,) + getframeinfo(tb, context)\n",
            "  File \"/usr/lib/python3.10/inspect.py\", line 1620, in getframeinfo\n",
            "    filename = getsourcefile(frame) or getfile(frame)\n",
            "  File \"/usr/lib/python3.10/inspect.py\", line 829, in getsourcefile\n",
            "    module = getmodule(object, filename)\n",
            "  File \"/usr/lib/python3.10/inspect.py\", line 875, in getmodule\n",
            "    f = getabsfile(module)\n",
            "  File \"/usr/lib/python3.10/inspect.py\", line 845, in getabsfile\n",
            "    return os.path.normcase(os.path.abspath(_filename))\n",
            "  File \"/usr/lib/python3.10/posixpath.py\", line 386, in abspath\n",
            "    return normpath(path)\n",
            "  File \"/usr/lib/python3.10/posixpath.py\", line 360, in normpath\n",
            "    comps = path.split(sep)\n",
            "KeyboardInterrupt\n"
          ]
        },
        {
          "ename": "TypeError",
          "evalue": "object of type 'NoneType' has no len()",
          "output_type": "error",
          "traceback": [
            "\u001b[0;31m---------------------------------------------------------------------------\u001b[0m",
            "\u001b[0;31mKeyboardInterrupt\u001b[0m                         Traceback (most recent call last)",
            "    \u001b[0;31m[... skipping hidden 1 frame]\u001b[0m\n",
            "\u001b[0;32m<ipython-input-6-67f96fad7f04>\u001b[0m in \u001b[0;36m<cell line: 1>\u001b[0;34m()\u001b[0m\n\u001b[0;32m----> 1\u001b[0;31m \u001b[0mmodel\u001b[0m\u001b[0;34m.\u001b[0m\u001b[0meval\u001b[0m\u001b[0;34m(\u001b[0m\u001b[0;34m)\u001b[0m\u001b[0;34m\u001b[0m\u001b[0;34m\u001b[0m\u001b[0m\n\u001b[0m",
            "\u001b[0;32m/usr/local/lib/python3.10/dist-packages/torch/nn/modules/module.py\u001b[0m in \u001b[0;36meval\u001b[0;34m(self)\u001b[0m\n\u001b[1;32m   2474\u001b[0m         \"\"\"\n\u001b[0;32m-> 2475\u001b[0;31m         \u001b[0;32mreturn\u001b[0m \u001b[0mself\u001b[0m\u001b[0;34m.\u001b[0m\u001b[0mtrain\u001b[0m\u001b[0;34m(\u001b[0m\u001b[0;32mFalse\u001b[0m\u001b[0;34m)\u001b[0m\u001b[0;34m\u001b[0m\u001b[0;34m\u001b[0m\u001b[0m\n\u001b[0m\u001b[1;32m   2476\u001b[0m \u001b[0;34m\u001b[0m\u001b[0m\n",
            "\u001b[0;32m/usr/local/lib/python3.10/dist-packages/ultralytics/engine/model.py\u001b[0m in \u001b[0;36mtrain\u001b[0;34m(self, trainer, **kwargs)\u001b[0m\n\u001b[1;32m    814\u001b[0m         \u001b[0mself\u001b[0m\u001b[0;34m.\u001b[0m\u001b[0mtrainer\u001b[0m\u001b[0;34m.\u001b[0m\u001b[0mhub_session\u001b[0m \u001b[0;34m=\u001b[0m \u001b[0mself\u001b[0m\u001b[0;34m.\u001b[0m\u001b[0msession\u001b[0m  \u001b[0;31m# attach optional HUB session\u001b[0m\u001b[0;34m\u001b[0m\u001b[0;34m\u001b[0m\u001b[0m\n\u001b[0;32m--> 815\u001b[0;31m         \u001b[0mself\u001b[0m\u001b[0;34m.\u001b[0m\u001b[0mtrainer\u001b[0m\u001b[0;34m.\u001b[0m\u001b[0mtrain\u001b[0m\u001b[0;34m(\u001b[0m\u001b[0;34m)\u001b[0m\u001b[0;34m\u001b[0m\u001b[0;34m\u001b[0m\u001b[0m\n\u001b[0m\u001b[1;32m    816\u001b[0m         \u001b[0;31m# Update model and cfg after training\u001b[0m\u001b[0;34m\u001b[0m\u001b[0;34m\u001b[0m\u001b[0m\n",
            "\u001b[0;32m/usr/local/lib/python3.10/dist-packages/ultralytics/engine/trainer.py\u001b[0m in \u001b[0;36mtrain\u001b[0;34m(self)\u001b[0m\n\u001b[1;32m    205\u001b[0m         \u001b[0;32melse\u001b[0m\u001b[0;34m:\u001b[0m\u001b[0;34m\u001b[0m\u001b[0;34m\u001b[0m\u001b[0m\n\u001b[0;32m--> 206\u001b[0;31m             \u001b[0mself\u001b[0m\u001b[0;34m.\u001b[0m\u001b[0m_do_train\u001b[0m\u001b[0;34m(\u001b[0m\u001b[0mworld_size\u001b[0m\u001b[0;34m)\u001b[0m\u001b[0;34m\u001b[0m\u001b[0;34m\u001b[0m\u001b[0m\n\u001b[0m\u001b[1;32m    207\u001b[0m \u001b[0;34m\u001b[0m\u001b[0m\n",
            "\u001b[0;32m/usr/local/lib/python3.10/dist-packages/ultralytics/engine/trainer.py\u001b[0m in \u001b[0;36m_do_train\u001b[0;34m(self, world_size)\u001b[0m\n\u001b[1;32m    389\u001b[0m                 \u001b[0;31m# Backward\u001b[0m\u001b[0;34m\u001b[0m\u001b[0;34m\u001b[0m\u001b[0m\n\u001b[0;32m--> 390\u001b[0;31m                 \u001b[0mself\u001b[0m\u001b[0;34m.\u001b[0m\u001b[0mscaler\u001b[0m\u001b[0;34m.\u001b[0m\u001b[0mscale\u001b[0m\u001b[0;34m(\u001b[0m\u001b[0mself\u001b[0m\u001b[0;34m.\u001b[0m\u001b[0mloss\u001b[0m\u001b[0;34m)\u001b[0m\u001b[0;34m.\u001b[0m\u001b[0mbackward\u001b[0m\u001b[0;34m(\u001b[0m\u001b[0;34m)\u001b[0m\u001b[0;34m\u001b[0m\u001b[0;34m\u001b[0m\u001b[0m\n\u001b[0m\u001b[1;32m    391\u001b[0m \u001b[0;34m\u001b[0m\u001b[0m\n",
            "\u001b[0;32m/usr/local/lib/python3.10/dist-packages/torch/_tensor.py\u001b[0m in \u001b[0;36mbackward\u001b[0;34m(self, gradient, retain_graph, create_graph, inputs)\u001b[0m\n\u001b[1;32m    520\u001b[0m             )\n\u001b[0;32m--> 521\u001b[0;31m         torch.autograd.backward(\n\u001b[0m\u001b[1;32m    522\u001b[0m             \u001b[0mself\u001b[0m\u001b[0;34m,\u001b[0m \u001b[0mgradient\u001b[0m\u001b[0;34m,\u001b[0m \u001b[0mretain_graph\u001b[0m\u001b[0;34m,\u001b[0m \u001b[0mcreate_graph\u001b[0m\u001b[0;34m,\u001b[0m \u001b[0minputs\u001b[0m\u001b[0;34m=\u001b[0m\u001b[0minputs\u001b[0m\u001b[0;34m\u001b[0m\u001b[0;34m\u001b[0m\u001b[0m\n",
            "\u001b[0;32m/usr/local/lib/python3.10/dist-packages/torch/autograd/__init__.py\u001b[0m in \u001b[0;36mbackward\u001b[0;34m(tensors, grad_tensors, retain_graph, create_graph, grad_variables, inputs)\u001b[0m\n\u001b[1;32m    288\u001b[0m     \u001b[0;31m# calls in the traceback and some print out the last line\u001b[0m\u001b[0;34m\u001b[0m\u001b[0;34m\u001b[0m\u001b[0m\n\u001b[0;32m--> 289\u001b[0;31m     _engine_run_backward(\n\u001b[0m\u001b[1;32m    290\u001b[0m         \u001b[0mtensors\u001b[0m\u001b[0;34m,\u001b[0m\u001b[0;34m\u001b[0m\u001b[0;34m\u001b[0m\u001b[0m\n",
            "\u001b[0;32m/usr/local/lib/python3.10/dist-packages/torch/autograd/graph.py\u001b[0m in \u001b[0;36m_engine_run_backward\u001b[0;34m(t_outputs, *args, **kwargs)\u001b[0m\n\u001b[1;32m    767\u001b[0m     \u001b[0;32mtry\u001b[0m\u001b[0;34m:\u001b[0m\u001b[0;34m\u001b[0m\u001b[0;34m\u001b[0m\u001b[0m\n\u001b[0;32m--> 768\u001b[0;31m         return Variable._execution_engine.run_backward(  # Calls into the C++ engine to run the backward pass\n\u001b[0m\u001b[1;32m    769\u001b[0m             \u001b[0mt_outputs\u001b[0m\u001b[0;34m,\u001b[0m \u001b[0;34m*\u001b[0m\u001b[0margs\u001b[0m\u001b[0;34m,\u001b[0m \u001b[0;34m**\u001b[0m\u001b[0mkwargs\u001b[0m\u001b[0;34m\u001b[0m\u001b[0;34m\u001b[0m\u001b[0m\n",
            "\u001b[0;31mKeyboardInterrupt\u001b[0m: ",
            "\nDuring handling of the above exception, another exception occurred:\n",
            "\u001b[0;31mAttributeError\u001b[0m                            Traceback (most recent call last)",
            "\u001b[0;32m/usr/local/lib/python3.10/dist-packages/IPython/core/interactiveshell.py\u001b[0m in \u001b[0;36mshowtraceback\u001b[0;34m(self, exc_tuple, filename, tb_offset, exception_only, running_compiled_code)\u001b[0m\n\u001b[1;32m   2098\u001b[0m                         \u001b[0;31m# in the engines. This should return a list of strings.\u001b[0m\u001b[0;34m\u001b[0m\u001b[0;34m\u001b[0m\u001b[0m\n\u001b[0;32m-> 2099\u001b[0;31m                         \u001b[0mstb\u001b[0m \u001b[0;34m=\u001b[0m \u001b[0mvalue\u001b[0m\u001b[0;34m.\u001b[0m\u001b[0m_render_traceback_\u001b[0m\u001b[0;34m(\u001b[0m\u001b[0;34m)\u001b[0m\u001b[0;34m\u001b[0m\u001b[0;34m\u001b[0m\u001b[0m\n\u001b[0m\u001b[1;32m   2100\u001b[0m                     \u001b[0;32mexcept\u001b[0m \u001b[0mException\u001b[0m\u001b[0;34m:\u001b[0m\u001b[0;34m\u001b[0m\u001b[0;34m\u001b[0m\u001b[0m\n",
            "\u001b[0;31mAttributeError\u001b[0m: 'KeyboardInterrupt' object has no attribute '_render_traceback_'",
            "\nDuring handling of the above exception, another exception occurred:\n",
            "\u001b[0;31mTypeError\u001b[0m                                 Traceback (most recent call last)",
            "    \u001b[0;31m[... skipping hidden 1 frame]\u001b[0m\n",
            "\u001b[0;32m/usr/local/lib/python3.10/dist-packages/IPython/core/interactiveshell.py\u001b[0m in \u001b[0;36mshowtraceback\u001b[0;34m(self, exc_tuple, filename, tb_offset, exception_only, running_compiled_code)\u001b[0m\n\u001b[1;32m   2099\u001b[0m                         \u001b[0mstb\u001b[0m \u001b[0;34m=\u001b[0m \u001b[0mvalue\u001b[0m\u001b[0;34m.\u001b[0m\u001b[0m_render_traceback_\u001b[0m\u001b[0;34m(\u001b[0m\u001b[0;34m)\u001b[0m\u001b[0;34m\u001b[0m\u001b[0;34m\u001b[0m\u001b[0m\n\u001b[1;32m   2100\u001b[0m                     \u001b[0;32mexcept\u001b[0m \u001b[0mException\u001b[0m\u001b[0;34m:\u001b[0m\u001b[0;34m\u001b[0m\u001b[0;34m\u001b[0m\u001b[0m\n\u001b[0;32m-> 2101\u001b[0;31m                         stb = self.InteractiveTB.structured_traceback(etype,\n\u001b[0m\u001b[1;32m   2102\u001b[0m                                             value, tb, tb_offset=tb_offset)\n\u001b[1;32m   2103\u001b[0m \u001b[0;34m\u001b[0m\u001b[0m\n",
            "\u001b[0;32m/usr/local/lib/python3.10/dist-packages/IPython/core/ultratb.py\u001b[0m in \u001b[0;36mstructured_traceback\u001b[0;34m(self, etype, value, tb, tb_offset, number_of_lines_of_context)\u001b[0m\n\u001b[1;32m   1365\u001b[0m         \u001b[0;32melse\u001b[0m\u001b[0;34m:\u001b[0m\u001b[0;34m\u001b[0m\u001b[0;34m\u001b[0m\u001b[0m\n\u001b[1;32m   1366\u001b[0m             \u001b[0mself\u001b[0m\u001b[0;34m.\u001b[0m\u001b[0mtb\u001b[0m \u001b[0;34m=\u001b[0m \u001b[0mtb\u001b[0m\u001b[0;34m\u001b[0m\u001b[0;34m\u001b[0m\u001b[0m\n\u001b[0;32m-> 1367\u001b[0;31m         return FormattedTB.structured_traceback(\n\u001b[0m\u001b[1;32m   1368\u001b[0m             self, etype, value, tb, tb_offset, number_of_lines_of_context)\n\u001b[1;32m   1369\u001b[0m \u001b[0;34m\u001b[0m\u001b[0m\n",
            "\u001b[0;32m/usr/local/lib/python3.10/dist-packages/IPython/core/ultratb.py\u001b[0m in \u001b[0;36mstructured_traceback\u001b[0;34m(self, etype, value, tb, tb_offset, number_of_lines_of_context)\u001b[0m\n\u001b[1;32m   1265\u001b[0m         \u001b[0;32mif\u001b[0m \u001b[0mmode\u001b[0m \u001b[0;32min\u001b[0m \u001b[0mself\u001b[0m\u001b[0;34m.\u001b[0m\u001b[0mverbose_modes\u001b[0m\u001b[0;34m:\u001b[0m\u001b[0;34m\u001b[0m\u001b[0;34m\u001b[0m\u001b[0m\n\u001b[1;32m   1266\u001b[0m             \u001b[0;31m# Verbose modes need a full traceback\u001b[0m\u001b[0;34m\u001b[0m\u001b[0;34m\u001b[0m\u001b[0m\n\u001b[0;32m-> 1267\u001b[0;31m             return VerboseTB.structured_traceback(\n\u001b[0m\u001b[1;32m   1268\u001b[0m                 \u001b[0mself\u001b[0m\u001b[0;34m,\u001b[0m \u001b[0metype\u001b[0m\u001b[0;34m,\u001b[0m \u001b[0mvalue\u001b[0m\u001b[0;34m,\u001b[0m \u001b[0mtb\u001b[0m\u001b[0;34m,\u001b[0m \u001b[0mtb_offset\u001b[0m\u001b[0;34m,\u001b[0m \u001b[0mnumber_of_lines_of_context\u001b[0m\u001b[0;34m\u001b[0m\u001b[0;34m\u001b[0m\u001b[0m\n\u001b[1;32m   1269\u001b[0m             )\n",
            "\u001b[0;32m/usr/local/lib/python3.10/dist-packages/IPython/core/ultratb.py\u001b[0m in \u001b[0;36mstructured_traceback\u001b[0;34m(self, etype, evalue, etb, tb_offset, number_of_lines_of_context)\u001b[0m\n\u001b[1;32m   1122\u001b[0m         \u001b[0;34m\"\"\"Return a nice text document describing the traceback.\"\"\"\u001b[0m\u001b[0;34m\u001b[0m\u001b[0;34m\u001b[0m\u001b[0m\n\u001b[1;32m   1123\u001b[0m \u001b[0;34m\u001b[0m\u001b[0m\n\u001b[0;32m-> 1124\u001b[0;31m         formatted_exception = self.format_exception_as_a_whole(etype, evalue, etb, number_of_lines_of_context,\n\u001b[0m\u001b[1;32m   1125\u001b[0m                                                                tb_offset)\n\u001b[1;32m   1126\u001b[0m \u001b[0;34m\u001b[0m\u001b[0m\n",
            "\u001b[0;32m/usr/local/lib/python3.10/dist-packages/IPython/core/ultratb.py\u001b[0m in \u001b[0;36mformat_exception_as_a_whole\u001b[0;34m(self, etype, evalue, etb, number_of_lines_of_context, tb_offset)\u001b[0m\n\u001b[1;32m   1080\u001b[0m \u001b[0;34m\u001b[0m\u001b[0m\n\u001b[1;32m   1081\u001b[0m \u001b[0;34m\u001b[0m\u001b[0m\n\u001b[0;32m-> 1082\u001b[0;31m         \u001b[0mlast_unique\u001b[0m\u001b[0;34m,\u001b[0m \u001b[0mrecursion_repeat\u001b[0m \u001b[0;34m=\u001b[0m \u001b[0mfind_recursion\u001b[0m\u001b[0;34m(\u001b[0m\u001b[0morig_etype\u001b[0m\u001b[0;34m,\u001b[0m \u001b[0mevalue\u001b[0m\u001b[0;34m,\u001b[0m \u001b[0mrecords\u001b[0m\u001b[0;34m)\u001b[0m\u001b[0;34m\u001b[0m\u001b[0;34m\u001b[0m\u001b[0m\n\u001b[0m\u001b[1;32m   1083\u001b[0m \u001b[0;34m\u001b[0m\u001b[0m\n\u001b[1;32m   1084\u001b[0m         \u001b[0mframes\u001b[0m \u001b[0;34m=\u001b[0m \u001b[0mself\u001b[0m\u001b[0;34m.\u001b[0m\u001b[0mformat_records\u001b[0m\u001b[0;34m(\u001b[0m\u001b[0mrecords\u001b[0m\u001b[0;34m,\u001b[0m \u001b[0mlast_unique\u001b[0m\u001b[0;34m,\u001b[0m \u001b[0mrecursion_repeat\u001b[0m\u001b[0;34m)\u001b[0m\u001b[0;34m\u001b[0m\u001b[0;34m\u001b[0m\u001b[0m\n",
            "\u001b[0;32m/usr/local/lib/python3.10/dist-packages/IPython/core/ultratb.py\u001b[0m in \u001b[0;36mfind_recursion\u001b[0;34m(etype, value, records)\u001b[0m\n\u001b[1;32m    380\u001b[0m     \u001b[0;31m# first frame (from in to out) that looks different.\u001b[0m\u001b[0;34m\u001b[0m\u001b[0;34m\u001b[0m\u001b[0m\n\u001b[1;32m    381\u001b[0m     \u001b[0;32mif\u001b[0m \u001b[0;32mnot\u001b[0m \u001b[0mis_recursion_error\u001b[0m\u001b[0;34m(\u001b[0m\u001b[0metype\u001b[0m\u001b[0;34m,\u001b[0m \u001b[0mvalue\u001b[0m\u001b[0;34m,\u001b[0m \u001b[0mrecords\u001b[0m\u001b[0;34m)\u001b[0m\u001b[0;34m:\u001b[0m\u001b[0;34m\u001b[0m\u001b[0;34m\u001b[0m\u001b[0m\n\u001b[0;32m--> 382\u001b[0;31m         \u001b[0;32mreturn\u001b[0m \u001b[0mlen\u001b[0m\u001b[0;34m(\u001b[0m\u001b[0mrecords\u001b[0m\u001b[0;34m)\u001b[0m\u001b[0;34m,\u001b[0m \u001b[0;36m0\u001b[0m\u001b[0;34m\u001b[0m\u001b[0;34m\u001b[0m\u001b[0m\n\u001b[0m\u001b[1;32m    383\u001b[0m \u001b[0;34m\u001b[0m\u001b[0m\n\u001b[1;32m    384\u001b[0m     \u001b[0;31m# Select filename, lineno, func_name to track frames with\u001b[0m\u001b[0;34m\u001b[0m\u001b[0;34m\u001b[0m\u001b[0m\n",
            "\u001b[0;31mTypeError\u001b[0m: object of type 'NoneType' has no len()"
          ]
        }
      ],
      "source": [
        "model.eval()"
      ]
    },
    {
      "cell_type": "code",
      "execution_count": null,
      "metadata": {
        "colab": {
          "base_uri": "https://localhost:8080/",
          "height": 552
        },
        "id": "oMd-3U7eBGxM",
        "outputId": "e25fe33a-22b1-4221-cfd7-326be4c1e213"
      },
      "outputs": [
        {
          "data": {
            "text/html": [
              "<style>\n",
              "      .ndarray_repr .ndarray_raw_data {\n",
              "        display: none;\n",
              "      }\n",
              "      .ndarray_repr.show_array .ndarray_raw_data {\n",
              "        display: block;\n",
              "      }\n",
              "      .ndarray_repr.show_array .ndarray_image_preview {\n",
              "        display: none;\n",
              "      }\n",
              "      </style>\n",
              "      <div id=\"id-28b21551-3151-474d-b195-103043f7e86f\" class=\"ndarray_repr\"><pre>ndarray (512, 512, 3) <button style=\"padding: 0 2px;\">show data</button></pre><img src=\"data:image/png;base64,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\" class=\"ndarray_image_preview\" /><pre class=\"ndarray_raw_data\">array([[[0, 0, 0],\n",
              "        [0, 0, 0],\n",
              "        [0, 0, 0],\n",
              "        ...,\n",
              "        [0, 0, 0],\n",
              "        [0, 0, 0],\n",
              "        [0, 0, 0]],\n",
              "\n",
              "       [[0, 0, 0],\n",
              "        [0, 0, 0],\n",
              "        [0, 0, 0],\n",
              "        ...,\n",
              "        [0, 0, 0],\n",
              "        [0, 0, 0],\n",
              "        [0, 0, 0]],\n",
              "\n",
              "       [[0, 0, 0],\n",
              "        [0, 0, 0],\n",
              "        [0, 0, 0],\n",
              "        ...,\n",
              "        [0, 0, 0],\n",
              "        [0, 0, 0],\n",
              "        [0, 0, 0]],\n",
              "\n",
              "       ...,\n",
              "\n",
              "       [[0, 0, 0],\n",
              "        [0, 0, 0],\n",
              "        [0, 0, 0],\n",
              "        ...,\n",
              "        [0, 0, 0],\n",
              "        [0, 0, 0],\n",
              "        [0, 0, 0]],\n",
              "\n",
              "       [[0, 0, 0],\n",
              "        [0, 0, 0],\n",
              "        [0, 0, 0],\n",
              "        ...,\n",
              "        [0, 0, 0],\n",
              "        [0, 0, 0],\n",
              "        [0, 0, 0]],\n",
              "\n",
              "       [[0, 0, 0],\n",
              "        [0, 0, 0],\n",
              "        [0, 0, 0],\n",
              "        ...,\n",
              "        [0, 0, 0],\n",
              "        [0, 0, 0],\n",
              "        [0, 0, 0]]], dtype=uint8)</pre></div><script>\n",
              "      (() => {\n",
              "      const titles = ['show data', 'hide data'];\n",
              "      let index = 0\n",
              "      document.querySelector('#id-28b21551-3151-474d-b195-103043f7e86f button').onclick = (e) => {\n",
              "        document.querySelector('#id-28b21551-3151-474d-b195-103043f7e86f').classList.toggle('show_array');\n",
              "        index = (++index) % 2;\n",
              "        document.querySelector('#id-28b21551-3151-474d-b195-103043f7e86f button').textContent = titles[index];\n",
              "        e.preventDefault();\n",
              "        e.stopPropagation();\n",
              "      }\n",
              "      })();\n",
              "    </script>"
            ],
            "text/plain": [
              "array([[[0, 0, 0],\n",
              "        [0, 0, 0],\n",
              "        [0, 0, 0],\n",
              "        ...,\n",
              "        [0, 0, 0],\n",
              "        [0, 0, 0],\n",
              "        [0, 0, 0]],\n",
              "\n",
              "       [[0, 0, 0],\n",
              "        [0, 0, 0],\n",
              "        [0, 0, 0],\n",
              "        ...,\n",
              "        [0, 0, 0],\n",
              "        [0, 0, 0],\n",
              "        [0, 0, 0]],\n",
              "\n",
              "       [[0, 0, 0],\n",
              "        [0, 0, 0],\n",
              "        [0, 0, 0],\n",
              "        ...,\n",
              "        [0, 0, 0],\n",
              "        [0, 0, 0],\n",
              "        [0, 0, 0]],\n",
              "\n",
              "       ...,\n",
              "\n",
              "       [[0, 0, 0],\n",
              "        [0, 0, 0],\n",
              "        [0, 0, 0],\n",
              "        ...,\n",
              "        [0, 0, 0],\n",
              "        [0, 0, 0],\n",
              "        [0, 0, 0]],\n",
              "\n",
              "       [[0, 0, 0],\n",
              "        [0, 0, 0],\n",
              "        [0, 0, 0],\n",
              "        ...,\n",
              "        [0, 0, 0],\n",
              "        [0, 0, 0],\n",
              "        [0, 0, 0]],\n",
              "\n",
              "       [[0, 0, 0],\n",
              "        [0, 0, 0],\n",
              "        [0, 0, 0],\n",
              "        ...,\n",
              "        [0, 0, 0],\n",
              "        [0, 0, 0],\n",
              "        [0, 0, 0]]], dtype=uint8)"
            ]
          },
          "execution_count": 23,
          "metadata": {},
          "output_type": "execute_result"
        }
      ],
      "source": [
        "# prompt: plot the results with only positive label\n",
        "\n",
        "results[0].plot(labels=False)\n"
      ]
    },
    {
      "cell_type": "code",
      "execution_count": null,
      "metadata": {
        "colab": {
          "base_uri": "https://localhost:8080/"
        },
        "id": "2g9W6TcM3aGA",
        "outputId": "b0b64531-c4af-4c33-91ac-ad5be549cc47"
      },
      "outputs": [
        {
          "data": {
            "text/plain": [
              "True"
            ]
          },
          "execution_count": 24,
          "metadata": {},
          "output_type": "execute_result"
        }
      ],
      "source": [
        "import cv2\n",
        "cv2.imwrite('results.png', results[0].plot())"
      ]
    },
    {
      "cell_type": "code",
      "execution_count": null,
      "metadata": {
        "colab": {
          "base_uri": "https://localhost:8080/"
        },
        "id": "JdWq8FxorXMI",
        "outputId": "908f4a56-23f0-4e8e-f0ab-d73972d0b887"
      },
      "outputs": [
        {
          "data": {
            "text/plain": [
              "True"
            ]
          },
          "execution_count": 25,
          "metadata": {},
          "output_type": "execute_result"
        }
      ],
      "source": [
        "cv2.imwrite('results.jpg', results[0].plot(labels=False))"
      ]
    },
    {
      "cell_type": "code",
      "execution_count": null,
      "metadata": {
        "colab": {
          "base_uri": "https://localhost:8080/"
        },
        "id": "r8KTRAxtwsuX",
        "outputId": "69cfdc7c-6f36-4d35-be07-9aa763e06252"
      },
      "outputs": [
        {
          "name": "stdout",
          "output_type": "stream",
          "text": [
            "Class ID: 1.0, Confidence: 0.43\n",
            "Tumor width: 3.57 cm, Tumor height: 3.02 cm\n",
            "Tumor type: Meningioma\n"
          ]
        }
      ],
      "source": [
        "for result in results:\n",
        "  boxes = result.boxes\n",
        "  for box in boxes:\n",
        "    class_id = box.cls.item()\n",
        "    conf = box.conf.item()\n",
        "    print(f\"Class ID: {class_id}, Confidence: {conf:.2f}\")\n",
        "\n",
        "    image_width_pixels = 512\n",
        "    image_height_pixels = 512\n",
        "    pixel_spacing_mm = 0.5\n",
        "\n",
        "    x_min, y_min, x_max, y_max = box.xyxy[0].tolist()\n",
        "\n",
        "    tumor_width_pixels = x_max - x_min\n",
        "    tumor_height_pixels = y_max - y_min\n",
        "\n",
        "    tumor_width_mm = tumor_width_pixels * pixel_spacing_mm\n",
        "    tumor_height_mm = tumor_height_pixels * pixel_spacing_mm\n",
        "\n",
        "    tumor_width_cm = tumor_width_mm / 10\n",
        "    tumor_height_cm = tumor_height_mm / 10\n",
        "\n",
        "    print(f\"Tumor width: {tumor_width_cm:.2f} cm, Tumor height: {tumor_height_cm:.2f} cm\")\n",
        "\n",
        "    if class_id == 0:\n",
        "      print(\"Tumor type: Glioma\")\n",
        "    elif class_id == 1:\n",
        "      print(\"Tumor type: Meningioma\")\n",
        "    elif class_id == 2:\n",
        "      print(\"Tumor type: Pituitary tumor\")\n",
        "    elif class_id == 3:\n",
        "      print(\"Tumor type: Acoustic neuroma\")\n"
      ]
    },
    {
      "cell_type": "code",
      "execution_count": null,
      "metadata": {
        "id": "IWvxNfdHr5FA"
      },
      "outputs": [],
      "source": [
        "model"
      ]
    },
    {
      "cell_type": "code",
      "execution_count": null,
      "metadata": {
        "colab": {
          "base_uri": "https://localhost:8080/"
        },
        "id": "fY6jFhLsXLQ4",
        "outputId": "aa2a72af-fcab-4f75-dae7-b905943d9800"
      },
      "outputs": [
        {
          "name": "stdout",
          "output_type": "stream",
          "text": [
            "Model summary (fused): 168 layers, 3,006,038 parameters, 0 gradients, 8.1 GFLOPs\n"
          ]
        },
        {
          "data": {
            "text/plain": [
              "(168, 3006038, 0, 8.086272)"
            ]
          },
          "execution_count": 27,
          "metadata": {},
          "output_type": "execute_result"
        }
      ],
      "source": [
        "model.info()"
      ]
    },
    {
      "cell_type": "markdown",
      "metadata": {
        "id": "3VB7l2WecJkE"
      },
      "source": [
        "Accuracy Score by Inferencing the Model"
      ]
    },
    {
      "cell_type": "code",
      "execution_count": null,
      "metadata": {
        "id": "FL81Skzus3Ja"
      },
      "outputs": [],
      "source": [
        "import numpy as np\n",
        "from ultralytics import YOLO\n",
        "from sklearn.metrics import accuracy_score\n",
        "from shapely.geometry import box"
      ]
    },
    {
      "cell_type": "code",
      "execution_count": null,
      "metadata": {
        "colab": {
          "background_save": true,
          "base_uri": "https://localhost:8080/"
        },
        "id": "k10aPrPvtZvQ",
        "outputId": "d409c6aa-78e3-4747-b495-ac711113fb35"
      },
      "outputs": [
        {
          "name": "stdout",
          "output_type": "stream",
          "text": [
            "Ultralytics YOLOv8.2.86 🚀 Python-3.10.12 torch-2.4.0+cu121 CUDA:0 (Tesla T4, 15102MiB)\n"
          ]
        },
        {
          "name": "stderr",
          "output_type": "stream",
          "text": [
            "\u001b[34m\u001b[1mval: \u001b[0mScanning /content/datasets/brain-tumor/valid/labels.cache... 223 images, 0 backgrounds, 0 corrupt: 100%|██████████| 223/223 [00:00<?, ?it/s]\n",
            "/usr/lib/python3.10/multiprocessing/popen_fork.py:66: RuntimeWarning: os.fork() was called. os.fork() is incompatible with multithreaded code, and JAX is multithreaded, so this will likely lead to a deadlock.\n",
            "  self.pid = os.fork()\n",
            "                 Class     Images  Instances      Box(P          R      mAP50  mAP50-95): 100%|██████████| 14/14 [00:10<00:00,  1.29it/s]\n"
          ]
        },
        {
          "name": "stdout",
          "output_type": "stream",
          "text": [
            "                   all        223        241      0.423      0.807      0.478      0.342\n",
            "              negative        142        154      0.552      0.751      0.596       0.43\n",
            "              positive         81         87      0.295      0.862      0.361      0.254\n",
            "Speed: 1.4ms preprocess, 10.2ms inference, 0.0ms loss, 7.0ms postprocess per image\n",
            "Results saved to \u001b[1mruns/detect/val3\u001b[0m\n",
            "mAP_50_95: 0.34\n"
          ]
        },
        {
          "ename": "ValueError",
          "evalue": "Invalid format specifier",
          "output_type": "error",
          "traceback": [
            "\u001b[0;31m---------------------------------------------------------------------------\u001b[0m",
            "\u001b[0;31mValueError\u001b[0m                                Traceback (most recent call last)",
            "\u001b[0;32m<ipython-input-24-416ec101fe4b>\u001b[0m in \u001b[0;36m<cell line: 7>\u001b[0;34m()\u001b[0m\n\u001b[1;32m      5\u001b[0m \u001b[0;34m\u001b[0m\u001b[0m\n\u001b[1;32m      6\u001b[0m \u001b[0mprint\u001b[0m\u001b[0;34m(\u001b[0m\u001b[0;34mf'mAP_50_95: {mAP_50_95:.2f}'\u001b[0m\u001b[0;34m)\u001b[0m\u001b[0;34m\u001b[0m\u001b[0;34m\u001b[0m\u001b[0m\n\u001b[0;32m----> 7\u001b[0;31m \u001b[0mprint\u001b[0m\u001b[0;34m(\u001b[0m\u001b[0;34mf'mAP_50: {mAP_50:.2f[::-1]}'\u001b[0m\u001b[0;34m)\u001b[0m\u001b[0;34m\u001b[0m\u001b[0;34m\u001b[0m\u001b[0m\n\u001b[0m",
            "\u001b[0;31mValueError\u001b[0m: Invalid format specifier"
          ]
        }
      ],
      "source": [
        "metrics = model.val(data='brain-tumor.yaml')\n",
        "\n",
        "mAP_50_95 = metrics.box.map\n",
        "mAP_50 = metrics.box.map50\n",
        "\n",
        "print(f'mAP_50_95: {mAP_50_95:.2f}')\n",
        "print(f'mAP_50: {mAP_50:.2f}')\n"
      ]
    },
    {
      "cell_type": "code",
      "execution_count": null,
      "metadata": {
        "colab": {
          "base_uri": "https://localhost:8080/"
        },
        "id": "DEwFqXVF0Nax",
        "outputId": "208bb7e5-22ca-4426-a494-ff79a6aaecda"
      },
      "outputs": [
        {
          "name": "stdout",
          "output_type": "stream",
          "text": [
            "[    0.55172     0.29515]\n",
            "[    0.75125     0.86207]\n"
          ]
        }
      ],
      "source": [
        "precision = metrics.box.p\n",
        "recall = metrics.box.r\n",
        "\n",
        "print(precision)\n",
        "print(recall)\n"
      ]
    },
    {
      "cell_type": "code",
      "execution_count": null,
      "metadata": {
        "colab": {
          "base_uri": "https://localhost:8080/",
          "height": 211
        },
        "id": "229pjPKm0nU3",
        "outputId": "0e352a28-9079-462d-a12d-3fd10965688e"
      },
      "outputs": [
        {
          "ename": "NameError",
          "evalue": "name 'curves_results' is not defined",
          "output_type": "error",
          "traceback": [
            "\u001b[0;31m---------------------------------------------------------------------------\u001b[0m",
            "\u001b[0;31mNameError\u001b[0m                                 Traceback (most recent call last)",
            "\u001b[0;32m<ipython-input-22-09577b6f5b9b>\u001b[0m in \u001b[0;36m<cell line: 6>\u001b[0;34m()\u001b[0m\n\u001b[1;32m      4\u001b[0m \u001b[0;34m\u001b[0m\u001b[0m\n\u001b[1;32m      5\u001b[0m \u001b[0;31m# Extract data from metrics\u001b[0m\u001b[0;34m\u001b[0m\u001b[0;34m\u001b[0m\u001b[0m\n\u001b[0;32m----> 6\u001b[0;31m \u001b[0mepochs\u001b[0m \u001b[0;34m=\u001b[0m \u001b[0mlist\u001b[0m\u001b[0;34m(\u001b[0m\u001b[0mrange\u001b[0m\u001b[0;34m(\u001b[0m\u001b[0;36m1\u001b[0m\u001b[0;34m,\u001b[0m \u001b[0mlen\u001b[0m\u001b[0;34m(\u001b[0m\u001b[0mcurves_results\u001b[0m\u001b[0;34m.\u001b[0m\u001b[0mkeys\u001b[0m\u001b[0;34m(\u001b[0m\u001b[0;34m)\u001b[0m\u001b[0;34m)\u001b[0m \u001b[0;34m+\u001b[0m \u001b[0;36m1\u001b[0m\u001b[0;34m)\u001b[0m\u001b[0;34m)\u001b[0m\u001b[0;34m\u001b[0m\u001b[0;34m\u001b[0m\u001b[0m\n\u001b[0m\u001b[1;32m      7\u001b[0m \u001b[0mtrain_loss\u001b[0m \u001b[0;34m=\u001b[0m \u001b[0;34m[\u001b[0m\u001b[0mres\u001b[0m\u001b[0;34m.\u001b[0m\u001b[0mresults\u001b[0m\u001b[0;34m[\u001b[0m\u001b[0mepoch\u001b[0m\u001b[0;34m]\u001b[0m\u001b[0;34m[\u001b[0m\u001b[0;34m'train/loss'\u001b[0m\u001b[0;34m]\u001b[0m \u001b[0;32mfor\u001b[0m \u001b[0mepoch\u001b[0m \u001b[0;32min\u001b[0m \u001b[0mepochs\u001b[0m\u001b[0;34m]\u001b[0m\u001b[0;34m\u001b[0m\u001b[0;34m\u001b[0m\u001b[0m\n\u001b[1;32m      8\u001b[0m \u001b[0mval_loss\u001b[0m \u001b[0;34m=\u001b[0m \u001b[0;34m[\u001b[0m\u001b[0mres\u001b[0m\u001b[0;34m.\u001b[0m\u001b[0mresults\u001b[0m\u001b[0;34m[\u001b[0m\u001b[0mepoch\u001b[0m\u001b[0;34m]\u001b[0m\u001b[0;34m[\u001b[0m\u001b[0;34m'val/loss'\u001b[0m\u001b[0;34m]\u001b[0m \u001b[0;32mfor\u001b[0m \u001b[0mepoch\u001b[0m \u001b[0;32min\u001b[0m \u001b[0mepochs\u001b[0m\u001b[0;34m]\u001b[0m\u001b[0;34m\u001b[0m\u001b[0;34m\u001b[0m\u001b[0m\n",
            "\u001b[0;31mNameError\u001b[0m: name 'curves_results' is not defined"
          ]
        }
      ],
      "source": [
        "# prompt: plot the curves\n",
        "\n",
        "import matplotlib.pyplot as plt\n",
        "\n",
        "# Extract data from metrics\n",
        "epochs = list(range(1, len(curves_results.keys()) + 1))\n",
        "train_loss = [res.results[epoch]['train/loss'] for epoch in epochs]\n",
        "val_loss = [res.results[epoch]['val/loss'] for epoch in epochs]\n",
        "\n",
        "# Plot the curves\n",
        "plt.figure(figsize=(10, 6))\n",
        "plt.plot(epochs, train_loss, label='Training Loss')\n",
        "plt.plot(epochs, val_loss, label='Validation Loss')\n",
        "plt.xlabel('Epochs')\n",
        "plt.ylabel('Loss')\n",
        "plt.title('Training and Validation Loss')\n",
        "plt.legend()\n",
        "plt.grid(True)\n",
        "plt.show()\n"
      ]
    },
    {
      "cell_type": "code",
      "execution_count": null,
      "metadata": {
        "colab": {
          "base_uri": "https://localhost:8080/"
        },
        "id": "7iF62i57xdzs",
        "outputId": "d1489a09-0a36-4ba1-e709-b681c6271bac"
      },
      "outputs": [
        {
          "data": {
            "text/plain": [
              "[[array([          0,    0.001001,    0.002002,    0.003003,    0.004004,    0.005005,    0.006006,    0.007007,    0.008008,    0.009009,     0.01001,    0.011011,    0.012012,    0.013013,    0.014014,    0.015015,    0.016016,    0.017017,    0.018018,    0.019019,     0.02002,    0.021021,    0.022022,    0.023023,\n",
              "            0.024024,    0.025025,    0.026026,    0.027027,    0.028028,    0.029029,     0.03003,    0.031031,    0.032032,    0.033033,    0.034034,    0.035035,    0.036036,    0.037037,    0.038038,    0.039039,     0.04004,    0.041041,    0.042042,    0.043043,    0.044044,    0.045045,    0.046046,    0.047047,\n",
              "            0.048048,    0.049049,     0.05005,    0.051051,    0.052052,    0.053053,    0.054054,    0.055055,    0.056056,    0.057057,    0.058058,    0.059059,     0.06006,    0.061061,    0.062062,    0.063063,    0.064064,    0.065065,    0.066066,    0.067067,    0.068068,    0.069069,     0.07007,    0.071071,\n",
              "            0.072072,    0.073073,    0.074074,    0.075075,    0.076076,    0.077077,    0.078078,    0.079079,     0.08008,    0.081081,    0.082082,    0.083083,    0.084084,    0.085085,    0.086086,    0.087087,    0.088088,    0.089089,     0.09009,    0.091091,    0.092092,    0.093093,    0.094094,    0.095095,\n",
              "            0.096096,    0.097097,    0.098098,    0.099099,      0.1001,      0.1011,      0.1021,      0.1031,      0.1041,     0.10511,     0.10611,     0.10711,     0.10811,     0.10911,     0.11011,     0.11111,     0.11211,     0.11311,     0.11411,     0.11512,     0.11612,     0.11712,     0.11812,     0.11912,\n",
              "             0.12012,     0.12112,     0.12212,     0.12312,     0.12412,     0.12513,     0.12613,     0.12713,     0.12813,     0.12913,     0.13013,     0.13113,     0.13213,     0.13313,     0.13413,     0.13514,     0.13614,     0.13714,     0.13814,     0.13914,     0.14014,     0.14114,     0.14214,     0.14314,\n",
              "             0.14414,     0.14515,     0.14615,     0.14715,     0.14815,     0.14915,     0.15015,     0.15115,     0.15215,     0.15315,     0.15415,     0.15516,     0.15616,     0.15716,     0.15816,     0.15916,     0.16016,     0.16116,     0.16216,     0.16316,     0.16416,     0.16517,     0.16617,     0.16717,\n",
              "             0.16817,     0.16917,     0.17017,     0.17117,     0.17217,     0.17317,     0.17417,     0.17518,     0.17618,     0.17718,     0.17818,     0.17918,     0.18018,     0.18118,     0.18218,     0.18318,     0.18418,     0.18519,     0.18619,     0.18719,     0.18819,     0.18919,     0.19019,     0.19119,\n",
              "             0.19219,     0.19319,     0.19419,      0.1952,      0.1962,      0.1972,      0.1982,      0.1992,      0.2002,      0.2012,      0.2022,      0.2032,      0.2042,     0.20521,     0.20621,     0.20721,     0.20821,     0.20921,     0.21021,     0.21121,     0.21221,     0.21321,     0.21421,     0.21522,\n",
              "             0.21622,     0.21722,     0.21822,     0.21922,     0.22022,     0.22122,     0.22222,     0.22322,     0.22422,     0.22523,     0.22623,     0.22723,     0.22823,     0.22923,     0.23023,     0.23123,     0.23223,     0.23323,     0.23423,     0.23524,     0.23624,     0.23724,     0.23824,     0.23924,\n",
              "             0.24024,     0.24124,     0.24224,     0.24324,     0.24424,     0.24525,     0.24625,     0.24725,     0.24825,     0.24925,     0.25025,     0.25125,     0.25225,     0.25325,     0.25425,     0.25526,     0.25626,     0.25726,     0.25826,     0.25926,     0.26026,     0.26126,     0.26226,     0.26326,\n",
              "             0.26426,     0.26527,     0.26627,     0.26727,     0.26827,     0.26927,     0.27027,     0.27127,     0.27227,     0.27327,     0.27427,     0.27528,     0.27628,     0.27728,     0.27828,     0.27928,     0.28028,     0.28128,     0.28228,     0.28328,     0.28428,     0.28529,     0.28629,     0.28729,\n",
              "             0.28829,     0.28929,     0.29029,     0.29129,     0.29229,     0.29329,     0.29429,      0.2953,      0.2963,      0.2973,      0.2983,      0.2993,      0.3003,      0.3013,      0.3023,      0.3033,      0.3043,     0.30531,     0.30631,     0.30731,     0.30831,     0.30931,     0.31031,     0.31131,\n",
              "             0.31231,     0.31331,     0.31431,     0.31532,     0.31632,     0.31732,     0.31832,     0.31932,     0.32032,     0.32132,     0.32232,     0.32332,     0.32432,     0.32533,     0.32633,     0.32733,     0.32833,     0.32933,     0.33033,     0.33133,     0.33233,     0.33333,     0.33433,     0.33534,\n",
              "             0.33634,     0.33734,     0.33834,     0.33934,     0.34034,     0.34134,     0.34234,     0.34334,     0.34434,     0.34535,     0.34635,     0.34735,     0.34835,     0.34935,     0.35035,     0.35135,     0.35235,     0.35335,     0.35435,     0.35536,     0.35636,     0.35736,     0.35836,     0.35936,\n",
              "             0.36036,     0.36136,     0.36236,     0.36336,     0.36436,     0.36537,     0.36637,     0.36737,     0.36837,     0.36937,     0.37037,     0.37137,     0.37237,     0.37337,     0.37437,     0.37538,     0.37638,     0.37738,     0.37838,     0.37938,     0.38038,     0.38138,     0.38238,     0.38338,\n",
              "             0.38438,     0.38539,     0.38639,     0.38739,     0.38839,     0.38939,     0.39039,     0.39139,     0.39239,     0.39339,     0.39439,      0.3954,      0.3964,      0.3974,      0.3984,      0.3994,      0.4004,      0.4014,      0.4024,      0.4034,      0.4044,     0.40541,     0.40641,     0.40741,\n",
              "             0.40841,     0.40941,     0.41041,     0.41141,     0.41241,     0.41341,     0.41441,     0.41542,     0.41642,     0.41742,     0.41842,     0.41942,     0.42042,     0.42142,     0.42242,     0.42342,     0.42442,     0.42543,     0.42643,     0.42743,     0.42843,     0.42943,     0.43043,     0.43143,\n",
              "             0.43243,     0.43343,     0.43443,     0.43544,     0.43644,     0.43744,     0.43844,     0.43944,     0.44044,     0.44144,     0.44244,     0.44344,     0.44444,     0.44545,     0.44645,     0.44745,     0.44845,     0.44945,     0.45045,     0.45145,     0.45245,     0.45345,     0.45445,     0.45546,\n",
              "             0.45646,     0.45746,     0.45846,     0.45946,     0.46046,     0.46146,     0.46246,     0.46346,     0.46446,     0.46547,     0.46647,     0.46747,     0.46847,     0.46947,     0.47047,     0.47147,     0.47247,     0.47347,     0.47447,     0.47548,     0.47648,     0.47748,     0.47848,     0.47948,\n",
              "             0.48048,     0.48148,     0.48248,     0.48348,     0.48448,     0.48549,     0.48649,     0.48749,     0.48849,     0.48949,     0.49049,     0.49149,     0.49249,     0.49349,     0.49449,      0.4955,      0.4965,      0.4975,      0.4985,      0.4995,      0.5005,      0.5015,      0.5025,      0.5035,\n",
              "              0.5045,     0.50551,     0.50651,     0.50751,     0.50851,     0.50951,     0.51051,     0.51151,     0.51251,     0.51351,     0.51451,     0.51552,     0.51652,     0.51752,     0.51852,     0.51952,     0.52052,     0.52152,     0.52252,     0.52352,     0.52452,     0.52553,     0.52653,     0.52753,\n",
              "             0.52853,     0.52953,     0.53053,     0.53153,     0.53253,     0.53353,     0.53453,     0.53554,     0.53654,     0.53754,     0.53854,     0.53954,     0.54054,     0.54154,     0.54254,     0.54354,     0.54454,     0.54555,     0.54655,     0.54755,     0.54855,     0.54955,     0.55055,     0.55155,\n",
              "             0.55255,     0.55355,     0.55455,     0.55556,     0.55656,     0.55756,     0.55856,     0.55956,     0.56056,     0.56156,     0.56256,     0.56356,     0.56456,     0.56557,     0.56657,     0.56757,     0.56857,     0.56957,     0.57057,     0.57157,     0.57257,     0.57357,     0.57457,     0.57558,\n",
              "             0.57658,     0.57758,     0.57858,     0.57958,     0.58058,     0.58158,     0.58258,     0.58358,     0.58458,     0.58559,     0.58659,     0.58759,     0.58859,     0.58959,     0.59059,     0.59159,     0.59259,     0.59359,     0.59459,      0.5956,      0.5966,      0.5976,      0.5986,      0.5996,\n",
              "              0.6006,      0.6016,      0.6026,      0.6036,      0.6046,     0.60561,     0.60661,     0.60761,     0.60861,     0.60961,     0.61061,     0.61161,     0.61261,     0.61361,     0.61461,     0.61562,     0.61662,     0.61762,     0.61862,     0.61962,     0.62062,     0.62162,     0.62262,     0.62362,\n",
              "             0.62462,     0.62563,     0.62663,     0.62763,     0.62863,     0.62963,     0.63063,     0.63163,     0.63263,     0.63363,     0.63463,     0.63564,     0.63664,     0.63764,     0.63864,     0.63964,     0.64064,     0.64164,     0.64264,     0.64364,     0.64464,     0.64565,     0.64665,     0.64765,\n",
              "             0.64865,     0.64965,     0.65065,     0.65165,     0.65265,     0.65365,     0.65465,     0.65566,     0.65666,     0.65766,     0.65866,     0.65966,     0.66066,     0.66166,     0.66266,     0.66366,     0.66466,     0.66567,     0.66667,     0.66767,     0.66867,     0.66967,     0.67067,     0.67167,\n",
              "             0.67267,     0.67367,     0.67467,     0.67568,     0.67668,     0.67768,     0.67868,     0.67968,     0.68068,     0.68168,     0.68268,     0.68368,     0.68468,     0.68569,     0.68669,     0.68769,     0.68869,     0.68969,     0.69069,     0.69169,     0.69269,     0.69369,     0.69469,      0.6957,\n",
              "              0.6967,      0.6977,      0.6987,      0.6997,      0.7007,      0.7017,      0.7027,      0.7037,      0.7047,     0.70571,     0.70671,     0.70771,     0.70871,     0.70971,     0.71071,     0.71171,     0.71271,     0.71371,     0.71471,     0.71572,     0.71672,     0.71772,     0.71872,     0.71972,\n",
              "             0.72072,     0.72172,     0.72272,     0.72372,     0.72472,     0.72573,     0.72673,     0.72773,     0.72873,     0.72973,     0.73073,     0.73173,     0.73273,     0.73373,     0.73473,     0.73574,     0.73674,     0.73774,     0.73874,     0.73974,     0.74074,     0.74174,     0.74274,     0.74374,\n",
              "             0.74474,     0.74575,     0.74675,     0.74775,     0.74875,     0.74975,     0.75075,     0.75175,     0.75275,     0.75375,     0.75475,     0.75576,     0.75676,     0.75776,     0.75876,     0.75976,     0.76076,     0.76176,     0.76276,     0.76376,     0.76476,     0.76577,     0.76677,     0.76777,\n",
              "             0.76877,     0.76977,     0.77077,     0.77177,     0.77277,     0.77377,     0.77477,     0.77578,     0.77678,     0.77778,     0.77878,     0.77978,     0.78078,     0.78178,     0.78278,     0.78378,     0.78478,     0.78579,     0.78679,     0.78779,     0.78879,     0.78979,     0.79079,     0.79179,\n",
              "             0.79279,     0.79379,     0.79479,      0.7958,      0.7968,      0.7978,      0.7988,      0.7998,      0.8008,      0.8018,      0.8028,      0.8038,      0.8048,     0.80581,     0.80681,     0.80781,     0.80881,     0.80981,     0.81081,     0.81181,     0.81281,     0.81381,     0.81481,     0.81582,\n",
              "             0.81682,     0.81782,     0.81882,     0.81982,     0.82082,     0.82182,     0.82282,     0.82382,     0.82482,     0.82583,     0.82683,     0.82783,     0.82883,     0.82983,     0.83083,     0.83183,     0.83283,     0.83383,     0.83483,     0.83584,     0.83684,     0.83784,     0.83884,     0.83984,\n",
              "             0.84084,     0.84184,     0.84284,     0.84384,     0.84484,     0.84585,     0.84685,     0.84785,     0.84885,     0.84985,     0.85085,     0.85185,     0.85285,     0.85385,     0.85485,     0.85586,     0.85686,     0.85786,     0.85886,     0.85986,     0.86086,     0.86186,     0.86286,     0.86386,\n",
              "             0.86486,     0.86587,     0.86687,     0.86787,     0.86887,     0.86987,     0.87087,     0.87187,     0.87287,     0.87387,     0.87487,     0.87588,     0.87688,     0.87788,     0.87888,     0.87988,     0.88088,     0.88188,     0.88288,     0.88388,     0.88488,     0.88589,     0.88689,     0.88789,\n",
              "             0.88889,     0.88989,     0.89089,     0.89189,     0.89289,     0.89389,     0.89489,      0.8959,      0.8969,      0.8979,      0.8989,      0.8999,      0.9009,      0.9019,      0.9029,      0.9039,      0.9049,     0.90591,     0.90691,     0.90791,     0.90891,     0.90991,     0.91091,     0.91191,\n",
              "             0.91291,     0.91391,     0.91491,     0.91592,     0.91692,     0.91792,     0.91892,     0.91992,     0.92092,     0.92192,     0.92292,     0.92392,     0.92492,     0.92593,     0.92693,     0.92793,     0.92893,     0.92993,     0.93093,     0.93193,     0.93293,     0.93393,     0.93493,     0.93594,\n",
              "             0.93694,     0.93794,     0.93894,     0.93994,     0.94094,     0.94194,     0.94294,     0.94394,     0.94494,     0.94595,     0.94695,     0.94795,     0.94895,     0.94995,     0.95095,     0.95195,     0.95295,     0.95395,     0.95495,     0.95596,     0.95696,     0.95796,     0.95896,     0.95996,\n",
              "             0.96096,     0.96196,     0.96296,     0.96396,     0.96496,     0.96597,     0.96697,     0.96797,     0.96897,     0.96997,     0.97097,     0.97197,     0.97297,     0.97397,     0.97497,     0.97598,     0.97698,     0.97798,     0.97898,     0.97998,     0.98098,     0.98198,     0.98298,     0.98398,\n",
              "             0.98498,     0.98599,     0.98699,     0.98799,     0.98899,     0.98999,     0.99099,     0.99199,     0.99299,     0.99399,     0.99499,       0.996,       0.997,       0.998,       0.999,           1]),\n",
              "  array([[          1,           1,           1, ...,    0.014677,   0.0073383,           0],\n",
              "         [    0.45455,     0.45455,     0.45455, ...,   0.0053463,   0.0026732,           0]]),\n",
              "  'Recall',\n",
              "  'Precision'],\n",
              " [array([          0,    0.001001,    0.002002,    0.003003,    0.004004,    0.005005,    0.006006,    0.007007,    0.008008,    0.009009,     0.01001,    0.011011,    0.012012,    0.013013,    0.014014,    0.015015,    0.016016,    0.017017,    0.018018,    0.019019,     0.02002,    0.021021,    0.022022,    0.023023,\n",
              "            0.024024,    0.025025,    0.026026,    0.027027,    0.028028,    0.029029,     0.03003,    0.031031,    0.032032,    0.033033,    0.034034,    0.035035,    0.036036,    0.037037,    0.038038,    0.039039,     0.04004,    0.041041,    0.042042,    0.043043,    0.044044,    0.045045,    0.046046,    0.047047,\n",
              "            0.048048,    0.049049,     0.05005,    0.051051,    0.052052,    0.053053,    0.054054,    0.055055,    0.056056,    0.057057,    0.058058,    0.059059,     0.06006,    0.061061,    0.062062,    0.063063,    0.064064,    0.065065,    0.066066,    0.067067,    0.068068,    0.069069,     0.07007,    0.071071,\n",
              "            0.072072,    0.073073,    0.074074,    0.075075,    0.076076,    0.077077,    0.078078,    0.079079,     0.08008,    0.081081,    0.082082,    0.083083,    0.084084,    0.085085,    0.086086,    0.087087,    0.088088,    0.089089,     0.09009,    0.091091,    0.092092,    0.093093,    0.094094,    0.095095,\n",
              "            0.096096,    0.097097,    0.098098,    0.099099,      0.1001,      0.1011,      0.1021,      0.1031,      0.1041,     0.10511,     0.10611,     0.10711,     0.10811,     0.10911,     0.11011,     0.11111,     0.11211,     0.11311,     0.11411,     0.11512,     0.11612,     0.11712,     0.11812,     0.11912,\n",
              "             0.12012,     0.12112,     0.12212,     0.12312,     0.12412,     0.12513,     0.12613,     0.12713,     0.12813,     0.12913,     0.13013,     0.13113,     0.13213,     0.13313,     0.13413,     0.13514,     0.13614,     0.13714,     0.13814,     0.13914,     0.14014,     0.14114,     0.14214,     0.14314,\n",
              "             0.14414,     0.14515,     0.14615,     0.14715,     0.14815,     0.14915,     0.15015,     0.15115,     0.15215,     0.15315,     0.15415,     0.15516,     0.15616,     0.15716,     0.15816,     0.15916,     0.16016,     0.16116,     0.16216,     0.16316,     0.16416,     0.16517,     0.16617,     0.16717,\n",
              "             0.16817,     0.16917,     0.17017,     0.17117,     0.17217,     0.17317,     0.17417,     0.17518,     0.17618,     0.17718,     0.17818,     0.17918,     0.18018,     0.18118,     0.18218,     0.18318,     0.18418,     0.18519,     0.18619,     0.18719,     0.18819,     0.18919,     0.19019,     0.19119,\n",
              "             0.19219,     0.19319,     0.19419,      0.1952,      0.1962,      0.1972,      0.1982,      0.1992,      0.2002,      0.2012,      0.2022,      0.2032,      0.2042,     0.20521,     0.20621,     0.20721,     0.20821,     0.20921,     0.21021,     0.21121,     0.21221,     0.21321,     0.21421,     0.21522,\n",
              "             0.21622,     0.21722,     0.21822,     0.21922,     0.22022,     0.22122,     0.22222,     0.22322,     0.22422,     0.22523,     0.22623,     0.22723,     0.22823,     0.22923,     0.23023,     0.23123,     0.23223,     0.23323,     0.23423,     0.23524,     0.23624,     0.23724,     0.23824,     0.23924,\n",
              "             0.24024,     0.24124,     0.24224,     0.24324,     0.24424,     0.24525,     0.24625,     0.24725,     0.24825,     0.24925,     0.25025,     0.25125,     0.25225,     0.25325,     0.25425,     0.25526,     0.25626,     0.25726,     0.25826,     0.25926,     0.26026,     0.26126,     0.26226,     0.26326,\n",
              "             0.26426,     0.26527,     0.26627,     0.26727,     0.26827,     0.26927,     0.27027,     0.27127,     0.27227,     0.27327,     0.27427,     0.27528,     0.27628,     0.27728,     0.27828,     0.27928,     0.28028,     0.28128,     0.28228,     0.28328,     0.28428,     0.28529,     0.28629,     0.28729,\n",
              "             0.28829,     0.28929,     0.29029,     0.29129,     0.29229,     0.29329,     0.29429,      0.2953,      0.2963,      0.2973,      0.2983,      0.2993,      0.3003,      0.3013,      0.3023,      0.3033,      0.3043,     0.30531,     0.30631,     0.30731,     0.30831,     0.30931,     0.31031,     0.31131,\n",
              "             0.31231,     0.31331,     0.31431,     0.31532,     0.31632,     0.31732,     0.31832,     0.31932,     0.32032,     0.32132,     0.32232,     0.32332,     0.32432,     0.32533,     0.32633,     0.32733,     0.32833,     0.32933,     0.33033,     0.33133,     0.33233,     0.33333,     0.33433,     0.33534,\n",
              "             0.33634,     0.33734,     0.33834,     0.33934,     0.34034,     0.34134,     0.34234,     0.34334,     0.34434,     0.34535,     0.34635,     0.34735,     0.34835,     0.34935,     0.35035,     0.35135,     0.35235,     0.35335,     0.35435,     0.35536,     0.35636,     0.35736,     0.35836,     0.35936,\n",
              "             0.36036,     0.36136,     0.36236,     0.36336,     0.36436,     0.36537,     0.36637,     0.36737,     0.36837,     0.36937,     0.37037,     0.37137,     0.37237,     0.37337,     0.37437,     0.37538,     0.37638,     0.37738,     0.37838,     0.37938,     0.38038,     0.38138,     0.38238,     0.38338,\n",
              "             0.38438,     0.38539,     0.38639,     0.38739,     0.38839,     0.38939,     0.39039,     0.39139,     0.39239,     0.39339,     0.39439,      0.3954,      0.3964,      0.3974,      0.3984,      0.3994,      0.4004,      0.4014,      0.4024,      0.4034,      0.4044,     0.40541,     0.40641,     0.40741,\n",
              "             0.40841,     0.40941,     0.41041,     0.41141,     0.41241,     0.41341,     0.41441,     0.41542,     0.41642,     0.41742,     0.41842,     0.41942,     0.42042,     0.42142,     0.42242,     0.42342,     0.42442,     0.42543,     0.42643,     0.42743,     0.42843,     0.42943,     0.43043,     0.43143,\n",
              "             0.43243,     0.43343,     0.43443,     0.43544,     0.43644,     0.43744,     0.43844,     0.43944,     0.44044,     0.44144,     0.44244,     0.44344,     0.44444,     0.44545,     0.44645,     0.44745,     0.44845,     0.44945,     0.45045,     0.45145,     0.45245,     0.45345,     0.45445,     0.45546,\n",
              "             0.45646,     0.45746,     0.45846,     0.45946,     0.46046,     0.46146,     0.46246,     0.46346,     0.46446,     0.46547,     0.46647,     0.46747,     0.46847,     0.46947,     0.47047,     0.47147,     0.47247,     0.47347,     0.47447,     0.47548,     0.47648,     0.47748,     0.47848,     0.47948,\n",
              "             0.48048,     0.48148,     0.48248,     0.48348,     0.48448,     0.48549,     0.48649,     0.48749,     0.48849,     0.48949,     0.49049,     0.49149,     0.49249,     0.49349,     0.49449,      0.4955,      0.4965,      0.4975,      0.4985,      0.4995,      0.5005,      0.5015,      0.5025,      0.5035,\n",
              "              0.5045,     0.50551,     0.50651,     0.50751,     0.50851,     0.50951,     0.51051,     0.51151,     0.51251,     0.51351,     0.51451,     0.51552,     0.51652,     0.51752,     0.51852,     0.51952,     0.52052,     0.52152,     0.52252,     0.52352,     0.52452,     0.52553,     0.52653,     0.52753,\n",
              "             0.52853,     0.52953,     0.53053,     0.53153,     0.53253,     0.53353,     0.53453,     0.53554,     0.53654,     0.53754,     0.53854,     0.53954,     0.54054,     0.54154,     0.54254,     0.54354,     0.54454,     0.54555,     0.54655,     0.54755,     0.54855,     0.54955,     0.55055,     0.55155,\n",
              "             0.55255,     0.55355,     0.55455,     0.55556,     0.55656,     0.55756,     0.55856,     0.55956,     0.56056,     0.56156,     0.56256,     0.56356,     0.56456,     0.56557,     0.56657,     0.56757,     0.56857,     0.56957,     0.57057,     0.57157,     0.57257,     0.57357,     0.57457,     0.57558,\n",
              "             0.57658,     0.57758,     0.57858,     0.57958,     0.58058,     0.58158,     0.58258,     0.58358,     0.58458,     0.58559,     0.58659,     0.58759,     0.58859,     0.58959,     0.59059,     0.59159,     0.59259,     0.59359,     0.59459,      0.5956,      0.5966,      0.5976,      0.5986,      0.5996,\n",
              "              0.6006,      0.6016,      0.6026,      0.6036,      0.6046,     0.60561,     0.60661,     0.60761,     0.60861,     0.60961,     0.61061,     0.61161,     0.61261,     0.61361,     0.61461,     0.61562,     0.61662,     0.61762,     0.61862,     0.61962,     0.62062,     0.62162,     0.62262,     0.62362,\n",
              "             0.62462,     0.62563,     0.62663,     0.62763,     0.62863,     0.62963,     0.63063,     0.63163,     0.63263,     0.63363,     0.63463,     0.63564,     0.63664,     0.63764,     0.63864,     0.63964,     0.64064,     0.64164,     0.64264,     0.64364,     0.64464,     0.64565,     0.64665,     0.64765,\n",
              "             0.64865,     0.64965,     0.65065,     0.65165,     0.65265,     0.65365,     0.65465,     0.65566,     0.65666,     0.65766,     0.65866,     0.65966,     0.66066,     0.66166,     0.66266,     0.66366,     0.66466,     0.66567,     0.66667,     0.66767,     0.66867,     0.66967,     0.67067,     0.67167,\n",
              "             0.67267,     0.67367,     0.67467,     0.67568,     0.67668,     0.67768,     0.67868,     0.67968,     0.68068,     0.68168,     0.68268,     0.68368,     0.68468,     0.68569,     0.68669,     0.68769,     0.68869,     0.68969,     0.69069,     0.69169,     0.69269,     0.69369,     0.69469,      0.6957,\n",
              "              0.6967,      0.6977,      0.6987,      0.6997,      0.7007,      0.7017,      0.7027,      0.7037,      0.7047,     0.70571,     0.70671,     0.70771,     0.70871,     0.70971,     0.71071,     0.71171,     0.71271,     0.71371,     0.71471,     0.71572,     0.71672,     0.71772,     0.71872,     0.71972,\n",
              "             0.72072,     0.72172,     0.72272,     0.72372,     0.72472,     0.72573,     0.72673,     0.72773,     0.72873,     0.72973,     0.73073,     0.73173,     0.73273,     0.73373,     0.73473,     0.73574,     0.73674,     0.73774,     0.73874,     0.73974,     0.74074,     0.74174,     0.74274,     0.74374,\n",
              "             0.74474,     0.74575,     0.74675,     0.74775,     0.74875,     0.74975,     0.75075,     0.75175,     0.75275,     0.75375,     0.75475,     0.75576,     0.75676,     0.75776,     0.75876,     0.75976,     0.76076,     0.76176,     0.76276,     0.76376,     0.76476,     0.76577,     0.76677,     0.76777,\n",
              "             0.76877,     0.76977,     0.77077,     0.77177,     0.77277,     0.77377,     0.77477,     0.77578,     0.77678,     0.77778,     0.77878,     0.77978,     0.78078,     0.78178,     0.78278,     0.78378,     0.78478,     0.78579,     0.78679,     0.78779,     0.78879,     0.78979,     0.79079,     0.79179,\n",
              "             0.79279,     0.79379,     0.79479,      0.7958,      0.7968,      0.7978,      0.7988,      0.7998,      0.8008,      0.8018,      0.8028,      0.8038,      0.8048,     0.80581,     0.80681,     0.80781,     0.80881,     0.80981,     0.81081,     0.81181,     0.81281,     0.81381,     0.81481,     0.81582,\n",
              "             0.81682,     0.81782,     0.81882,     0.81982,     0.82082,     0.82182,     0.82282,     0.82382,     0.82482,     0.82583,     0.82683,     0.82783,     0.82883,     0.82983,     0.83083,     0.83183,     0.83283,     0.83383,     0.83483,     0.83584,     0.83684,     0.83784,     0.83884,     0.83984,\n",
              "             0.84084,     0.84184,     0.84284,     0.84384,     0.84484,     0.84585,     0.84685,     0.84785,     0.84885,     0.84985,     0.85085,     0.85185,     0.85285,     0.85385,     0.85485,     0.85586,     0.85686,     0.85786,     0.85886,     0.85986,     0.86086,     0.86186,     0.86286,     0.86386,\n",
              "             0.86486,     0.86587,     0.86687,     0.86787,     0.86887,     0.86987,     0.87087,     0.87187,     0.87287,     0.87387,     0.87487,     0.87588,     0.87688,     0.87788,     0.87888,     0.87988,     0.88088,     0.88188,     0.88288,     0.88388,     0.88488,     0.88589,     0.88689,     0.88789,\n",
              "             0.88889,     0.88989,     0.89089,     0.89189,     0.89289,     0.89389,     0.89489,      0.8959,      0.8969,      0.8979,      0.8989,      0.8999,      0.9009,      0.9019,      0.9029,      0.9039,      0.9049,     0.90591,     0.90691,     0.90791,     0.90891,     0.90991,     0.91091,     0.91191,\n",
              "             0.91291,     0.91391,     0.91491,     0.91592,     0.91692,     0.91792,     0.91892,     0.91992,     0.92092,     0.92192,     0.92292,     0.92392,     0.92492,     0.92593,     0.92693,     0.92793,     0.92893,     0.92993,     0.93093,     0.93193,     0.93293,     0.93393,     0.93493,     0.93594,\n",
              "             0.93694,     0.93794,     0.93894,     0.93994,     0.94094,     0.94194,     0.94294,     0.94394,     0.94494,     0.94595,     0.94695,     0.94795,     0.94895,     0.94995,     0.95095,     0.95195,     0.95295,     0.95395,     0.95495,     0.95596,     0.95696,     0.95796,     0.95896,     0.95996,\n",
              "             0.96096,     0.96196,     0.96296,     0.96396,     0.96496,     0.96597,     0.96697,     0.96797,     0.96897,     0.96997,     0.97097,     0.97197,     0.97297,     0.97397,     0.97497,     0.97598,     0.97698,     0.97798,     0.97898,     0.97998,     0.98098,     0.98198,     0.98298,     0.98398,\n",
              "             0.98498,     0.98599,     0.98699,     0.98799,     0.98899,     0.98999,     0.99099,     0.99199,     0.99299,     0.99399,     0.99499,       0.996,       0.997,       0.998,       0.999,           1]),\n",
              "  array([[    0.38205,     0.38206,     0.45852, ...,           0,           0,           0],\n",
              "         [    0.21756,     0.21756,     0.27049, ...,           0,           0,           0]]),\n",
              "  'Confidence',\n",
              "  'F1'],\n",
              " [array([          0,    0.001001,    0.002002,    0.003003,    0.004004,    0.005005,    0.006006,    0.007007,    0.008008,    0.009009,     0.01001,    0.011011,    0.012012,    0.013013,    0.014014,    0.015015,    0.016016,    0.017017,    0.018018,    0.019019,     0.02002,    0.021021,    0.022022,    0.023023,\n",
              "            0.024024,    0.025025,    0.026026,    0.027027,    0.028028,    0.029029,     0.03003,    0.031031,    0.032032,    0.033033,    0.034034,    0.035035,    0.036036,    0.037037,    0.038038,    0.039039,     0.04004,    0.041041,    0.042042,    0.043043,    0.044044,    0.045045,    0.046046,    0.047047,\n",
              "            0.048048,    0.049049,     0.05005,    0.051051,    0.052052,    0.053053,    0.054054,    0.055055,    0.056056,    0.057057,    0.058058,    0.059059,     0.06006,    0.061061,    0.062062,    0.063063,    0.064064,    0.065065,    0.066066,    0.067067,    0.068068,    0.069069,     0.07007,    0.071071,\n",
              "            0.072072,    0.073073,    0.074074,    0.075075,    0.076076,    0.077077,    0.078078,    0.079079,     0.08008,    0.081081,    0.082082,    0.083083,    0.084084,    0.085085,    0.086086,    0.087087,    0.088088,    0.089089,     0.09009,    0.091091,    0.092092,    0.093093,    0.094094,    0.095095,\n",
              "            0.096096,    0.097097,    0.098098,    0.099099,      0.1001,      0.1011,      0.1021,      0.1031,      0.1041,     0.10511,     0.10611,     0.10711,     0.10811,     0.10911,     0.11011,     0.11111,     0.11211,     0.11311,     0.11411,     0.11512,     0.11612,     0.11712,     0.11812,     0.11912,\n",
              "             0.12012,     0.12112,     0.12212,     0.12312,     0.12412,     0.12513,     0.12613,     0.12713,     0.12813,     0.12913,     0.13013,     0.13113,     0.13213,     0.13313,     0.13413,     0.13514,     0.13614,     0.13714,     0.13814,     0.13914,     0.14014,     0.14114,     0.14214,     0.14314,\n",
              "             0.14414,     0.14515,     0.14615,     0.14715,     0.14815,     0.14915,     0.15015,     0.15115,     0.15215,     0.15315,     0.15415,     0.15516,     0.15616,     0.15716,     0.15816,     0.15916,     0.16016,     0.16116,     0.16216,     0.16316,     0.16416,     0.16517,     0.16617,     0.16717,\n",
              "             0.16817,     0.16917,     0.17017,     0.17117,     0.17217,     0.17317,     0.17417,     0.17518,     0.17618,     0.17718,     0.17818,     0.17918,     0.18018,     0.18118,     0.18218,     0.18318,     0.18418,     0.18519,     0.18619,     0.18719,     0.18819,     0.18919,     0.19019,     0.19119,\n",
              "             0.19219,     0.19319,     0.19419,      0.1952,      0.1962,      0.1972,      0.1982,      0.1992,      0.2002,      0.2012,      0.2022,      0.2032,      0.2042,     0.20521,     0.20621,     0.20721,     0.20821,     0.20921,     0.21021,     0.21121,     0.21221,     0.21321,     0.21421,     0.21522,\n",
              "             0.21622,     0.21722,     0.21822,     0.21922,     0.22022,     0.22122,     0.22222,     0.22322,     0.22422,     0.22523,     0.22623,     0.22723,     0.22823,     0.22923,     0.23023,     0.23123,     0.23223,     0.23323,     0.23423,     0.23524,     0.23624,     0.23724,     0.23824,     0.23924,\n",
              "             0.24024,     0.24124,     0.24224,     0.24324,     0.24424,     0.24525,     0.24625,     0.24725,     0.24825,     0.24925,     0.25025,     0.25125,     0.25225,     0.25325,     0.25425,     0.25526,     0.25626,     0.25726,     0.25826,     0.25926,     0.26026,     0.26126,     0.26226,     0.26326,\n",
              "             0.26426,     0.26527,     0.26627,     0.26727,     0.26827,     0.26927,     0.27027,     0.27127,     0.27227,     0.27327,     0.27427,     0.27528,     0.27628,     0.27728,     0.27828,     0.27928,     0.28028,     0.28128,     0.28228,     0.28328,     0.28428,     0.28529,     0.28629,     0.28729,\n",
              "             0.28829,     0.28929,     0.29029,     0.29129,     0.29229,     0.29329,     0.29429,      0.2953,      0.2963,      0.2973,      0.2983,      0.2993,      0.3003,      0.3013,      0.3023,      0.3033,      0.3043,     0.30531,     0.30631,     0.30731,     0.30831,     0.30931,     0.31031,     0.31131,\n",
              "             0.31231,     0.31331,     0.31431,     0.31532,     0.31632,     0.31732,     0.31832,     0.31932,     0.32032,     0.32132,     0.32232,     0.32332,     0.32432,     0.32533,     0.32633,     0.32733,     0.32833,     0.32933,     0.33033,     0.33133,     0.33233,     0.33333,     0.33433,     0.33534,\n",
              "             0.33634,     0.33734,     0.33834,     0.33934,     0.34034,     0.34134,     0.34234,     0.34334,     0.34434,     0.34535,     0.34635,     0.34735,     0.34835,     0.34935,     0.35035,     0.35135,     0.35235,     0.35335,     0.35435,     0.35536,     0.35636,     0.35736,     0.35836,     0.35936,\n",
              "             0.36036,     0.36136,     0.36236,     0.36336,     0.36436,     0.36537,     0.36637,     0.36737,     0.36837,     0.36937,     0.37037,     0.37137,     0.37237,     0.37337,     0.37437,     0.37538,     0.37638,     0.37738,     0.37838,     0.37938,     0.38038,     0.38138,     0.38238,     0.38338,\n",
              "             0.38438,     0.38539,     0.38639,     0.38739,     0.38839,     0.38939,     0.39039,     0.39139,     0.39239,     0.39339,     0.39439,      0.3954,      0.3964,      0.3974,      0.3984,      0.3994,      0.4004,      0.4014,      0.4024,      0.4034,      0.4044,     0.40541,     0.40641,     0.40741,\n",
              "             0.40841,     0.40941,     0.41041,     0.41141,     0.41241,     0.41341,     0.41441,     0.41542,     0.41642,     0.41742,     0.41842,     0.41942,     0.42042,     0.42142,     0.42242,     0.42342,     0.42442,     0.42543,     0.42643,     0.42743,     0.42843,     0.42943,     0.43043,     0.43143,\n",
              "             0.43243,     0.43343,     0.43443,     0.43544,     0.43644,     0.43744,     0.43844,     0.43944,     0.44044,     0.44144,     0.44244,     0.44344,     0.44444,     0.44545,     0.44645,     0.44745,     0.44845,     0.44945,     0.45045,     0.45145,     0.45245,     0.45345,     0.45445,     0.45546,\n",
              "             0.45646,     0.45746,     0.45846,     0.45946,     0.46046,     0.46146,     0.46246,     0.46346,     0.46446,     0.46547,     0.46647,     0.46747,     0.46847,     0.46947,     0.47047,     0.47147,     0.47247,     0.47347,     0.47447,     0.47548,     0.47648,     0.47748,     0.47848,     0.47948,\n",
              "             0.48048,     0.48148,     0.48248,     0.48348,     0.48448,     0.48549,     0.48649,     0.48749,     0.48849,     0.48949,     0.49049,     0.49149,     0.49249,     0.49349,     0.49449,      0.4955,      0.4965,      0.4975,      0.4985,      0.4995,      0.5005,      0.5015,      0.5025,      0.5035,\n",
              "              0.5045,     0.50551,     0.50651,     0.50751,     0.50851,     0.50951,     0.51051,     0.51151,     0.51251,     0.51351,     0.51451,     0.51552,     0.51652,     0.51752,     0.51852,     0.51952,     0.52052,     0.52152,     0.52252,     0.52352,     0.52452,     0.52553,     0.52653,     0.52753,\n",
              "             0.52853,     0.52953,     0.53053,     0.53153,     0.53253,     0.53353,     0.53453,     0.53554,     0.53654,     0.53754,     0.53854,     0.53954,     0.54054,     0.54154,     0.54254,     0.54354,     0.54454,     0.54555,     0.54655,     0.54755,     0.54855,     0.54955,     0.55055,     0.55155,\n",
              "             0.55255,     0.55355,     0.55455,     0.55556,     0.55656,     0.55756,     0.55856,     0.55956,     0.56056,     0.56156,     0.56256,     0.56356,     0.56456,     0.56557,     0.56657,     0.56757,     0.56857,     0.56957,     0.57057,     0.57157,     0.57257,     0.57357,     0.57457,     0.57558,\n",
              "             0.57658,     0.57758,     0.57858,     0.57958,     0.58058,     0.58158,     0.58258,     0.58358,     0.58458,     0.58559,     0.58659,     0.58759,     0.58859,     0.58959,     0.59059,     0.59159,     0.59259,     0.59359,     0.59459,      0.5956,      0.5966,      0.5976,      0.5986,      0.5996,\n",
              "              0.6006,      0.6016,      0.6026,      0.6036,      0.6046,     0.60561,     0.60661,     0.60761,     0.60861,     0.60961,     0.61061,     0.61161,     0.61261,     0.61361,     0.61461,     0.61562,     0.61662,     0.61762,     0.61862,     0.61962,     0.62062,     0.62162,     0.62262,     0.62362,\n",
              "             0.62462,     0.62563,     0.62663,     0.62763,     0.62863,     0.62963,     0.63063,     0.63163,     0.63263,     0.63363,     0.63463,     0.63564,     0.63664,     0.63764,     0.63864,     0.63964,     0.64064,     0.64164,     0.64264,     0.64364,     0.64464,     0.64565,     0.64665,     0.64765,\n",
              "             0.64865,     0.64965,     0.65065,     0.65165,     0.65265,     0.65365,     0.65465,     0.65566,     0.65666,     0.65766,     0.65866,     0.65966,     0.66066,     0.66166,     0.66266,     0.66366,     0.66466,     0.66567,     0.66667,     0.66767,     0.66867,     0.66967,     0.67067,     0.67167,\n",
              "             0.67267,     0.67367,     0.67467,     0.67568,     0.67668,     0.67768,     0.67868,     0.67968,     0.68068,     0.68168,     0.68268,     0.68368,     0.68468,     0.68569,     0.68669,     0.68769,     0.68869,     0.68969,     0.69069,     0.69169,     0.69269,     0.69369,     0.69469,      0.6957,\n",
              "              0.6967,      0.6977,      0.6987,      0.6997,      0.7007,      0.7017,      0.7027,      0.7037,      0.7047,     0.70571,     0.70671,     0.70771,     0.70871,     0.70971,     0.71071,     0.71171,     0.71271,     0.71371,     0.71471,     0.71572,     0.71672,     0.71772,     0.71872,     0.71972,\n",
              "             0.72072,     0.72172,     0.72272,     0.72372,     0.72472,     0.72573,     0.72673,     0.72773,     0.72873,     0.72973,     0.73073,     0.73173,     0.73273,     0.73373,     0.73473,     0.73574,     0.73674,     0.73774,     0.73874,     0.73974,     0.74074,     0.74174,     0.74274,     0.74374,\n",
              "             0.74474,     0.74575,     0.74675,     0.74775,     0.74875,     0.74975,     0.75075,     0.75175,     0.75275,     0.75375,     0.75475,     0.75576,     0.75676,     0.75776,     0.75876,     0.75976,     0.76076,     0.76176,     0.76276,     0.76376,     0.76476,     0.76577,     0.76677,     0.76777,\n",
              "             0.76877,     0.76977,     0.77077,     0.77177,     0.77277,     0.77377,     0.77477,     0.77578,     0.77678,     0.77778,     0.77878,     0.77978,     0.78078,     0.78178,     0.78278,     0.78378,     0.78478,     0.78579,     0.78679,     0.78779,     0.78879,     0.78979,     0.79079,     0.79179,\n",
              "             0.79279,     0.79379,     0.79479,      0.7958,      0.7968,      0.7978,      0.7988,      0.7998,      0.8008,      0.8018,      0.8028,      0.8038,      0.8048,     0.80581,     0.80681,     0.80781,     0.80881,     0.80981,     0.81081,     0.81181,     0.81281,     0.81381,     0.81481,     0.81582,\n",
              "             0.81682,     0.81782,     0.81882,     0.81982,     0.82082,     0.82182,     0.82282,     0.82382,     0.82482,     0.82583,     0.82683,     0.82783,     0.82883,     0.82983,     0.83083,     0.83183,     0.83283,     0.83383,     0.83483,     0.83584,     0.83684,     0.83784,     0.83884,     0.83984,\n",
              "             0.84084,     0.84184,     0.84284,     0.84384,     0.84484,     0.84585,     0.84685,     0.84785,     0.84885,     0.84985,     0.85085,     0.85185,     0.85285,     0.85385,     0.85485,     0.85586,     0.85686,     0.85786,     0.85886,     0.85986,     0.86086,     0.86186,     0.86286,     0.86386,\n",
              "             0.86486,     0.86587,     0.86687,     0.86787,     0.86887,     0.86987,     0.87087,     0.87187,     0.87287,     0.87387,     0.87487,     0.87588,     0.87688,     0.87788,     0.87888,     0.87988,     0.88088,     0.88188,     0.88288,     0.88388,     0.88488,     0.88589,     0.88689,     0.88789,\n",
              "             0.88889,     0.88989,     0.89089,     0.89189,     0.89289,     0.89389,     0.89489,      0.8959,      0.8969,      0.8979,      0.8989,      0.8999,      0.9009,      0.9019,      0.9029,      0.9039,      0.9049,     0.90591,     0.90691,     0.90791,     0.90891,     0.90991,     0.91091,     0.91191,\n",
              "             0.91291,     0.91391,     0.91491,     0.91592,     0.91692,     0.91792,     0.91892,     0.91992,     0.92092,     0.92192,     0.92292,     0.92392,     0.92492,     0.92593,     0.92693,     0.92793,     0.92893,     0.92993,     0.93093,     0.93193,     0.93293,     0.93393,     0.93493,     0.93594,\n",
              "             0.93694,     0.93794,     0.93894,     0.93994,     0.94094,     0.94194,     0.94294,     0.94394,     0.94494,     0.94595,     0.94695,     0.94795,     0.94895,     0.94995,     0.95095,     0.95195,     0.95295,     0.95395,     0.95495,     0.95596,     0.95696,     0.95796,     0.95896,     0.95996,\n",
              "             0.96096,     0.96196,     0.96296,     0.96396,     0.96496,     0.96597,     0.96697,     0.96797,     0.96897,     0.96997,     0.97097,     0.97197,     0.97297,     0.97397,     0.97497,     0.97598,     0.97698,     0.97798,     0.97898,     0.97998,     0.98098,     0.98198,     0.98298,     0.98398,\n",
              "             0.98498,     0.98599,     0.98699,     0.98799,     0.98899,     0.98999,     0.99099,     0.99199,     0.99299,     0.99399,     0.99499,       0.996,       0.997,       0.998,       0.999,           1]),\n",
              "  array([[    0.23802,     0.23802,     0.30239, ...,           1,           1,           1],\n",
              "         [    0.12278,     0.12278,     0.15758, ...,           1,           1,           1]]),\n",
              "  'Confidence',\n",
              "  'Precision'],\n",
              " [array([          0,    0.001001,    0.002002,    0.003003,    0.004004,    0.005005,    0.006006,    0.007007,    0.008008,    0.009009,     0.01001,    0.011011,    0.012012,    0.013013,    0.014014,    0.015015,    0.016016,    0.017017,    0.018018,    0.019019,     0.02002,    0.021021,    0.022022,    0.023023,\n",
              "            0.024024,    0.025025,    0.026026,    0.027027,    0.028028,    0.029029,     0.03003,    0.031031,    0.032032,    0.033033,    0.034034,    0.035035,    0.036036,    0.037037,    0.038038,    0.039039,     0.04004,    0.041041,    0.042042,    0.043043,    0.044044,    0.045045,    0.046046,    0.047047,\n",
              "            0.048048,    0.049049,     0.05005,    0.051051,    0.052052,    0.053053,    0.054054,    0.055055,    0.056056,    0.057057,    0.058058,    0.059059,     0.06006,    0.061061,    0.062062,    0.063063,    0.064064,    0.065065,    0.066066,    0.067067,    0.068068,    0.069069,     0.07007,    0.071071,\n",
              "            0.072072,    0.073073,    0.074074,    0.075075,    0.076076,    0.077077,    0.078078,    0.079079,     0.08008,    0.081081,    0.082082,    0.083083,    0.084084,    0.085085,    0.086086,    0.087087,    0.088088,    0.089089,     0.09009,    0.091091,    0.092092,    0.093093,    0.094094,    0.095095,\n",
              "            0.096096,    0.097097,    0.098098,    0.099099,      0.1001,      0.1011,      0.1021,      0.1031,      0.1041,     0.10511,     0.10611,     0.10711,     0.10811,     0.10911,     0.11011,     0.11111,     0.11211,     0.11311,     0.11411,     0.11512,     0.11612,     0.11712,     0.11812,     0.11912,\n",
              "             0.12012,     0.12112,     0.12212,     0.12312,     0.12412,     0.12513,     0.12613,     0.12713,     0.12813,     0.12913,     0.13013,     0.13113,     0.13213,     0.13313,     0.13413,     0.13514,     0.13614,     0.13714,     0.13814,     0.13914,     0.14014,     0.14114,     0.14214,     0.14314,\n",
              "             0.14414,     0.14515,     0.14615,     0.14715,     0.14815,     0.14915,     0.15015,     0.15115,     0.15215,     0.15315,     0.15415,     0.15516,     0.15616,     0.15716,     0.15816,     0.15916,     0.16016,     0.16116,     0.16216,     0.16316,     0.16416,     0.16517,     0.16617,     0.16717,\n",
              "             0.16817,     0.16917,     0.17017,     0.17117,     0.17217,     0.17317,     0.17417,     0.17518,     0.17618,     0.17718,     0.17818,     0.17918,     0.18018,     0.18118,     0.18218,     0.18318,     0.18418,     0.18519,     0.18619,     0.18719,     0.18819,     0.18919,     0.19019,     0.19119,\n",
              "             0.19219,     0.19319,     0.19419,      0.1952,      0.1962,      0.1972,      0.1982,      0.1992,      0.2002,      0.2012,      0.2022,      0.2032,      0.2042,     0.20521,     0.20621,     0.20721,     0.20821,     0.20921,     0.21021,     0.21121,     0.21221,     0.21321,     0.21421,     0.21522,\n",
              "             0.21622,     0.21722,     0.21822,     0.21922,     0.22022,     0.22122,     0.22222,     0.22322,     0.22422,     0.22523,     0.22623,     0.22723,     0.22823,     0.22923,     0.23023,     0.23123,     0.23223,     0.23323,     0.23423,     0.23524,     0.23624,     0.23724,     0.23824,     0.23924,\n",
              "             0.24024,     0.24124,     0.24224,     0.24324,     0.24424,     0.24525,     0.24625,     0.24725,     0.24825,     0.24925,     0.25025,     0.25125,     0.25225,     0.25325,     0.25425,     0.25526,     0.25626,     0.25726,     0.25826,     0.25926,     0.26026,     0.26126,     0.26226,     0.26326,\n",
              "             0.26426,     0.26527,     0.26627,     0.26727,     0.26827,     0.26927,     0.27027,     0.27127,     0.27227,     0.27327,     0.27427,     0.27528,     0.27628,     0.27728,     0.27828,     0.27928,     0.28028,     0.28128,     0.28228,     0.28328,     0.28428,     0.28529,     0.28629,     0.28729,\n",
              "             0.28829,     0.28929,     0.29029,     0.29129,     0.29229,     0.29329,     0.29429,      0.2953,      0.2963,      0.2973,      0.2983,      0.2993,      0.3003,      0.3013,      0.3023,      0.3033,      0.3043,     0.30531,     0.30631,     0.30731,     0.30831,     0.30931,     0.31031,     0.31131,\n",
              "             0.31231,     0.31331,     0.31431,     0.31532,     0.31632,     0.31732,     0.31832,     0.31932,     0.32032,     0.32132,     0.32232,     0.32332,     0.32432,     0.32533,     0.32633,     0.32733,     0.32833,     0.32933,     0.33033,     0.33133,     0.33233,     0.33333,     0.33433,     0.33534,\n",
              "             0.33634,     0.33734,     0.33834,     0.33934,     0.34034,     0.34134,     0.34234,     0.34334,     0.34434,     0.34535,     0.34635,     0.34735,     0.34835,     0.34935,     0.35035,     0.35135,     0.35235,     0.35335,     0.35435,     0.35536,     0.35636,     0.35736,     0.35836,     0.35936,\n",
              "             0.36036,     0.36136,     0.36236,     0.36336,     0.36436,     0.36537,     0.36637,     0.36737,     0.36837,     0.36937,     0.37037,     0.37137,     0.37237,     0.37337,     0.37437,     0.37538,     0.37638,     0.37738,     0.37838,     0.37938,     0.38038,     0.38138,     0.38238,     0.38338,\n",
              "             0.38438,     0.38539,     0.38639,     0.38739,     0.38839,     0.38939,     0.39039,     0.39139,     0.39239,     0.39339,     0.39439,      0.3954,      0.3964,      0.3974,      0.3984,      0.3994,      0.4004,      0.4014,      0.4024,      0.4034,      0.4044,     0.40541,     0.40641,     0.40741,\n",
              "             0.40841,     0.40941,     0.41041,     0.41141,     0.41241,     0.41341,     0.41441,     0.41542,     0.41642,     0.41742,     0.41842,     0.41942,     0.42042,     0.42142,     0.42242,     0.42342,     0.42442,     0.42543,     0.42643,     0.42743,     0.42843,     0.42943,     0.43043,     0.43143,\n",
              "             0.43243,     0.43343,     0.43443,     0.43544,     0.43644,     0.43744,     0.43844,     0.43944,     0.44044,     0.44144,     0.44244,     0.44344,     0.44444,     0.44545,     0.44645,     0.44745,     0.44845,     0.44945,     0.45045,     0.45145,     0.45245,     0.45345,     0.45445,     0.45546,\n",
              "             0.45646,     0.45746,     0.45846,     0.45946,     0.46046,     0.46146,     0.46246,     0.46346,     0.46446,     0.46547,     0.46647,     0.46747,     0.46847,     0.46947,     0.47047,     0.47147,     0.47247,     0.47347,     0.47447,     0.47548,     0.47648,     0.47748,     0.47848,     0.47948,\n",
              "             0.48048,     0.48148,     0.48248,     0.48348,     0.48448,     0.48549,     0.48649,     0.48749,     0.48849,     0.48949,     0.49049,     0.49149,     0.49249,     0.49349,     0.49449,      0.4955,      0.4965,      0.4975,      0.4985,      0.4995,      0.5005,      0.5015,      0.5025,      0.5035,\n",
              "              0.5045,     0.50551,     0.50651,     0.50751,     0.50851,     0.50951,     0.51051,     0.51151,     0.51251,     0.51351,     0.51451,     0.51552,     0.51652,     0.51752,     0.51852,     0.51952,     0.52052,     0.52152,     0.52252,     0.52352,     0.52452,     0.52553,     0.52653,     0.52753,\n",
              "             0.52853,     0.52953,     0.53053,     0.53153,     0.53253,     0.53353,     0.53453,     0.53554,     0.53654,     0.53754,     0.53854,     0.53954,     0.54054,     0.54154,     0.54254,     0.54354,     0.54454,     0.54555,     0.54655,     0.54755,     0.54855,     0.54955,     0.55055,     0.55155,\n",
              "             0.55255,     0.55355,     0.55455,     0.55556,     0.55656,     0.55756,     0.55856,     0.55956,     0.56056,     0.56156,     0.56256,     0.56356,     0.56456,     0.56557,     0.56657,     0.56757,     0.56857,     0.56957,     0.57057,     0.57157,     0.57257,     0.57357,     0.57457,     0.57558,\n",
              "             0.57658,     0.57758,     0.57858,     0.57958,     0.58058,     0.58158,     0.58258,     0.58358,     0.58458,     0.58559,     0.58659,     0.58759,     0.58859,     0.58959,     0.59059,     0.59159,     0.59259,     0.59359,     0.59459,      0.5956,      0.5966,      0.5976,      0.5986,      0.5996,\n",
              "              0.6006,      0.6016,      0.6026,      0.6036,      0.6046,     0.60561,     0.60661,     0.60761,     0.60861,     0.60961,     0.61061,     0.61161,     0.61261,     0.61361,     0.61461,     0.61562,     0.61662,     0.61762,     0.61862,     0.61962,     0.62062,     0.62162,     0.62262,     0.62362,\n",
              "             0.62462,     0.62563,     0.62663,     0.62763,     0.62863,     0.62963,     0.63063,     0.63163,     0.63263,     0.63363,     0.63463,     0.63564,     0.63664,     0.63764,     0.63864,     0.63964,     0.64064,     0.64164,     0.64264,     0.64364,     0.64464,     0.64565,     0.64665,     0.64765,\n",
              "             0.64865,     0.64965,     0.65065,     0.65165,     0.65265,     0.65365,     0.65465,     0.65566,     0.65666,     0.65766,     0.65866,     0.65966,     0.66066,     0.66166,     0.66266,     0.66366,     0.66466,     0.66567,     0.66667,     0.66767,     0.66867,     0.66967,     0.67067,     0.67167,\n",
              "             0.67267,     0.67367,     0.67467,     0.67568,     0.67668,     0.67768,     0.67868,     0.67968,     0.68068,     0.68168,     0.68268,     0.68368,     0.68468,     0.68569,     0.68669,     0.68769,     0.68869,     0.68969,     0.69069,     0.69169,     0.69269,     0.69369,     0.69469,      0.6957,\n",
              "              0.6967,      0.6977,      0.6987,      0.6997,      0.7007,      0.7017,      0.7027,      0.7037,      0.7047,     0.70571,     0.70671,     0.70771,     0.70871,     0.70971,     0.71071,     0.71171,     0.71271,     0.71371,     0.71471,     0.71572,     0.71672,     0.71772,     0.71872,     0.71972,\n",
              "             0.72072,     0.72172,     0.72272,     0.72372,     0.72472,     0.72573,     0.72673,     0.72773,     0.72873,     0.72973,     0.73073,     0.73173,     0.73273,     0.73373,     0.73473,     0.73574,     0.73674,     0.73774,     0.73874,     0.73974,     0.74074,     0.74174,     0.74274,     0.74374,\n",
              "             0.74474,     0.74575,     0.74675,     0.74775,     0.74875,     0.74975,     0.75075,     0.75175,     0.75275,     0.75375,     0.75475,     0.75576,     0.75676,     0.75776,     0.75876,     0.75976,     0.76076,     0.76176,     0.76276,     0.76376,     0.76476,     0.76577,     0.76677,     0.76777,\n",
              "             0.76877,     0.76977,     0.77077,     0.77177,     0.77277,     0.77377,     0.77477,     0.77578,     0.77678,     0.77778,     0.77878,     0.77978,     0.78078,     0.78178,     0.78278,     0.78378,     0.78478,     0.78579,     0.78679,     0.78779,     0.78879,     0.78979,     0.79079,     0.79179,\n",
              "             0.79279,     0.79379,     0.79479,      0.7958,      0.7968,      0.7978,      0.7988,      0.7998,      0.8008,      0.8018,      0.8028,      0.8038,      0.8048,     0.80581,     0.80681,     0.80781,     0.80881,     0.80981,     0.81081,     0.81181,     0.81281,     0.81381,     0.81481,     0.81582,\n",
              "             0.81682,     0.81782,     0.81882,     0.81982,     0.82082,     0.82182,     0.82282,     0.82382,     0.82482,     0.82583,     0.82683,     0.82783,     0.82883,     0.82983,     0.83083,     0.83183,     0.83283,     0.83383,     0.83483,     0.83584,     0.83684,     0.83784,     0.83884,     0.83984,\n",
              "             0.84084,     0.84184,     0.84284,     0.84384,     0.84484,     0.84585,     0.84685,     0.84785,     0.84885,     0.84985,     0.85085,     0.85185,     0.85285,     0.85385,     0.85485,     0.85586,     0.85686,     0.85786,     0.85886,     0.85986,     0.86086,     0.86186,     0.86286,     0.86386,\n",
              "             0.86486,     0.86587,     0.86687,     0.86787,     0.86887,     0.86987,     0.87087,     0.87187,     0.87287,     0.87387,     0.87487,     0.87588,     0.87688,     0.87788,     0.87888,     0.87988,     0.88088,     0.88188,     0.88288,     0.88388,     0.88488,     0.88589,     0.88689,     0.88789,\n",
              "             0.88889,     0.88989,     0.89089,     0.89189,     0.89289,     0.89389,     0.89489,      0.8959,      0.8969,      0.8979,      0.8989,      0.8999,      0.9009,      0.9019,      0.9029,      0.9039,      0.9049,     0.90591,     0.90691,     0.90791,     0.90891,     0.90991,     0.91091,     0.91191,\n",
              "             0.91291,     0.91391,     0.91491,     0.91592,     0.91692,     0.91792,     0.91892,     0.91992,     0.92092,     0.92192,     0.92292,     0.92392,     0.92492,     0.92593,     0.92693,     0.92793,     0.92893,     0.92993,     0.93093,     0.93193,     0.93293,     0.93393,     0.93493,     0.93594,\n",
              "             0.93694,     0.93794,     0.93894,     0.93994,     0.94094,     0.94194,     0.94294,     0.94394,     0.94494,     0.94595,     0.94695,     0.94795,     0.94895,     0.94995,     0.95095,     0.95195,     0.95295,     0.95395,     0.95495,     0.95596,     0.95696,     0.95796,     0.95896,     0.95996,\n",
              "             0.96096,     0.96196,     0.96296,     0.96396,     0.96496,     0.96597,     0.96697,     0.96797,     0.96897,     0.96997,     0.97097,     0.97197,     0.97297,     0.97397,     0.97497,     0.97598,     0.97698,     0.97798,     0.97898,     0.97998,     0.98098,     0.98198,     0.98298,     0.98398,\n",
              "             0.98498,     0.98599,     0.98699,     0.98799,     0.98899,     0.98999,     0.99099,     0.99199,     0.99299,     0.99399,     0.99499,       0.996,       0.997,       0.998,       0.999,           1]),\n",
              "  array([[    0.96753,     0.96753,     0.94805, ...,           0,           0,           0],\n",
              "         [    0.95402,     0.95402,     0.95402, ...,           0,           0,           0]]),\n",
              "  'Confidence',\n",
              "  'Recall']]"
            ]
          },
          "execution_count": 14,
          "metadata": {},
          "output_type": "execute_result"
        }
      ],
      "source": [
        "metrics.curves_results"
      ]
    },
    {
      "cell_type": "code",
      "execution_count": null,
      "metadata": {
        "colab": {
          "base_uri": "https://localhost:8080/"
        },
        "id": "86ClqD_0zMwM",
        "outputId": "cb4b1a7f-7397-40a1-b235-e1f152d4a6c8"
      },
      "outputs": [
        {
          "name": "stdout",
          "output_type": "stream",
          "text": [
            "\u001b[34m\u001b[1mUltralytics HUB: \u001b[0mNew authentication successful ✅\n",
            "Loading trained HUB model https://hub.ultralytics.com/models/RdFDqB6Gr46bTwoaVmbn 🚀\n",
            "Downloading https://storage.googleapis.com/ultralytics-hub.appspot.com/users/eNm8NDwS5JSdjLhK6kO9mU1cxG62/models/RdFDqB6Gr46bTwoaVmbn/best.pt to 'weights/best.pt'...\n"
          ]
        },
        {
          "name": "stderr",
          "output_type": "stream",
          "text": [
            "100%|██████████| 5.97M/5.97M [00:00<00:00, 138MB/s]\n"
          ]
        }
      ],
      "source": [
        "hub.login('b085f2e87bb707bb1c06ee55cce5fc74f8b0646803')\n",
        "model = YOLO('https://hub.ultralytics.com/models/RdFDqB6Gr46bTwoaVmbn')"
      ]
    },
    {
      "cell_type": "code",
      "execution_count": null,
      "metadata": {
        "id": "jVj18nzg6Lg9"
      },
      "outputs": [],
      "source": [
        "model.save('b-model.pt')"
      ]
    },
    {
      "cell_type": "code",
      "execution_count": null,
      "metadata": {
        "colab": {
          "base_uri": "https://localhost:8080/"
        },
        "id": "VVWCnx_V57Zp",
        "outputId": "f2e62bd4-5033-47ff-cd85-71abb43926e9"
      },
      "outputs": [
        {
          "name": "stdout",
          "output_type": "stream",
          "text": [
            "\n",
            "image 1/1 /content/00056_239.jpg: 640x640 1 positive, 244.6ms\n",
            "Speed: 9.2ms preprocess, 244.6ms inference, 1.1ms postprocess per image at shape (1, 3, 640, 640)\n"
          ]
        }
      ],
      "source": [
        "results = model.predict('/content/00056_239.jpg')"
      ]
    },
    {
      "cell_type": "code",
      "execution_count": null,
      "metadata": {
        "colab": {
          "base_uri": "https://localhost:8080/",
          "height": 552
        },
        "id": "KXIKkJVR6XEb",
        "outputId": "8d1155c8-d8d5-4a63-b81d-cf567924b9e7"
      },
      "outputs": [
        {
          "data": {
            "text/html": [
              "<style>\n",
              "      .ndarray_repr .ndarray_raw_data {\n",
              "        display: none;\n",
              "      }\n",
              "      .ndarray_repr.show_array .ndarray_raw_data {\n",
              "        display: block;\n",
              "      }\n",
              "      .ndarray_repr.show_array .ndarray_image_preview {\n",
              "        display: none;\n",
              "      }\n",
              "      </style>\n",
              "      <div id=\"id-d57208e5-514f-4e43-8f99-184d75cb13df\" class=\"ndarray_repr\"><pre>ndarray (512, 512, 3) <button style=\"padding: 0 2px;\">show data</button></pre><img src=\"data:image/png;base64,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\" class=\"ndarray_image_preview\" /><pre class=\"ndarray_raw_data\">array([[[0, 0, 0],\n",
              "        [0, 0, 0],\n",
              "        [0, 0, 0],\n",
              "        ...,\n",
              "        [0, 0, 0],\n",
              "        [0, 0, 0],\n",
              "        [0, 0, 0]],\n",
              "\n",
              "       [[0, 0, 0],\n",
              "        [0, 0, 0],\n",
              "        [0, 0, 0],\n",
              "        ...,\n",
              "        [0, 0, 0],\n",
              "        [0, 0, 0],\n",
              "        [0, 0, 0]],\n",
              "\n",
              "       [[0, 0, 0],\n",
              "        [0, 0, 0],\n",
              "        [0, 0, 0],\n",
              "        ...,\n",
              "        [0, 0, 0],\n",
              "        [0, 0, 0],\n",
              "        [0, 0, 0]],\n",
              "\n",
              "       ...,\n",
              "\n",
              "       [[0, 0, 0],\n",
              "        [0, 0, 0],\n",
              "        [0, 0, 0],\n",
              "        ...,\n",
              "        [0, 0, 0],\n",
              "        [0, 0, 0],\n",
              "        [0, 0, 0]],\n",
              "\n",
              "       [[0, 0, 0],\n",
              "        [0, 0, 0],\n",
              "        [0, 0, 0],\n",
              "        ...,\n",
              "        [0, 0, 0],\n",
              "        [0, 0, 0],\n",
              "        [0, 0, 0]],\n",
              "\n",
              "       [[0, 0, 0],\n",
              "        [0, 0, 0],\n",
              "        [0, 0, 0],\n",
              "        ...,\n",
              "        [0, 0, 0],\n",
              "        [0, 0, 0],\n",
              "        [0, 0, 0]]], dtype=uint8)</pre></div><script>\n",
              "      (() => {\n",
              "      const titles = ['show data', 'hide data'];\n",
              "      let index = 0\n",
              "      document.querySelector('#id-d57208e5-514f-4e43-8f99-184d75cb13df button').onclick = (e) => {\n",
              "        document.querySelector('#id-d57208e5-514f-4e43-8f99-184d75cb13df').classList.toggle('show_array');\n",
              "        index = (++index) % 2;\n",
              "        document.querySelector('#id-d57208e5-514f-4e43-8f99-184d75cb13df button').textContent = titles[index];\n",
              "        e.preventDefault();\n",
              "        e.stopPropagation();\n",
              "      }\n",
              "      })();\n",
              "    </script>"
            ],
            "text/plain": [
              "array([[[0, 0, 0],\n",
              "        [0, 0, 0],\n",
              "        [0, 0, 0],\n",
              "        ...,\n",
              "        [0, 0, 0],\n",
              "        [0, 0, 0],\n",
              "        [0, 0, 0]],\n",
              "\n",
              "       [[0, 0, 0],\n",
              "        [0, 0, 0],\n",
              "        [0, 0, 0],\n",
              "        ...,\n",
              "        [0, 0, 0],\n",
              "        [0, 0, 0],\n",
              "        [0, 0, 0]],\n",
              "\n",
              "       [[0, 0, 0],\n",
              "        [0, 0, 0],\n",
              "        [0, 0, 0],\n",
              "        ...,\n",
              "        [0, 0, 0],\n",
              "        [0, 0, 0],\n",
              "        [0, 0, 0]],\n",
              "\n",
              "       ...,\n",
              "\n",
              "       [[0, 0, 0],\n",
              "        [0, 0, 0],\n",
              "        [0, 0, 0],\n",
              "        ...,\n",
              "        [0, 0, 0],\n",
              "        [0, 0, 0],\n",
              "        [0, 0, 0]],\n",
              "\n",
              "       [[0, 0, 0],\n",
              "        [0, 0, 0],\n",
              "        [0, 0, 0],\n",
              "        ...,\n",
              "        [0, 0, 0],\n",
              "        [0, 0, 0],\n",
              "        [0, 0, 0]],\n",
              "\n",
              "       [[0, 0, 0],\n",
              "        [0, 0, 0],\n",
              "        [0, 0, 0],\n",
              "        ...,\n",
              "        [0, 0, 0],\n",
              "        [0, 0, 0],\n",
              "        [0, 0, 0]]], dtype=uint8)"
            ]
          },
          "execution_count": 34,
          "metadata": {},
          "output_type": "execute_result"
        }
      ],
      "source": [
        "results[0].plot()"
      ]
    },
    {
      "cell_type": "code",
      "execution_count": null,
      "metadata": {
        "colab": {
          "base_uri": "https://localhost:8080/"
        },
        "id": "Ub6gje5b0Fa4",
        "outputId": "458c40c9-2d73-482c-8ea3-70e510b355fd"
      },
      "outputs": [
        {
          "name": "stdout",
          "output_type": "stream",
          "text": [
            "True\n"
          ]
        }
      ],
      "source": [
        "from ultralytics import hub,YOLO\n",
        "import torch\n",
        "print(not torch.cuda.is_available())"
      ]
    },
    {
      "cell_type": "markdown",
      "metadata": {
        "id": "Czs2NB-X2BWj"
      },
      "source": []
    },
    {
      "cell_type": "code",
      "execution_count": null,
      "metadata": {
        "id": "i3jSBb5T0rZ5"
      },
      "outputs": [],
      "source": []
    },
    {
      "cell_type": "code",
      "execution_count": null,
      "metadata": {
        "colab": {
          "base_uri": "https://localhost:8080/",
          "height": 1000
        },
        "id": "hVlYc2JxJ7cY",
        "outputId": "e5b15430-0276-45a7-b123-2532b022550e"
      },
      "outputs": [
        {
          "name": "stdout",
          "output_type": "stream",
          "text": [
            "\n",
            "image 1/1 /content/val_1 (15).jpg: 640x640 1 negative, 1 positive, 244.3ms\n",
            "Speed: 8.8ms preprocess, 244.3ms inference, 1.5ms postprocess per image at shape (1, 3, 640, 640)\n",
            "\n",
            "WARNING ⚠️ torch.Tensor inputs should be normalized 0.0-1.0 but max value is 2.517995834350586. Dividing input by 255.\n",
            "0: 640x640 (no detections), 221.0ms\n",
            "Speed: 0.0ms preprocess, 221.0ms inference, 5.9ms postprocess per image at shape (1, 3, 640, 640)\n",
            "ultralytics.engine.results.Results object with attributes:\n",
            "\n",
            "boxes: ultralytics.engine.results.Boxes object\n",
            "keypoints: None\n",
            "masks: None\n",
            "names: {0: 'negative', 1: 'positive'}\n",
            "obb: None\n",
            "orig_img: array([[[0, 0, 0],\n",
            "        [0, 0, 0],\n",
            "        [0, 0, 0],\n",
            "        ...,\n",
            "        [0, 0, 0],\n",
            "        [0, 0, 0],\n",
            "        [0, 0, 0]],\n",
            "\n",
            "       [[0, 0, 0],\n",
            "        [0, 0, 0],\n",
            "        [0, 0, 0],\n",
            "        ...,\n",
            "        [0, 0, 0],\n",
            "        [0, 0, 0],\n",
            "        [0, 0, 0]],\n",
            "\n",
            "       [[0, 0, 0],\n",
            "        [0, 0, 0],\n",
            "        [0, 0, 0],\n",
            "        ...,\n",
            "        [0, 0, 0],\n",
            "        [0, 0, 0],\n",
            "        [0, 0, 0]],\n",
            "\n",
            "       ...,\n",
            "\n",
            "       [[0, 0, 0],\n",
            "        [0, 0, 0],\n",
            "        [0, 0, 0],\n",
            "        ...,\n",
            "        [0, 0, 0],\n",
            "        [0, 0, 0],\n",
            "        [0, 0, 0]],\n",
            "\n",
            "       [[0, 0, 0],\n",
            "        [0, 0, 0],\n",
            "        [0, 0, 0],\n",
            "        ...,\n",
            "        [0, 0, 0],\n",
            "        [0, 0, 0],\n",
            "        [0, 0, 0]],\n",
            "\n",
            "       [[0, 0, 0],\n",
            "        [0, 0, 0],\n",
            "        [0, 0, 0],\n",
            "        ...,\n",
            "        [0, 0, 0],\n",
            "        [0, 0, 0],\n",
            "        [0, 0, 0]]], dtype=uint8)\n",
            "orig_shape: (640, 640)\n",
            "path: 'image0.jpg'\n",
            "probs: None\n",
            "save_dir: 'runs/detect/predict'\n",
            "speed: {'preprocess': 0.020742416381835938, 'inference': 221.00210189819336, 'postprocess': 5.886554718017578}\n"
          ]
        },
        {
          "data": {
            "image/png": "[encoded data removed]",
            "text/plain": [
              "<Figure size 640x480 with 1 Axes>"
            ]
          },
          "metadata": {},
          "output_type": "display_data"
        },
        {
          "data": {
            "text/html": [
              "<style>\n",
              "      .ndarray_repr .ndarray_raw_data {\n",
              "        display: none;\n",
              "      }\n",
              "      .ndarray_repr.show_array .ndarray_raw_data {\n",
              "        display: block;\n",
              "      }\n",
              "      .ndarray_repr.show_array .ndarray_image_preview {\n",
              "        display: none;\n",
              "      }\n",
              "      </style>\n",
              "      <div id=\"id-2527f671-9649-4c10-879d-7ce3ae66c7e8\" class=\"ndarray_repr\"><pre>ndarray (512, 512, 3) <button style=\"padding: 0 2px;\">show data</button></pre><img src=\"data:image/png;base64,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\" class=\"ndarray_image_preview\" /><pre class=\"ndarray_raw_data\">array([[[0, 0, 0],\n",
              "        [0, 0, 0],\n",
              "        [0, 0, 0],\n",
              "        ...,\n",
              "        [0, 0, 0],\n",
              "        [0, 0, 0],\n",
              "        [0, 0, 0]],\n",
              "\n",
              "       [[0, 0, 0],\n",
              "        [0, 0, 0],\n",
              "        [0, 0, 0],\n",
              "        ...,\n",
              "        [0, 0, 0],\n",
              "        [0, 0, 0],\n",
              "        [0, 0, 0]],\n",
              "\n",
              "       [[0, 0, 0],\n",
              "        [0, 0, 0],\n",
              "        [0, 0, 0],\n",
              "        ...,\n",
              "        [0, 0, 0],\n",
              "        [0, 0, 0],\n",
              "        [0, 0, 0]],\n",
              "\n",
              "       ...,\n",
              "\n",
              "       [[0, 0, 0],\n",
              "        [0, 0, 0],\n",
              "        [0, 0, 0],\n",
              "        ...,\n",
              "        [0, 0, 0],\n",
              "        [0, 0, 0],\n",
              "        [0, 0, 0]],\n",
              "\n",
              "       [[0, 0, 0],\n",
              "        [0, 0, 0],\n",
              "        [0, 0, 0],\n",
              "        ...,\n",
              "        [0, 0, 0],\n",
              "        [0, 0, 0],\n",
              "        [0, 0, 0]],\n",
              "\n",
              "       [[0, 0, 0],\n",
              "        [0, 0, 0],\n",
              "        [0, 0, 0],\n",
              "        ...,\n",
              "        [0, 0, 0],\n",
              "        [0, 0, 0],\n",
              "        [0, 0, 0]]], dtype=uint8)</pre></div><script>\n",
              "      (() => {\n",
              "      const titles = ['show data', 'hide data'];\n",
              "      let index = 0\n",
              "      document.querySelector('#id-2527f671-9649-4c10-879d-7ce3ae66c7e8 button').onclick = (e) => {\n",
              "        document.querySelector('#id-2527f671-9649-4c10-879d-7ce3ae66c7e8').classList.toggle('show_array');\n",
              "        index = (++index) % 2;\n",
              "        document.querySelector('#id-2527f671-9649-4c10-879d-7ce3ae66c7e8 button').textContent = titles[index];\n",
              "        e.preventDefault();\n",
              "        e.stopPropagation();\n",
              "      }\n",
              "      })();\n",
              "    </script>"
            ],
            "text/plain": [
              "array([[[0, 0, 0],\n",
              "        [0, 0, 0],\n",
              "        [0, 0, 0],\n",
              "        ...,\n",
              "        [0, 0, 0],\n",
              "        [0, 0, 0],\n",
              "        [0, 0, 0]],\n",
              "\n",
              "       [[0, 0, 0],\n",
              "        [0, 0, 0],\n",
              "        [0, 0, 0],\n",
              "        ...,\n",
              "        [0, 0, 0],\n",
              "        [0, 0, 0],\n",
              "        [0, 0, 0]],\n",
              "\n",
              "       [[0, 0, 0],\n",
              "        [0, 0, 0],\n",
              "        [0, 0, 0],\n",
              "        ...,\n",
              "        [0, 0, 0],\n",
              "        [0, 0, 0],\n",
              "        [0, 0, 0]],\n",
              "\n",
              "       ...,\n",
              "\n",
              "       [[0, 0, 0],\n",
              "        [0, 0, 0],\n",
              "        [0, 0, 0],\n",
              "        ...,\n",
              "        [0, 0, 0],\n",
              "        [0, 0, 0],\n",
              "        [0, 0, 0]],\n",
              "\n",
              "       [[0, 0, 0],\n",
              "        [0, 0, 0],\n",
              "        [0, 0, 0],\n",
              "        ...,\n",
              "        [0, 0, 0],\n",
              "        [0, 0, 0],\n",
              "        [0, 0, 0]],\n",
              "\n",
              "       [[0, 0, 0],\n",
              "        [0, 0, 0],\n",
              "        [0, 0, 0],\n",
              "        ...,\n",
              "        [0, 0, 0],\n",
              "        [0, 0, 0],\n",
              "        [0, 0, 0]]], dtype=uint8)"
            ]
          },
          "execution_count": 13,
          "metadata": {},
          "output_type": "execute_result"
        }
      ],
      "source": [
        "from ultralytics import YOLO\n",
        "import cv2\n",
        "import torchvision.transforms as transforms\n",
        "from PIL import Image\n",
        "import torch\n",
        "import matplotlib.pyplot as plt\n",
        "\n",
        "# Load a model\n",
        "model = YOLO(\"b-model.pt\")\n",
        "\n",
        "results = model.predict(\"val_1 (15).jpg\")\n",
        "\n",
        "transform = transforms.Compose([\n",
        "    transforms.Resize((640, 640)),\n",
        "    transforms.ToTensor(),\n",
        "    transforms.Normalize(mean=[0.485, 0.456, 0.406], std=[0.229, 0.224, 0.225]),\n",
        "])\n",
        "\n",
        "# Load and preprocess the image\n",
        "image = Image.open('val_1 (15).jpg').convert('RGB') # Ensure the image is in RGB format\n",
        "input_tensor = transform(image).unsqueeze(0)  # Add batch dimension\n",
        "\n",
        "# Predict using the model\n",
        "with torch.no_grad():\n",
        "    outputs = model(input_tensor)\n",
        "\n",
        "# Print the structure of outputs to understand its format\n",
        "print(outputs[0])\n",
        "# Depending on the structure, you might need to adjust how you extract boxes, scores, and labels\n",
        "\n",
        "# Example: If 'boxes' are directly in outputs[0]\n",
        "boxes = outputs[0].boxes.xyxy\n",
        "scores = outputs[0].boxes.conf\n",
        "labels = outputs[0].boxes.cls\n",
        "\n",
        "# Visualize the bounding boxes on the image\n",
        "def plot_boxes(image, boxes, labels, scores, threshold=0.5):\n",
        "    plt.imshow(image)\n",
        "    ax = plt.gca()\n",
        "    for box, label, score in zip(boxes, labels, scores):\n",
        "        if score > threshold:\n",
        "            x1, y1, x2, y2 = box\n",
        "            rect = plt.Rectangle((x1, y1), x2 - x1, y2 - y1, fill=False, color='red', linewidth=2)\n",
        "            ax.add_patch(rect)\n",
        "            ax.text(x1, y1, f'Label: {int(label)}, Score: {score:.2f}', bbox=dict(facecolor='yellow', alpha=0.5))\n",
        "    plt.show()\n",
        "\n",
        "# Plot the boxes on the original image\n",
        "plot_boxes(image, boxes, labels, scores)\n",
        "\n",
        "# Save the image with bounding boxes (adjust the method based on your model's output)\n",
        "results[0].plot()"
      ]
    },
    {
      "cell_type": "code",
      "execution_count": null,
      "metadata": {
        "colab": {
          "base_uri": "https://localhost:8080/"
        },
        "id": "K1gRA4EJLyzm",
        "outputId": "c3254ed9-ee1e-4fbb-adc1-00a09ad9e76c"
      },
      "outputs": [
        {
          "data": {
            "text/plain": [
              "True"
            ]
          },
          "execution_count": 12,
          "metadata": {},
          "output_type": "execute_result"
        }
      ],
      "source": [
        "cv2.imwrite('results.png', results[0].plot())"
      ]
    },
    {
      "cell_type": "code",
      "execution_count": null,
      "metadata": {
        "colab": {
          "base_uri": "https://localhost:8080/",
          "height": 510
        },
        "id": "09YO4QtEWu9k",
        "outputId": "44a78344-f497-4bea-bc08-2743ec478b76"
      },
      "outputs": [
        {
          "name": "stdout",
          "output_type": "stream",
          "text": [
            "\n",
            "image 1/1 /content/brain.jpg: 1024x1024 1 positive, 13.3ms\n",
            "Speed: 19.3ms preprocess, 13.3ms inference, 739.6ms postprocess per image at shape (1, 3, 1024, 1024)\n",
            "Detected Tumor: Meningioma, Stage: Stage 2, Confidence: 0.89\n",
            "Tumor size: 2.43 cm x 1.64 cm\n",
            "Bounding box: [x_min: 135.5170440673828, y_min: 198.61065673828125, x_max: 184.1683807373047, y_max: 231.3472900390625]\n"
          ]
        },
        {
          "data": {
            "image/png": "[encoded data removed]",
            "text/plain": [
              "<Figure size 640x480 with 1 Axes>"
            ]
          },
          "metadata": {},
          "output_type": "display_data"
        }
      ],
      "source": [
        "from ultralytics import YOLO\n",
        "import cv2\n",
        "import   matplotlib.pyplot as plt\n",
        "from torchvision import transforms\n",
        "from PIL import Image\n",
        "\n",
        "imgPath=\"/content/brain.jpg\"\n",
        "model = YOLO('/content/best.pt')\n",
        "\n",
        "results = model.predict(imgPath, conf=0.25, iou=0.4)\n",
        "\n",
        "\n",
        "transform = transforms.Compose([\n",
        "    transforms.Resize((640, 640)),\n",
        "    transforms.Grayscale(num_output_channels=3),\n",
        "    transforms.ToTensor(),\n",
        "    transforms.Normalize(mean=[0.485, 0.456, 0.406], std=[0.229, 0.224, 0.225]),\n",
        "])\n",
        "\n",
        "image = Image.open(imgPath)\n",
        "input_tensor = transform(image).unsqueeze(0)\n",
        "\n",
        "# Extract results\n",
        "for result in results:\n",
        "    boxes = result.boxes\n",
        "    if len(boxes) > 0:\n",
        "        best_idx = boxes.conf.argmax()\n",
        "        best_box = boxes[best_idx]\n",
        "        x_min, y_min, x_max, y_max = best_box.xyxy[0].tolist()\n",
        "        class_id = best_box.cls.item()\n",
        "        conf = best_box.conf.item()\n",
        "\n",
        "        # Extract tumor size (in pixels)\n",
        "        tumor_width_pixels = x_max - x_min\n",
        "        tumor_height_pixels = y_max - y_min\n",
        "\n",
        "        # Assuming each pixel represents a specific physical size (e.g., 0.5mm per pixel)\n",
        "        pixel_spacing_mm = 0.5\n",
        "        tumor_width_mm = tumor_width_pixels * pixel_spacing_mm\n",
        "        tumor_height_mm = tumor_height_pixels * pixel_spacing_mm\n",
        "\n",
        "        tumor_width_cm = tumor_width_mm / 10\n",
        "        tumor_height_cm = tumor_height_mm / 10\n",
        "\n",
        "        # Determine tumor type and stage (custom logic can be applied here)\n",
        "        tumor_type, tumor_stage = '', ''\n",
        "        if class_id == 0:\n",
        "            tumor_type = \"Glioma\"\n",
        "        elif class_id == 1:\n",
        "            tumor_type = \"Meningioma\"\n",
        "        elif class_id == 2:\n",
        "            tumor_type = \"Pituitary tumor\"\n",
        "        elif class_id == 3:\n",
        "            tumor_type = \"Acoustic neuroma\"\n",
        "\n",
        "        # Print details\n",
        "        print(f\"Detected Tumor: {tumor_type}, Confidence: {conf:.2f}\")\n",
        "        print(f\"Tumor size: {tumor_width_cm:.2f} cm x {tumor_height_cm:.2f} cm\")\n",
        "        print(f\"Bounding box: [x_min: {x_min}, y_min: {y_min}, x_max: {x_max}, y_max: {y_max}]\")\n",
        "\n",
        "        # Load the image using OpenCV for drawing\n",
        "        img = cv2.imread(imgPath)  # Replace with your image path\n",
        "        cv2.rectangle(img, (int(x_min), int(y_min)), (int(x_max), int(y_max)), (255, 0, 0), 2)\n",
        "        cv2.putText(img, f'{tumor_type}, {tumor_stage}', (int(x_min), int(y_min) - 10),\n",
        "                    cv2.FONT_HERSHEY_SIMPLEX, 0.9, (255, 0, 0), 2)\n",
        "\n",
        "        # Convert image from BGR to RGB for display\n",
        "        plt.imshow(cv2.cvtColor(img, cv2.COLOR_BGR2RGB))\n",
        "        plt.axis('off')  # Hide axes\n",
        "        plt.show()\n",
        "    else:\n",
        "        print(\"No detections found.\")\n"
      ]
    }
  ],
  "metadata": {
    "accelerator": "GPU",
    "colab": {
      "gpuType": "T4",
      "provenance": []
    },
    "kernelspec": {
      "display_name": "Python 3",
      "name": "python3"
    },
    "language_info": {
      "name": "python"
    }
  },
  "nbformat": 4,
  "nbformat_minor": 0
}